{
 "cells": [
  {
   "cell_type": "markdown",
   "metadata": {},
   "source": [
    "# Preprocessing"
   ]
  },
  {
   "cell_type": "code",
   "execution_count": 1,
   "metadata": {},
   "outputs": [],
   "source": [
    "# import packages\n",
    "import numpy as np\n",
    "import pandas as pd\n",
    "import statsmodels.api as sm\n",
    "from statsmodels.formula.api import ols\n",
    "from scipy import stats\n",
    "import matplotlib.pyplot as plt\n",
    "pd.options.display.float_format = '{:,}'.format\n",
    "import seaborn as sns\n",
    "%matplotlib inline"
   ]
  },
  {
   "cell_type": "code",
   "execution_count": 2,
   "metadata": {},
   "outputs": [],
   "source": [
    "# import data\n",
    "file_name = '../../Data/Wage.csv'\n",
    "Wage = pd.read_csv(file_name, index_col='SlNo')"
   ]
  },
  {
   "cell_type": "code",
   "execution_count": 3,
   "metadata": {},
   "outputs": [
    {
     "data": {
      "text/html": [
       "<div>\n",
       "<style scoped>\n",
       "    .dataframe tbody tr th:only-of-type {\n",
       "        vertical-align: middle;\n",
       "    }\n",
       "\n",
       "    .dataframe tbody tr th {\n",
       "        vertical-align: top;\n",
       "    }\n",
       "\n",
       "    .dataframe thead th {\n",
       "        text-align: right;\n",
       "    }\n",
       "</style>\n",
       "<table border=\"1\" class=\"dataframe\">\n",
       "  <thead>\n",
       "    <tr style=\"text-align: right;\">\n",
       "      <th></th>\n",
       "      <th>year</th>\n",
       "      <th>age</th>\n",
       "      <th>maritl</th>\n",
       "      <th>race</th>\n",
       "      <th>education</th>\n",
       "      <th>region</th>\n",
       "      <th>jobclass</th>\n",
       "      <th>health</th>\n",
       "      <th>health_ins</th>\n",
       "      <th>logwage</th>\n",
       "      <th>wage</th>\n",
       "    </tr>\n",
       "    <tr>\n",
       "      <th>SlNo</th>\n",
       "      <th></th>\n",
       "      <th></th>\n",
       "      <th></th>\n",
       "      <th></th>\n",
       "      <th></th>\n",
       "      <th></th>\n",
       "      <th></th>\n",
       "      <th></th>\n",
       "      <th></th>\n",
       "      <th></th>\n",
       "      <th></th>\n",
       "    </tr>\n",
       "  </thead>\n",
       "  <tbody>\n",
       "    <tr>\n",
       "      <th>231655</th>\n",
       "      <td>2006</td>\n",
       "      <td>18</td>\n",
       "      <td>1. Never Married</td>\n",
       "      <td>1. White</td>\n",
       "      <td>1. &lt; HS Grad</td>\n",
       "      <td>2. Middle Atlantic</td>\n",
       "      <td>1. Industrial</td>\n",
       "      <td>1. &lt;=Good</td>\n",
       "      <td>2. No</td>\n",
       "      <td>4.31806333496276</td>\n",
       "      <td>75.0431540173515</td>\n",
       "    </tr>\n",
       "    <tr>\n",
       "      <th>86582</th>\n",
       "      <td>2004</td>\n",
       "      <td>24</td>\n",
       "      <td>1. Never Married</td>\n",
       "      <td>1. White</td>\n",
       "      <td>4. College Grad</td>\n",
       "      <td>2. Middle Atlantic</td>\n",
       "      <td>2. Information</td>\n",
       "      <td>2. &gt;=Very Good</td>\n",
       "      <td>2. No</td>\n",
       "      <td>4.25527250510331</td>\n",
       "      <td>70.4760196469445</td>\n",
       "    </tr>\n",
       "    <tr>\n",
       "      <th>161300</th>\n",
       "      <td>2003</td>\n",
       "      <td>45</td>\n",
       "      <td>2. Married</td>\n",
       "      <td>1. White</td>\n",
       "      <td>3. Some College</td>\n",
       "      <td>2. Middle Atlantic</td>\n",
       "      <td>1. Industrial</td>\n",
       "      <td>1. &lt;=Good</td>\n",
       "      <td>1. Yes</td>\n",
       "      <td>4.8750612633917</td>\n",
       "      <td>130.982177377461</td>\n",
       "    </tr>\n",
       "    <tr>\n",
       "      <th>155159</th>\n",
       "      <td>2003</td>\n",
       "      <td>43</td>\n",
       "      <td>2. Married</td>\n",
       "      <td>3. Asian</td>\n",
       "      <td>4. College Grad</td>\n",
       "      <td>2. Middle Atlantic</td>\n",
       "      <td>2. Information</td>\n",
       "      <td>2. &gt;=Very Good</td>\n",
       "      <td>1. Yes</td>\n",
       "      <td>5.04139268515823</td>\n",
       "      <td>154.68529299563</td>\n",
       "    </tr>\n",
       "    <tr>\n",
       "      <th>11443</th>\n",
       "      <td>2005</td>\n",
       "      <td>50</td>\n",
       "      <td>4. Divorced</td>\n",
       "      <td>1. White</td>\n",
       "      <td>2. HS Grad</td>\n",
       "      <td>2. Middle Atlantic</td>\n",
       "      <td>2. Information</td>\n",
       "      <td>1. &lt;=Good</td>\n",
       "      <td>1. Yes</td>\n",
       "      <td>4.31806333496276</td>\n",
       "      <td>75.0431540173515</td>\n",
       "    </tr>\n",
       "  </tbody>\n",
       "</table>\n",
       "</div>"
      ],
      "text/plain": [
       "        year  age            maritl      race        education  \\\n",
       "SlNo                                                             \n",
       "231655  2006   18  1. Never Married  1. White     1. < HS Grad   \n",
       "86582   2004   24  1. Never Married  1. White  4. College Grad   \n",
       "161300  2003   45        2. Married  1. White  3. Some College   \n",
       "155159  2003   43        2. Married  3. Asian  4. College Grad   \n",
       "11443   2005   50       4. Divorced  1. White       2. HS Grad   \n",
       "\n",
       "                    region        jobclass          health health_ins  \\\n",
       "SlNo                                                                    \n",
       "231655  2. Middle Atlantic   1. Industrial       1. <=Good      2. No   \n",
       "86582   2. Middle Atlantic  2. Information  2. >=Very Good      2. No   \n",
       "161300  2. Middle Atlantic   1. Industrial       1. <=Good     1. Yes   \n",
       "155159  2. Middle Atlantic  2. Information  2. >=Very Good     1. Yes   \n",
       "11443   2. Middle Atlantic  2. Information       1. <=Good     1. Yes   \n",
       "\n",
       "                logwage             wage  \n",
       "SlNo                                      \n",
       "231655 4.31806333496276 75.0431540173515  \n",
       "86582  4.25527250510331 70.4760196469445  \n",
       "161300  4.8750612633917 130.982177377461  \n",
       "155159 5.04139268515823  154.68529299563  \n",
       "11443  4.31806333496276 75.0431540173515  "
      ]
     },
     "execution_count": 3,
     "metadata": {},
     "output_type": "execute_result"
    }
   ],
   "source": [
    "Wage.head()"
   ]
  },
  {
   "cell_type": "code",
   "execution_count": 4,
   "metadata": {},
   "outputs": [
    {
     "name": "stdout",
     "output_type": "stream",
     "text": [
      "<class 'pandas.core.frame.DataFrame'>\n",
      "Int64Index: 3000 entries, 231655 to 453557\n",
      "Data columns (total 11 columns):\n",
      " #   Column      Non-Null Count  Dtype  \n",
      "---  ------      --------------  -----  \n",
      " 0   year        3000 non-null   int64  \n",
      " 1   age         3000 non-null   int64  \n",
      " 2   maritl      3000 non-null   object \n",
      " 3   race        3000 non-null   object \n",
      " 4   education   3000 non-null   object \n",
      " 5   region      3000 non-null   object \n",
      " 6   jobclass    3000 non-null   object \n",
      " 7   health      3000 non-null   object \n",
      " 8   health_ins  3000 non-null   object \n",
      " 9   logwage     3000 non-null   float64\n",
      " 10  wage        3000 non-null   float64\n",
      "dtypes: float64(2), int64(2), object(7)\n",
      "memory usage: 281.2+ KB\n"
     ]
    }
   ],
   "source": [
    "Wage.info()"
   ]
  },
  {
   "cell_type": "code",
   "execution_count": 5,
   "metadata": {},
   "outputs": [
    {
     "data": {
      "text/html": [
       "<div>\n",
       "<style scoped>\n",
       "    .dataframe tbody tr th:only-of-type {\n",
       "        vertical-align: middle;\n",
       "    }\n",
       "\n",
       "    .dataframe tbody tr th {\n",
       "        vertical-align: top;\n",
       "    }\n",
       "\n",
       "    .dataframe thead th {\n",
       "        text-align: right;\n",
       "    }\n",
       "</style>\n",
       "<table border=\"1\" class=\"dataframe\">\n",
       "  <thead>\n",
       "    <tr style=\"text-align: right;\">\n",
       "      <th></th>\n",
       "      <th>count</th>\n",
       "      <th>mean</th>\n",
       "      <th>std</th>\n",
       "      <th>min</th>\n",
       "      <th>25%</th>\n",
       "      <th>50%</th>\n",
       "      <th>75%</th>\n",
       "      <th>max</th>\n",
       "    </tr>\n",
       "  </thead>\n",
       "  <tbody>\n",
       "    <tr>\n",
       "      <th>year</th>\n",
       "      <td>3,000.0</td>\n",
       "      <td>2,005.79</td>\n",
       "      <td>2.03</td>\n",
       "      <td>2,003.0</td>\n",
       "      <td>2,004.0</td>\n",
       "      <td>2,006.0</td>\n",
       "      <td>2,008.0</td>\n",
       "      <td>2,009.0</td>\n",
       "    </tr>\n",
       "    <tr>\n",
       "      <th>age</th>\n",
       "      <td>3,000.0</td>\n",
       "      <td>42.41</td>\n",
       "      <td>11.54</td>\n",
       "      <td>18.0</td>\n",
       "      <td>33.75</td>\n",
       "      <td>42.0</td>\n",
       "      <td>51.0</td>\n",
       "      <td>80.0</td>\n",
       "    </tr>\n",
       "    <tr>\n",
       "      <th>logwage</th>\n",
       "      <td>3,000.0</td>\n",
       "      <td>4.65</td>\n",
       "      <td>0.35</td>\n",
       "      <td>3.0</td>\n",
       "      <td>4.45</td>\n",
       "      <td>4.65</td>\n",
       "      <td>4.86</td>\n",
       "      <td>5.76</td>\n",
       "    </tr>\n",
       "    <tr>\n",
       "      <th>wage</th>\n",
       "      <td>3,000.0</td>\n",
       "      <td>111.7</td>\n",
       "      <td>41.73</td>\n",
       "      <td>20.09</td>\n",
       "      <td>85.38</td>\n",
       "      <td>104.92</td>\n",
       "      <td>128.68</td>\n",
       "      <td>318.34</td>\n",
       "    </tr>\n",
       "  </tbody>\n",
       "</table>\n",
       "</div>"
      ],
      "text/plain": [
       "          count     mean   std     min     25%     50%     75%     max\n",
       "year    3,000.0 2,005.79  2.03 2,003.0 2,004.0 2,006.0 2,008.0 2,009.0\n",
       "age     3,000.0    42.41 11.54    18.0   33.75    42.0    51.0    80.0\n",
       "logwage 3,000.0     4.65  0.35     3.0    4.45    4.65    4.86    5.76\n",
       "wage    3,000.0    111.7 41.73   20.09   85.38  104.92  128.68  318.34"
      ]
     },
     "execution_count": 5,
     "metadata": {},
     "output_type": "execute_result"
    }
   ],
   "source": [
    "Wage.describe().T.round(2)"
   ]
  },
  {
   "cell_type": "markdown",
   "metadata": {},
   "source": [
    "### Exploring relationships with other features in the Wage data set"
   ]
  },
  {
   "cell_type": "markdown",
   "metadata": {},
   "source": [
    "### 'maritl' and 'jobclass'"
   ]
  },
  {
   "cell_type": "markdown",
   "metadata": {},
   "source": [
    "*Basic exploration of the dataset*"
   ]
  },
  {
   "cell_type": "code",
   "execution_count": 6,
   "metadata": {},
   "outputs": [
    {
     "data": {
      "text/plain": [
       "2. Married          2074\n",
       "1. Never Married     648\n",
       "4. Divorced          204\n",
       "5. Separated          55\n",
       "3. Widowed            19\n",
       "Name: maritl, dtype: int64"
      ]
     },
     "execution_count": 6,
     "metadata": {},
     "output_type": "execute_result"
    }
   ],
   "source": [
    "Wage.maritl.value_counts(sort=True)"
   ]
  },
  {
   "cell_type": "code",
   "execution_count": 7,
   "metadata": {},
   "outputs": [
    {
     "data": {
      "text/plain": [
       "1. Industrial     1544\n",
       "2. Information    1456\n",
       "Name: jobclass, dtype: int64"
      ]
     },
     "execution_count": 7,
     "metadata": {},
     "output_type": "execute_result"
    }
   ],
   "source": [
    "Wage.jobclass.value_counts(sort=True)"
   ]
  },
  {
   "cell_type": "code",
   "execution_count": 8,
   "metadata": {},
   "outputs": [
    {
     "name": "stderr",
     "output_type": "stream",
     "text": [
      "/opt/homebrew/Caskroom/miniforge/base/envs/ds4b_101p/lib/python3.8/site-packages/seaborn/_decorators.py:36: FutureWarning: Pass the following variables as keyword args: x, y. From version 0.12, the only valid positional argument will be `data`, and passing other arguments without an explicit keyword will result in an error or misinterpretation.\n",
      "  warnings.warn(\n",
      "/opt/homebrew/Caskroom/miniforge/base/envs/ds4b_101p/lib/python3.8/site-packages/seaborn/_decorators.py:36: FutureWarning: Pass the following variables as keyword args: x, y. From version 0.12, the only valid positional argument will be `data`, and passing other arguments without an explicit keyword will result in an error or misinterpretation.\n",
      "  warnings.warn(\n"
     ]
    },
    {
     "data": {
      "text/plain": [
       "Text(0.5, 1.0, 'wage as function of jobclass')"
      ]
     },
     "execution_count": 8,
     "metadata": {},
     "output_type": "execute_result"
    },
    {
     "data": {
      "image/png": "[encoded data removed]",
      "text/plain": [
       "<Figure size 1800x720 with 2 Axes>"
      ]
     },
     "metadata": {
      "needs_background": "light"
     },
     "output_type": "display_data"
    }
   ],
   "source": [
    "# plt.xkcd()\n",
    "fig, axes = plt.subplots(1, 2, figsize=(25,10))\n",
    "\n",
    "sns.boxplot(Wage.maritl, Wage.wage, ax=axes[0])\n",
    "axes[0].set_xlabel('maritl', fontsize=20, color='c')\n",
    "axes[0].set_ylabel('wage', fontsize=20, color='c')\n",
    "axes[0].set_title('wage as function of martial status', color='m', fontsize=30)\n",
    "\n",
    "\n",
    "sns.boxplot(Wage.jobclass, Wage.wage, ax=axes[1])\n",
    "axes[1].set_xlabel('jobclass', fontsize=20, color='c')\n",
    "axes[1].set_ylabel('wage', fontsize=20, color='c')\n",
    "axes[1].set_title('wage as function of jobclass', color='m', fontsize=30)"
   ]
  },
  {
   "cell_type": "markdown",
   "metadata": {},
   "source": [
    "**Initial plots show married people and those in the the information sector make more money than their counterparts.**"
   ]
  },
  {
   "cell_type": "markdown",
   "metadata": {},
   "source": [
    "**Polynomial regression**"
   ]
  },
  {
   "cell_type": "markdown",
   "metadata": {},
   "source": [
    "*I cannot increase degrees of categorical variables like 'maritl' and 'jobclass'. Therefore, it will reduce to normal linear regression.*"
   ]
  },
  {
   "cell_type": "code",
   "execution_count": 9,
   "metadata": {},
   "outputs": [
    {
     "data": {
      "text/html": [
       "<div>\n",
       "<style scoped>\n",
       "    .dataframe tbody tr th:only-of-type {\n",
       "        vertical-align: middle;\n",
       "    }\n",
       "\n",
       "    .dataframe tbody tr th {\n",
       "        vertical-align: top;\n",
       "    }\n",
       "\n",
       "    .dataframe thead th {\n",
       "        text-align: right;\n",
       "    }\n",
       "</style>\n",
       "<table border=\"1\" class=\"dataframe\">\n",
       "  <thead>\n",
       "    <tr style=\"text-align: right;\">\n",
       "      <th></th>\n",
       "      <th>wage</th>\n",
       "      <th>maritl</th>\n",
       "      <th>jobclass</th>\n",
       "    </tr>\n",
       "    <tr>\n",
       "      <th>SlNo</th>\n",
       "      <th></th>\n",
       "      <th></th>\n",
       "      <th></th>\n",
       "    </tr>\n",
       "  </thead>\n",
       "  <tbody>\n",
       "    <tr>\n",
       "      <th>231655</th>\n",
       "      <td>75.0431540173515</td>\n",
       "      <td>0</td>\n",
       "      <td>0</td>\n",
       "    </tr>\n",
       "    <tr>\n",
       "      <th>86582</th>\n",
       "      <td>70.4760196469445</td>\n",
       "      <td>0</td>\n",
       "      <td>1</td>\n",
       "    </tr>\n",
       "    <tr>\n",
       "      <th>161300</th>\n",
       "      <td>130.982177377461</td>\n",
       "      <td>1</td>\n",
       "      <td>0</td>\n",
       "    </tr>\n",
       "    <tr>\n",
       "      <th>155159</th>\n",
       "      <td>154.68529299563</td>\n",
       "      <td>1</td>\n",
       "      <td>1</td>\n",
       "    </tr>\n",
       "    <tr>\n",
       "      <th>11443</th>\n",
       "      <td>75.0431540173515</td>\n",
       "      <td>3</td>\n",
       "      <td>1</td>\n",
       "    </tr>\n",
       "  </tbody>\n",
       "</table>\n",
       "</div>"
      ],
      "text/plain": [
       "                   wage  maritl  jobclass\n",
       "SlNo                                     \n",
       "231655 75.0431540173515       0         0\n",
       "86582  70.4760196469445       0         1\n",
       "161300 130.982177377461       1         0\n",
       "155159  154.68529299563       1         1\n",
       "11443  75.0431540173515       3         1"
      ]
     },
     "execution_count": 9,
     "metadata": {},
     "output_type": "execute_result"
    }
   ],
   "source": [
    "X1 = Wage.maritl.astype('category').cat.codes\n",
    "X2 = Wage.jobclass.astype('category').cat.codes\n",
    "y = Wage.wage\n",
    "df = pd.concat([y, X1, X2], axis=1)\n",
    "df.columns = ['wage', 'maritl', 'jobclass']\n",
    "df.head()"
   ]
  },
  {
   "cell_type": "code",
   "execution_count": 10,
   "metadata": {},
   "outputs": [
    {
     "data": {
      "text/html": [
       "<table class=\"simpletable\">\n",
       "<caption>OLS Regression Results</caption>\n",
       "<tr>\n",
       "  <th>Dep. Variable:</th>         <td>df.wage</td>     <th>  R-squared:         </th> <td>   0.005</td> \n",
       "</tr>\n",
       "<tr>\n",
       "  <th>Model:</th>                   <td>OLS</td>       <th>  Adj. R-squared:    </th> <td>   0.004</td> \n",
       "</tr>\n",
       "<tr>\n",
       "  <th>Method:</th>             <td>Least Squares</td>  <th>  F-statistic:       </th> <td>   13.66</td> \n",
       "</tr>\n",
       "<tr>\n",
       "  <th>Date:</th>             <td>Sat, 25 Nov 2023</td> <th>  Prob (F-statistic):</th> <td>0.000222</td> \n",
       "</tr>\n",
       "<tr>\n",
       "  <th>Time:</th>                 <td>20:59:21</td>     <th>  Log-Likelihood:    </th> <td> -15443.</td> \n",
       "</tr>\n",
       "<tr>\n",
       "  <th>No. Observations:</th>      <td>  3000</td>      <th>  AIC:               </th> <td>3.089e+04</td>\n",
       "</tr>\n",
       "<tr>\n",
       "  <th>Df Residuals:</th>          <td>  2998</td>      <th>  BIC:               </th> <td>3.090e+04</td>\n",
       "</tr>\n",
       "<tr>\n",
       "  <th>Df Model:</th>              <td>     1</td>      <th>                     </th>     <td> </td>    \n",
       "</tr>\n",
       "<tr>\n",
       "  <th>Covariance Type:</th>      <td>nonrobust</td>    <th>                     </th>     <td> </td>    \n",
       "</tr>\n",
       "</table>\n",
       "<table class=\"simpletable\">\n",
       "<tr>\n",
       "      <td></td>         <th>coef</th>     <th>std err</th>      <th>t</th>      <th>P>|t|</th>  <th>[0.025</th>    <th>0.975]</th>  \n",
       "</tr>\n",
       "<tr>\n",
       "  <th>Intercept</th> <td>  108.3063</td> <td>    1.193</td> <td>   90.805</td> <td> 0.000</td> <td>  105.968</td> <td>  110.645</td>\n",
       "</tr>\n",
       "<tr>\n",
       "  <th>df.maritl</th> <td>    3.4620</td> <td>    0.937</td> <td>    3.697</td> <td> 0.000</td> <td>    1.626</td> <td>    5.298</td>\n",
       "</tr>\n",
       "</table>\n",
       "<table class=\"simpletable\">\n",
       "<tr>\n",
       "  <th>Omnibus:</th>       <td>1063.089</td> <th>  Durbin-Watson:     </th> <td>   1.965</td>\n",
       "</tr>\n",
       "<tr>\n",
       "  <th>Prob(Omnibus):</th>  <td> 0.000</td>  <th>  Jarque-Bera (JB):  </th> <td>4418.764</td>\n",
       "</tr>\n",
       "<tr>\n",
       "  <th>Skew:</th>           <td> 1.695</td>  <th>  Prob(JB):          </th> <td>    0.00</td>\n",
       "</tr>\n",
       "<tr>\n",
       "  <th>Kurtosis:</th>       <td> 7.885</td>  <th>  Cond. No.          </th> <td>    2.88</td>\n",
       "</tr>\n",
       "</table><br/><br/>Notes:<br/>[1] Standard Errors assume that the covariance matrix of the errors is correctly specified."
      ],
      "text/plain": [
       "<class 'statsmodels.iolib.summary.Summary'>\n",
       "\"\"\"\n",
       "                            OLS Regression Results                            \n",
       "==============================================================================\n",
       "Dep. Variable:                df.wage   R-squared:                       0.005\n",
       "Model:                            OLS   Adj. R-squared:                  0.004\n",
       "Method:                 Least Squares   F-statistic:                     13.66\n",
       "Date:                Sat, 25 Nov 2023   Prob (F-statistic):           0.000222\n",
       "Time:                        20:59:21   Log-Likelihood:                -15443.\n",
       "No. Observations:                3000   AIC:                         3.089e+04\n",
       "Df Residuals:                    2998   BIC:                         3.090e+04\n",
       "Df Model:                           1                                         \n",
       "Covariance Type:            nonrobust                                         \n",
       "==============================================================================\n",
       "                 coef    std err          t      P>|t|      [0.025      0.975]\n",
       "------------------------------------------------------------------------------\n",
       "Intercept    108.3063      1.193     90.805      0.000     105.968     110.645\n",
       "df.maritl      3.4620      0.937      3.697      0.000       1.626       5.298\n",
       "==============================================================================\n",
       "Omnibus:                     1063.089   Durbin-Watson:                   1.965\n",
       "Prob(Omnibus):                  0.000   Jarque-Bera (JB):             4418.764\n",
       "Skew:                           1.695   Prob(JB):                         0.00\n",
       "Kurtosis:                       7.885   Cond. No.                         2.88\n",
       "==============================================================================\n",
       "\n",
       "Notes:\n",
       "[1] Standard Errors assume that the covariance matrix of the errors is correctly specified.\n",
       "\"\"\""
      ]
     },
     "execution_count": 10,
     "metadata": {},
     "output_type": "execute_result"
    }
   ],
   "source": [
    "lm1 = ols('df.wage ~ df.maritl', data=df).fit()\n",
    "lm1.summary()"
   ]
  },
  {
   "cell_type": "code",
   "execution_count": 11,
   "metadata": {},
   "outputs": [
    {
     "data": {
      "text/html": [
       "<table class=\"simpletable\">\n",
       "<caption>OLS Regression Results</caption>\n",
       "<tr>\n",
       "  <th>Dep. Variable:</th>         <td>df.wage</td>     <th>  R-squared:         </th> <td>   0.043</td> \n",
       "</tr>\n",
       "<tr>\n",
       "  <th>Model:</th>                   <td>OLS</td>       <th>  Adj. R-squared:    </th> <td>   0.042</td> \n",
       "</tr>\n",
       "<tr>\n",
       "  <th>Method:</th>             <td>Least Squares</td>  <th>  F-statistic:       </th> <td>   134.1</td> \n",
       "</tr>\n",
       "<tr>\n",
       "  <th>Date:</th>             <td>Sat, 25 Nov 2023</td> <th>  Prob (F-statistic):</th> <td>2.31e-30</td> \n",
       "</tr>\n",
       "<tr>\n",
       "  <th>Time:</th>                 <td>21:00:02</td>     <th>  Log-Likelihood:    </th> <td> -15384.</td> \n",
       "</tr>\n",
       "<tr>\n",
       "  <th>No. Observations:</th>      <td>  3000</td>      <th>  AIC:               </th> <td>3.077e+04</td>\n",
       "</tr>\n",
       "<tr>\n",
       "  <th>Df Residuals:</th>          <td>  2998</td>      <th>  BIC:               </th> <td>3.078e+04</td>\n",
       "</tr>\n",
       "<tr>\n",
       "  <th>Df Model:</th>              <td>     1</td>      <th>                     </th>     <td> </td>    \n",
       "</tr>\n",
       "<tr>\n",
       "  <th>Covariance Type:</th>      <td>nonrobust</td>    <th>                     </th>     <td> </td>    \n",
       "</tr>\n",
       "</table>\n",
       "<table class=\"simpletable\">\n",
       "<tr>\n",
       "       <td></td>          <th>coef</th>     <th>std err</th>      <th>t</th>      <th>P>|t|</th>  <th>[0.025</th>    <th>0.975]</th>  \n",
       "</tr>\n",
       "<tr>\n",
       "  <th>Intercept</th>   <td>  103.3211</td> <td>    1.039</td> <td>   99.428</td> <td> 0.000</td> <td>  101.284</td> <td>  105.359</td>\n",
       "</tr>\n",
       "<tr>\n",
       "  <th>df.jobclass</th> <td>   17.2716</td> <td>    1.492</td> <td>   11.579</td> <td> 0.000</td> <td>   14.347</td> <td>   20.196</td>\n",
       "</tr>\n",
       "</table>\n",
       "<table class=\"simpletable\">\n",
       "<tr>\n",
       "  <th>Omnibus:</th>       <td>1014.070</td> <th>  Durbin-Watson:     </th> <td>   1.973</td>\n",
       "</tr>\n",
       "<tr>\n",
       "  <th>Prob(Omnibus):</th>  <td> 0.000</td>  <th>  Jarque-Bera (JB):  </th> <td>4036.791</td>\n",
       "</tr>\n",
       "<tr>\n",
       "  <th>Skew:</th>           <td> 1.625</td>  <th>  Prob(JB):          </th> <td>    0.00</td>\n",
       "</tr>\n",
       "<tr>\n",
       "  <th>Kurtosis:</th>       <td> 7.662</td>  <th>  Cond. No.          </th> <td>    2.59</td>\n",
       "</tr>\n",
       "</table><br/><br/>Notes:<br/>[1] Standard Errors assume that the covariance matrix of the errors is correctly specified."
      ],
      "text/plain": [
       "<class 'statsmodels.iolib.summary.Summary'>\n",
       "\"\"\"\n",
       "                            OLS Regression Results                            \n",
       "==============================================================================\n",
       "Dep. Variable:                df.wage   R-squared:                       0.043\n",
       "Model:                            OLS   Adj. R-squared:                  0.042\n",
       "Method:                 Least Squares   F-statistic:                     134.1\n",
       "Date:                Sat, 25 Nov 2023   Prob (F-statistic):           2.31e-30\n",
       "Time:                        21:00:02   Log-Likelihood:                -15384.\n",
       "No. Observations:                3000   AIC:                         3.077e+04\n",
       "Df Residuals:                    2998   BIC:                         3.078e+04\n",
       "Df Model:                           1                                         \n",
       "Covariance Type:            nonrobust                                         \n",
       "===============================================================================\n",
       "                  coef    std err          t      P>|t|      [0.025      0.975]\n",
       "-------------------------------------------------------------------------------\n",
       "Intercept     103.3211      1.039     99.428      0.000     101.284     105.359\n",
       "df.jobclass    17.2716      1.492     11.579      0.000      14.347      20.196\n",
       "==============================================================================\n",
       "Omnibus:                     1014.070   Durbin-Watson:                   1.973\n",
       "Prob(Omnibus):                  0.000   Jarque-Bera (JB):             4036.791\n",
       "Skew:                           1.625   Prob(JB):                         0.00\n",
       "Kurtosis:                       7.662   Cond. No.                         2.59\n",
       "==============================================================================\n",
       "\n",
       "Notes:\n",
       "[1] Standard Errors assume that the covariance matrix of the errors is correctly specified.\n",
       "\"\"\""
      ]
     },
     "execution_count": 11,
     "metadata": {},
     "output_type": "execute_result"
    }
   ],
   "source": [
    "lm2 = ols('df.wage ~ df.jobclass', data=df).fit()\n",
    "lm2.summary()"
   ]
  },
  {
   "cell_type": "code",
   "execution_count": 12,
   "metadata": {},
   "outputs": [
    {
     "data": {
      "text/html": [
       "<table class=\"simpletable\">\n",
       "<caption>OLS Regression Results</caption>\n",
       "<tr>\n",
       "  <th>Dep. Variable:</th>         <td>df.wage</td>     <th>  R-squared:         </th> <td>   0.047</td> \n",
       "</tr>\n",
       "<tr>\n",
       "  <th>Model:</th>                   <td>OLS</td>       <th>  Adj. R-squared:    </th> <td>   0.046</td> \n",
       "</tr>\n",
       "<tr>\n",
       "  <th>Method:</th>             <td>Least Squares</td>  <th>  F-statistic:       </th> <td>   73.31</td> \n",
       "</tr>\n",
       "<tr>\n",
       "  <th>Date:</th>             <td>Sat, 25 Nov 2023</td> <th>  Prob (F-statistic):</th> <td>8.26e-32</td> \n",
       "</tr>\n",
       "<tr>\n",
       "  <th>Time:</th>                 <td>21:00:12</td>     <th>  Log-Likelihood:    </th> <td> -15378.</td> \n",
       "</tr>\n",
       "<tr>\n",
       "  <th>No. Observations:</th>      <td>  3000</td>      <th>  AIC:               </th> <td>3.076e+04</td>\n",
       "</tr>\n",
       "<tr>\n",
       "  <th>Df Residuals:</th>          <td>  2997</td>      <th>  BIC:               </th> <td>3.078e+04</td>\n",
       "</tr>\n",
       "<tr>\n",
       "  <th>Df Model:</th>              <td>     2</td>      <th>                     </th>     <td> </td>    \n",
       "</tr>\n",
       "<tr>\n",
       "  <th>Covariance Type:</th>      <td>nonrobust</td>    <th>                     </th>     <td> </td>    \n",
       "</tr>\n",
       "</table>\n",
       "<table class=\"simpletable\">\n",
       "<tr>\n",
       "       <td></td>          <th>coef</th>     <th>std err</th>      <th>t</th>      <th>P>|t|</th>  <th>[0.025</th>    <th>0.975]</th>  \n",
       "</tr>\n",
       "<tr>\n",
       "  <th>Intercept</th>   <td>  100.2638</td> <td>    1.361</td> <td>   73.683</td> <td> 0.000</td> <td>   97.596</td> <td>  102.932</td>\n",
       "</tr>\n",
       "<tr>\n",
       "  <th>df.maritl</th>   <td>    3.1831</td> <td>    0.917</td> <td>    3.471</td> <td> 0.001</td> <td>    1.385</td> <td>    4.981</td>\n",
       "</tr>\n",
       "<tr>\n",
       "  <th>df.jobclass</th> <td>   17.1349</td> <td>    1.489</td> <td>   11.504</td> <td> 0.000</td> <td>   14.215</td> <td>   20.055</td>\n",
       "</tr>\n",
       "</table>\n",
       "<table class=\"simpletable\">\n",
       "<tr>\n",
       "  <th>Omnibus:</th>       <td>1022.589</td> <th>  Durbin-Watson:     </th> <td>   1.968</td>\n",
       "</tr>\n",
       "<tr>\n",
       "  <th>Prob(Omnibus):</th>  <td> 0.000</td>  <th>  Jarque-Bera (JB):  </th> <td>4117.593</td>\n",
       "</tr>\n",
       "<tr>\n",
       "  <th>Skew:</th>           <td> 1.635</td>  <th>  Prob(JB):          </th> <td>    0.00</td>\n",
       "</tr>\n",
       "<tr>\n",
       "  <th>Kurtosis:</th>       <td> 7.716</td>  <th>  Cond. No.          </th> <td>    3.85</td>\n",
       "</tr>\n",
       "</table><br/><br/>Notes:<br/>[1] Standard Errors assume that the covariance matrix of the errors is correctly specified."
      ],
      "text/plain": [
       "<class 'statsmodels.iolib.summary.Summary'>\n",
       "\"\"\"\n",
       "                            OLS Regression Results                            \n",
       "==============================================================================\n",
       "Dep. Variable:                df.wage   R-squared:                       0.047\n",
       "Model:                            OLS   Adj. R-squared:                  0.046\n",
       "Method:                 Least Squares   F-statistic:                     73.31\n",
       "Date:                Sat, 25 Nov 2023   Prob (F-statistic):           8.26e-32\n",
       "Time:                        21:00:12   Log-Likelihood:                -15378.\n",
       "No. Observations:                3000   AIC:                         3.076e+04\n",
       "Df Residuals:                    2997   BIC:                         3.078e+04\n",
       "Df Model:                           2                                         \n",
       "Covariance Type:            nonrobust                                         \n",
       "===============================================================================\n",
       "                  coef    std err          t      P>|t|      [0.025      0.975]\n",
       "-------------------------------------------------------------------------------\n",
       "Intercept     100.2638      1.361     73.683      0.000      97.596     102.932\n",
       "df.maritl       3.1831      0.917      3.471      0.001       1.385       4.981\n",
       "df.jobclass    17.1349      1.489     11.504      0.000      14.215      20.055\n",
       "==============================================================================\n",
       "Omnibus:                     1022.589   Durbin-Watson:                   1.968\n",
       "Prob(Omnibus):                  0.000   Jarque-Bera (JB):             4117.593\n",
       "Skew:                           1.635   Prob(JB):                         0.00\n",
       "Kurtosis:                       7.716   Cond. No.                         3.85\n",
       "==============================================================================\n",
       "\n",
       "Notes:\n",
       "[1] Standard Errors assume that the covariance matrix of the errors is correctly specified.\n",
       "\"\"\""
      ]
     },
     "execution_count": 12,
     "metadata": {},
     "output_type": "execute_result"
    }
   ],
   "source": [
    "lm3 = ols('df.wage ~ df.maritl+df.jobclass', data=df).fit()\n",
    "lm3.summary()"
   ]
  },
  {
   "cell_type": "code",
   "execution_count": 13,
   "metadata": {},
   "outputs": [
    {
     "data": {
      "text/html": [
       "<div>\n",
       "<style scoped>\n",
       "    .dataframe tbody tr th:only-of-type {\n",
       "        vertical-align: middle;\n",
       "    }\n",
       "\n",
       "    .dataframe tbody tr th {\n",
       "        vertical-align: top;\n",
       "    }\n",
       "\n",
       "    .dataframe thead th {\n",
       "        text-align: right;\n",
       "    }\n",
       "</style>\n",
       "<table border=\"1\" class=\"dataframe\">\n",
       "  <thead>\n",
       "    <tr style=\"text-align: right;\">\n",
       "      <th></th>\n",
       "      <th>Model MSE</th>\n",
       "    </tr>\n",
       "  </thead>\n",
       "  <tbody>\n",
       "    <tr>\n",
       "      <th>lm1</th>\n",
       "      <td>23,694.336191013455</td>\n",
       "    </tr>\n",
       "    <tr>\n",
       "      <th>lm2</th>\n",
       "      <td>223,538.41333900858</td>\n",
       "    </tr>\n",
       "    <tr>\n",
       "      <th>lm3</th>\n",
       "      <td>121,777.4068640992</td>\n",
       "    </tr>\n",
       "  </tbody>\n",
       "</table>\n",
       "</div>"
      ],
      "text/plain": [
       "              Model MSE\n",
       "lm1 23,694.336191013455\n",
       "lm2 223,538.41333900858\n",
       "lm3  121,777.4068640992"
      ]
     },
     "execution_count": 13,
     "metadata": {},
     "output_type": "execute_result"
    }
   ],
   "source": [
    "MSE_df = pd.concat([pd.DataFrame([lm1.mse_model]), pd.DataFrame([lm2.mse_model]), pd.DataFrame([lm3.mse_model])], axis=1)\n",
    "MSE_df.columns = ['lm1', 'lm2', 'lm3']\n",
    "MSE_df = MSE_df.T\n",
    "MSE_df.columns = ['Model MSE']\n",
    "MSE_df"
   ]
  },
  {
   "cell_type": "markdown",
   "metadata": {},
   "source": [
    "**The model with marital status as the sole regressor provides the least MSE.**"
   ]
  },
  {
   "cell_type": "markdown",
   "metadata": {},
   "source": [
    "**Splines**"
   ]
  },
  {
   "cell_type": "markdown",
   "metadata": {},
   "source": [
    "*Splines cannot be fit on categorical variables.*"
   ]
  },
  {
   "cell_type": "markdown",
   "metadata": {},
   "source": [
    "**GAM**"
   ]
  },
  {
   "cell_type": "code",
   "execution_count": 14,
   "metadata": {},
   "outputs": [],
   "source": [
    "from patsy import dmatrix"
   ]
  },
  {
   "cell_type": "code",
   "execution_count": 15,
   "metadata": {},
   "outputs": [
    {
     "data": {
      "text/html": [
       "<div>\n",
       "<style scoped>\n",
       "    .dataframe tbody tr th:only-of-type {\n",
       "        vertical-align: middle;\n",
       "    }\n",
       "\n",
       "    .dataframe tbody tr th {\n",
       "        vertical-align: top;\n",
       "    }\n",
       "\n",
       "    .dataframe thead th {\n",
       "        text-align: right;\n",
       "    }\n",
       "</style>\n",
       "<table border=\"1\" class=\"dataframe\">\n",
       "  <thead>\n",
       "    <tr style=\"text-align: right;\">\n",
       "      <th></th>\n",
       "      <th>wage</th>\n",
       "      <th>maritl</th>\n",
       "      <th>jobclass</th>\n",
       "      <th>Intercept</th>\n",
       "      <th>cr(AGE, df=4)[0]</th>\n",
       "      <th>cr(AGE, df=4)[1]</th>\n",
       "      <th>cr(AGE, df=4)[2]</th>\n",
       "      <th>cr(AGE, df=4)[3]</th>\n",
       "    </tr>\n",
       "    <tr>\n",
       "      <th>SlNo</th>\n",
       "      <th></th>\n",
       "      <th></th>\n",
       "      <th></th>\n",
       "      <th></th>\n",
       "      <th></th>\n",
       "      <th></th>\n",
       "      <th></th>\n",
       "      <th></th>\n",
       "    </tr>\n",
       "  </thead>\n",
       "  <tbody>\n",
       "    <tr>\n",
       "      <th>231655</th>\n",
       "      <td>75.0431540173515</td>\n",
       "      <td>0</td>\n",
       "      <td>0</td>\n",
       "      <td>1.0</td>\n",
       "      <td>1.0</td>\n",
       "      <td>0.0</td>\n",
       "      <td>0.0</td>\n",
       "      <td>0.0</td>\n",
       "    </tr>\n",
       "    <tr>\n",
       "      <th>86582</th>\n",
       "      <td>70.4760196469445</td>\n",
       "      <td>0</td>\n",
       "      <td>1</td>\n",
       "      <td>1.0</td>\n",
       "      <td>0.6274303797468355</td>\n",
       "      <td>0.4624177215189873</td>\n",
       "      <td>-0.10555581127733023</td>\n",
       "      <td>0.015707710011507486</td>\n",
       "    </tr>\n",
       "    <tr>\n",
       "      <th>161300</th>\n",
       "      <td>130.982177377461</td>\n",
       "      <td>1</td>\n",
       "      <td>0</td>\n",
       "      <td>1.0</td>\n",
       "      <td>-0.08034493670886078</td>\n",
       "      <td>0.7566946202531647</td>\n",
       "      <td>0.372736910241657</td>\n",
       "      <td>-0.049086593785960905</td>\n",
       "    </tr>\n",
       "    <tr>\n",
       "      <th>155159</th>\n",
       "      <td>154.68529299563</td>\n",
       "      <td>1</td>\n",
       "      <td>1</td>\n",
       "      <td>1.0</td>\n",
       "      <td>-0.07238924050632911</td>\n",
       "      <td>0.8562104430379748</td>\n",
       "      <td>0.2512406501726122</td>\n",
       "      <td>-0.035061852704257795</td>\n",
       "    </tr>\n",
       "    <tr>\n",
       "      <th>11443</th>\n",
       "      <td>75.0431540173515</td>\n",
       "      <td>3</td>\n",
       "      <td>1</td>\n",
       "      <td>1.0</td>\n",
       "      <td>-0.06501265822784816</td>\n",
       "      <td>0.45407594936708884</td>\n",
       "      <td>0.6799815880322209</td>\n",
       "      <td>-0.06904487917146152</td>\n",
       "    </tr>\n",
       "  </tbody>\n",
       "</table>\n",
       "</div>"
      ],
      "text/plain": [
       "                   wage  maritl  jobclass  Intercept     cr(AGE, df=4)[0]  \\\n",
       "SlNo                                                                        \n",
       "231655 75.0431540173515       0         0        1.0                  1.0   \n",
       "86582  70.4760196469445       0         1        1.0   0.6274303797468355   \n",
       "161300 130.982177377461       1         0        1.0 -0.08034493670886078   \n",
       "155159  154.68529299563       1         1        1.0 -0.07238924050632911   \n",
       "11443  75.0431540173515       3         1        1.0 -0.06501265822784816   \n",
       "\n",
       "          cr(AGE, df=4)[1]     cr(AGE, df=4)[2]      cr(AGE, df=4)[3]  \n",
       "SlNo                                                                   \n",
       "231655                 0.0                  0.0                   0.0  \n",
       "86582   0.4624177215189873 -0.10555581127733023  0.015707710011507486  \n",
       "161300  0.7566946202531647    0.372736910241657 -0.049086593785960905  \n",
       "155159  0.8562104430379748   0.2512406501726122 -0.035061852704257795  \n",
       "11443  0.45407594936708884   0.6799815880322209  -0.06904487917146152  "
      ]
     },
     "execution_count": 15,
     "metadata": {},
     "output_type": "execute_result"
    }
   ],
   "source": [
    "X3 = Wage.age\n",
    "X3_age = dmatrix(\"cr(AGE, df=4)\", {\"AGE\": Wage['age']}, return_type='dataframe')\n",
    "df = pd.concat([df, X3_age], axis=1)\n",
    "df.head()"
   ]
  },
  {
   "cell_type": "code",
   "execution_count": 16,
   "metadata": {},
   "outputs": [
    {
     "data": {
      "text/html": [
       "<table class=\"simpletable\">\n",
       "<caption>OLS Regression Results</caption>\n",
       "<tr>\n",
       "  <th>Dep. Variable:</th>         <td>df.wage</td>     <th>  R-squared:         </th> <td>   0.118</td> \n",
       "</tr>\n",
       "<tr>\n",
       "  <th>Model:</th>                   <td>OLS</td>       <th>  Adj. R-squared:    </th> <td>   0.116</td> \n",
       "</tr>\n",
       "<tr>\n",
       "  <th>Method:</th>             <td>Least Squares</td>  <th>  F-statistic:       </th> <td>   66.63</td> \n",
       "</tr>\n",
       "<tr>\n",
       "  <th>Date:</th>             <td>Sat, 25 Nov 2023</td> <th>  Prob (F-statistic):</th> <td>5.14e-78</td> \n",
       "</tr>\n",
       "<tr>\n",
       "  <th>Time:</th>                 <td>21:02:27</td>     <th>  Log-Likelihood:    </th> <td> -15262.</td> \n",
       "</tr>\n",
       "<tr>\n",
       "  <th>No. Observations:</th>      <td>  3000</td>      <th>  AIC:               </th> <td>3.054e+04</td>\n",
       "</tr>\n",
       "<tr>\n",
       "  <th>Df Residuals:</th>          <td>  2993</td>      <th>  BIC:               </th> <td>3.058e+04</td>\n",
       "</tr>\n",
       "<tr>\n",
       "  <th>Df Model:</th>              <td>     6</td>      <th>                     </th>     <td> </td>    \n",
       "</tr>\n",
       "<tr>\n",
       "  <th>Covariance Type:</th>      <td>nonrobust</td>    <th>                     </th>     <td> </td>    \n",
       "</tr>\n",
       "</table>\n",
       "<table class=\"simpletable\">\n",
       "<tr>\n",
       "       <td></td>          <th>coef</th>     <th>std err</th>      <th>t</th>      <th>P>|t|</th>  <th>[0.025</th>    <th>0.975]</th>  \n",
       "</tr>\n",
       "<tr>\n",
       "  <th>Intercept</th>   <td> 2.234e+13</td> <td> 5.46e+13</td> <td>    0.409</td> <td> 0.682</td> <td>-8.47e+13</td> <td> 1.29e+14</td>\n",
       "</tr>\n",
       "<tr>\n",
       "  <th>df.maritl</th>   <td>   -1.8693</td> <td>    0.948</td> <td>   -1.972</td> <td> 0.049</td> <td>   -3.728</td> <td>   -0.011</td>\n",
       "</tr>\n",
       "<tr>\n",
       "  <th>df.jobclass</th> <td>   15.1216</td> <td>    1.441</td> <td>   10.492</td> <td> 0.000</td> <td>   12.296</td> <td>   17.948</td>\n",
       "</tr>\n",
       "<tr>\n",
       "  <th>X3_age[0]</th>   <td>-2.854e+13</td> <td> 6.97e+13</td> <td>   -0.409</td> <td> 0.682</td> <td>-1.65e+14</td> <td> 1.08e+14</td>\n",
       "</tr>\n",
       "<tr>\n",
       "  <th>X3_age[1]</th>   <td> 6.201e+12</td> <td> 1.52e+13</td> <td>    0.409</td> <td> 0.682</td> <td>-2.35e+13</td> <td> 3.59e+13</td>\n",
       "</tr>\n",
       "<tr>\n",
       "  <th>X3_age[2]</th>   <td> 6.201e+12</td> <td> 1.52e+13</td> <td>    0.409</td> <td> 0.682</td> <td>-2.35e+13</td> <td> 3.59e+13</td>\n",
       "</tr>\n",
       "<tr>\n",
       "  <th>X3_age[3]</th>   <td> 6.201e+12</td> <td> 1.52e+13</td> <td>    0.409</td> <td> 0.682</td> <td>-2.35e+13</td> <td> 3.59e+13</td>\n",
       "</tr>\n",
       "<tr>\n",
       "  <th>X3_age[4]</th>   <td> 6.201e+12</td> <td> 1.52e+13</td> <td>    0.409</td> <td> 0.682</td> <td>-2.35e+13</td> <td> 3.59e+13</td>\n",
       "</tr>\n",
       "</table>\n",
       "<table class=\"simpletable\">\n",
       "<tr>\n",
       "  <th>Omnibus:</th>       <td>1049.927</td> <th>  Durbin-Watson:     </th> <td>   1.965</td>\n",
       "</tr>\n",
       "<tr>\n",
       "  <th>Prob(Omnibus):</th>  <td> 0.000</td>  <th>  Jarque-Bera (JB):  </th> <td>4579.846</td>\n",
       "</tr>\n",
       "<tr>\n",
       "  <th>Skew:</th>           <td> 1.651</td>  <th>  Prob(JB):          </th> <td>    0.00</td>\n",
       "</tr>\n",
       "<tr>\n",
       "  <th>Kurtosis:</th>       <td> 8.073</td>  <th>  Cond. No.          </th> <td>2.95e+15</td>\n",
       "</tr>\n",
       "</table><br/><br/>Notes:<br/>[1] Standard Errors assume that the covariance matrix of the errors is correctly specified.<br/>[2] The smallest eigenvalue is 1.34e-27. This might indicate that there are<br/>strong multicollinearity problems or that the design matrix is singular."
      ],
      "text/plain": [
       "<class 'statsmodels.iolib.summary.Summary'>\n",
       "\"\"\"\n",
       "                            OLS Regression Results                            \n",
       "==============================================================================\n",
       "Dep. Variable:                df.wage   R-squared:                       0.118\n",
       "Model:                            OLS   Adj. R-squared:                  0.116\n",
       "Method:                 Least Squares   F-statistic:                     66.63\n",
       "Date:                Sat, 25 Nov 2023   Prob (F-statistic):           5.14e-78\n",
       "Time:                        21:02:27   Log-Likelihood:                -15262.\n",
       "No. Observations:                3000   AIC:                         3.054e+04\n",
       "Df Residuals:                    2993   BIC:                         3.058e+04\n",
       "Df Model:                           6                                         \n",
       "Covariance Type:            nonrobust                                         \n",
       "===============================================================================\n",
       "                  coef    std err          t      P>|t|      [0.025      0.975]\n",
       "-------------------------------------------------------------------------------\n",
       "Intercept    2.234e+13   5.46e+13      0.409      0.682   -8.47e+13    1.29e+14\n",
       "df.maritl      -1.8693      0.948     -1.972      0.049      -3.728      -0.011\n",
       "df.jobclass    15.1216      1.441     10.492      0.000      12.296      17.948\n",
       "X3_age[0]   -2.854e+13   6.97e+13     -0.409      0.682   -1.65e+14    1.08e+14\n",
       "X3_age[1]    6.201e+12   1.52e+13      0.409      0.682   -2.35e+13    3.59e+13\n",
       "X3_age[2]    6.201e+12   1.52e+13      0.409      0.682   -2.35e+13    3.59e+13\n",
       "X3_age[3]    6.201e+12   1.52e+13      0.409      0.682   -2.35e+13    3.59e+13\n",
       "X3_age[4]    6.201e+12   1.52e+13      0.409      0.682   -2.35e+13    3.59e+13\n",
       "==============================================================================\n",
       "Omnibus:                     1049.927   Durbin-Watson:                   1.965\n",
       "Prob(Omnibus):                  0.000   Jarque-Bera (JB):             4579.846\n",
       "Skew:                           1.651   Prob(JB):                         0.00\n",
       "Kurtosis:                       8.073   Cond. No.                     2.95e+15\n",
       "==============================================================================\n",
       "\n",
       "Notes:\n",
       "[1] Standard Errors assume that the covariance matrix of the errors is correctly specified.\n",
       "[2] The smallest eigenvalue is 1.34e-27. This might indicate that there are\n",
       "strong multicollinearity problems or that the design matrix is singular.\n",
       "\"\"\""
      ]
     },
     "execution_count": 16,
     "metadata": {},
     "output_type": "execute_result"
    }
   ],
   "source": [
    "lm_gam = ols('df.wage ~ df.maritl + df.jobclass + X3_age', data=df).fit()\n",
    "lm_gam.summary()"
   ]
  },
  {
   "cell_type": "code",
   "execution_count": 17,
   "metadata": {},
   "outputs": [],
   "source": [
    "lmgam_mse = lm_gam.mse_model"
   ]
  },
  {
   "cell_type": "code",
   "execution_count": 18,
   "metadata": {},
   "outputs": [
    {
     "data": {
      "text/html": [
       "<div>\n",
       "<style scoped>\n",
       "    .dataframe tbody tr th:only-of-type {\n",
       "        vertical-align: middle;\n",
       "    }\n",
       "\n",
       "    .dataframe tbody tr th {\n",
       "        vertical-align: top;\n",
       "    }\n",
       "\n",
       "    .dataframe thead th {\n",
       "        text-align: right;\n",
       "    }\n",
       "</style>\n",
       "<table border=\"1\" class=\"dataframe\">\n",
       "  <thead>\n",
       "    <tr style=\"text-align: right;\">\n",
       "      <th></th>\n",
       "      <th>model_MSE</th>\n",
       "    </tr>\n",
       "  </thead>\n",
       "  <tbody>\n",
       "    <tr>\n",
       "      <th>regression(maritl)</th>\n",
       "      <td>23,694.336191013455</td>\n",
       "    </tr>\n",
       "    <tr>\n",
       "      <th>regression(jobclass)</th>\n",
       "      <td>223,538.41333900858</td>\n",
       "    </tr>\n",
       "    <tr>\n",
       "      <th>regression(maritl+jobclass)</th>\n",
       "      <td>121,777.4068640992</td>\n",
       "    </tr>\n",
       "    <tr>\n",
       "      <th>GAM</th>\n",
       "      <td>102,558.47557758586</td>\n",
       "    </tr>\n",
       "  </tbody>\n",
       "</table>\n",
       "</div>"
      ],
      "text/plain": [
       "                                      model_MSE\n",
       "regression(maritl)          23,694.336191013455\n",
       "regression(jobclass)        223,538.41333900858\n",
       "regression(maritl+jobclass)  121,777.4068640992\n",
       "GAM                         102,558.47557758586"
      ]
     },
     "execution_count": 18,
     "metadata": {},
     "output_type": "execute_result"
    }
   ],
   "source": [
    "MSE_df = pd.concat([pd.DataFrame([lm1.mse_model]), pd.DataFrame([lm2.mse_model]), pd.DataFrame([lm3.mse_model]), pd.DataFrame([lmgam_mse])], axis=1)\n",
    "MSE_df.columns = [\"regression(maritl)\", \"regression(jobclass)\", \"regression(maritl+jobclass)\", 'GAM']\n",
    "MSE_df = MSE_df.T\n",
    "MSE_df.columns = ['model_MSE']\n",
    "MSE_df"
   ]
  },
  {
   "cell_type": "code",
   "execution_count": 19,
   "metadata": {},
   "outputs": [
    {
     "data": {
      "text/plain": [
       "Text(0.5, 1.0, 'model MSE for different models')"
      ]
     },
     "execution_count": 19,
     "metadata": {},
     "output_type": "execute_result"
    },
    {
     "data": {
      "image/png": "[encoded data removed]",
      "text/plain": [
       "<Figure size 1800x720 with 1 Axes>"
      ]
     },
     "metadata": {
      "needs_background": "light"
     },
     "output_type": "display_data"
    }
   ],
   "source": [
    "# plt.xkcd()\n",
    "plt.figure(figsize=(25, 10))\n",
    "sns.barplot(x=MSE_df.index, y=MSE_df.model_MSE, data=MSE_df)\n",
    "plt.xlabel('models', fontsize=20, color='c')\n",
    "plt.ylabel('model_MSE', fontsize=20, color='c')\n",
    "plt.title('model MSE for different models', fontsize=30, color='m')"
   ]
  }
 ],
 "metadata": {
  "kernelspec": {
   "display_name": "Python 3",
   "language": "python",
   "name": "python3"
  },
  "language_info": {
   "codemirror_mode": {
    "name": "ipython",
    "version": 3
   },
   "file_extension": ".py",
   "mimetype": "text/x-python",
   "name": "python",
   "nbconvert_exporter": "python",
   "pygments_lexer": "ipython3",
   "version": "3.8.12"
  }
 },
 "nbformat": 4,
 "nbformat_minor": 2
}
