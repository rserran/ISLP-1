{
 "cells": [
  {
   "cell_type": "markdown",
   "metadata": {},
   "source": [
    "### Preprocessing"
   ]
  },
  {
   "cell_type": "code",
   "execution_count": 1,
   "metadata": {},
   "outputs": [],
   "source": [
    "# import relevant statistical packages\n",
    "import numpy as np\n",
    "import pandas as pd\n",
    "\n",
    "# import data visualisation packages\n",
    "import matplotlib.pyplot as plt\n",
    "import seaborn as sns\n",
    "%matplotlib inline\n",
    "\n",
    "import warnings\n",
    "warnings.filterwarnings('ignore')\n"
   ]
  },
  {
   "cell_type": "code",
   "execution_count": 2,
   "metadata": {},
   "outputs": [],
   "source": [
    "\n",
    "# statsmodels\n",
    "from statsmodels.api import OLS\n",
    "\n",
    "# scikit-learn\n",
    "import sklearn.model_selection as skm\n",
    "import sklearn.linear_model as skl\n",
    "from sklearn.preprocessing import StandardScaler\n",
    "\n",
    "# ISLP\n",
    "from ISLP.models import ModelSpec as MS\n",
    "from ISLP.models import \\\n",
    "(Stepwise , sklearn_selected , sklearn_selection_path)\n",
    "from functools import partial\n",
    "\n"
   ]
  },
  {
   "cell_type": "code",
   "execution_count": 3,
   "metadata": {},
   "outputs": [
    {
     "data": {
      "text/plain": [
       "'2.1.1'"
      ]
     },
     "execution_count": 3,
     "metadata": {},
     "output_type": "execute_result"
    }
   ],
   "source": [
    "# pandas version\n",
    "pd.__version__"
   ]
  },
  {
   "cell_type": "markdown",
   "metadata": {},
   "source": [
    "### 8 (a) Generating normally distribution predictor X and noise vector $\\epsilon$"
   ]
  },
  {
   "cell_type": "code",
   "execution_count": 4,
   "metadata": {},
   "outputs": [],
   "source": [
    "# set random seed for reproducibility\n",
    "np.random.seed(1)\n",
    "\n",
    "X = np.random.normal(size=100)\n",
    "epsilon = np.random.normal(size=100)"
   ]
  },
  {
   "cell_type": "code",
   "execution_count": 5,
   "metadata": {},
   "outputs": [
    {
     "data": {
      "text/plain": [
       "(100, 100)"
      ]
     },
     "execution_count": 5,
     "metadata": {},
     "output_type": "execute_result"
    }
   ],
   "source": [
    "len(X), len(epsilon)"
   ]
  },
  {
   "cell_type": "markdown",
   "metadata": {},
   "source": [
    "### 8 (b) Generating response vector $Y$ = $\\beta_0$ + $\\beta_1$ $X$ + $\\beta_2$ $X^2$ + $\\beta_3$ $X^3$ + $\\epsilon$"
   ]
  },
  {
   "cell_type": "code",
   "execution_count": 6,
   "metadata": {},
   "outputs": [],
   "source": [
    "BETA0 = 2.0\n",
    "BETA1 = -2.0\n",
    "BETA2 = 3.0\n",
    "BETA3 = 2.5\n",
    "Y = BETA0 + (BETA1*X) + (BETA2*pow(X, 2)) + (BETA3*pow(X, 3)) + epsilon"
   ]
  },
  {
   "cell_type": "code",
   "execution_count": 7,
   "metadata": {},
   "outputs": [
    {
     "data": {
      "text/html": [
       "<div>\n",
       "<style scoped>\n",
       "    .dataframe tbody tr th:only-of-type {\n",
       "        vertical-align: middle;\n",
       "    }\n",
       "\n",
       "    .dataframe tbody tr th {\n",
       "        vertical-align: top;\n",
       "    }\n",
       "\n",
       "    .dataframe thead th {\n",
       "        text-align: right;\n",
       "    }\n",
       "</style>\n",
       "<table border=\"1\" class=\"dataframe\">\n",
       "  <thead>\n",
       "    <tr style=\"text-align: right;\">\n",
       "      <th></th>\n",
       "      <th>X</th>\n",
       "      <th>Y</th>\n",
       "    </tr>\n",
       "  </thead>\n",
       "  <tbody>\n",
       "    <tr>\n",
       "      <th>0</th>\n",
       "      <td>1.624345</td>\n",
       "      <td>16.934254</td>\n",
       "    </tr>\n",
       "    <tr>\n",
       "      <th>1</th>\n",
       "      <td>-0.611756</td>\n",
       "      <td>4.998390</td>\n",
       "    </tr>\n",
       "    <tr>\n",
       "      <th>2</th>\n",
       "      <td>-0.528172</td>\n",
       "      <td>3.928377</td>\n",
       "    </tr>\n",
       "    <tr>\n",
       "      <th>3</th>\n",
       "      <td>-1.072969</td>\n",
       "      <td>5.105132</td>\n",
       "    </tr>\n",
       "    <tr>\n",
       "      <th>4</th>\n",
       "      <td>0.865408</td>\n",
       "      <td>3.041389</td>\n",
       "    </tr>\n",
       "  </tbody>\n",
       "</table>\n",
       "</div>"
      ],
      "text/plain": [
       "          X          Y\n",
       "0  1.624345  16.934254\n",
       "1 -0.611756   4.998390\n",
       "2 -0.528172   3.928377\n",
       "3 -1.072969   5.105132\n",
       "4  0.865408   3.041389"
      ]
     },
     "execution_count": 7,
     "metadata": {},
     "output_type": "execute_result"
    }
   ],
   "source": [
    "df = pd.DataFrame([X, Y]).T \\\n",
    "    .set_axis(['X', 'Y'], axis = 1)\n",
    "# df.columns = ['X', 'Y']\n",
    "df.head()"
   ]
  },
  {
   "cell_type": "markdown",
   "metadata": {},
   "source": [
    "### 8 (c) use forward stepwise selection to select a model containing the predictors $X$ , $X^2$ , ... $X^{10}$ . What is the model obtained according to $C_p$ ? Report the coefficients of the model obtained."
   ]
  },
  {
   "cell_type": "code",
   "execution_count": 8,
   "metadata": {},
   "outputs": [
    {
     "data": {
      "text/html": [
       "<div>\n",
       "<style scoped>\n",
       "    .dataframe tbody tr th:only-of-type {\n",
       "        vertical-align: middle;\n",
       "    }\n",
       "\n",
       "    .dataframe tbody tr th {\n",
       "        vertical-align: top;\n",
       "    }\n",
       "\n",
       "    .dataframe thead th {\n",
       "        text-align: right;\n",
       "    }\n",
       "</style>\n",
       "<table border=\"1\" class=\"dataframe\">\n",
       "  <thead>\n",
       "    <tr style=\"text-align: right;\">\n",
       "      <th></th>\n",
       "      <th>X</th>\n",
       "      <th>X_2</th>\n",
       "      <th>X_3</th>\n",
       "      <th>X_4</th>\n",
       "      <th>X_5</th>\n",
       "      <th>X_6</th>\n",
       "      <th>X_7</th>\n",
       "      <th>X_8</th>\n",
       "      <th>X_9</th>\n",
       "      <th>X_10</th>\n",
       "    </tr>\n",
       "  </thead>\n",
       "  <tbody>\n",
       "    <tr>\n",
       "      <th>0</th>\n",
       "      <td>1.624345</td>\n",
       "      <td>2.638498</td>\n",
       "      <td>4.285832</td>\n",
       "      <td>6.961671</td>\n",
       "      <td>11.308158</td>\n",
       "      <td>18.368354</td>\n",
       "      <td>29.836551</td>\n",
       "      <td>48.464863</td>\n",
       "      <td>78.723675</td>\n",
       "      <td>127.874436</td>\n",
       "    </tr>\n",
       "    <tr>\n",
       "      <th>1</th>\n",
       "      <td>-0.611756</td>\n",
       "      <td>0.374246</td>\n",
       "      <td>-0.228947</td>\n",
       "      <td>0.140060</td>\n",
       "      <td>-0.085683</td>\n",
       "      <td>0.052417</td>\n",
       "      <td>-0.032066</td>\n",
       "      <td>0.019617</td>\n",
       "      <td>-0.012001</td>\n",
       "      <td>0.007342</td>\n",
       "    </tr>\n",
       "    <tr>\n",
       "      <th>2</th>\n",
       "      <td>-0.528172</td>\n",
       "      <td>0.278965</td>\n",
       "      <td>-0.147342</td>\n",
       "      <td>0.077822</td>\n",
       "      <td>-0.041103</td>\n",
       "      <td>0.021710</td>\n",
       "      <td>-0.011466</td>\n",
       "      <td>0.006056</td>\n",
       "      <td>-0.003199</td>\n",
       "      <td>0.001689</td>\n",
       "    </tr>\n",
       "    <tr>\n",
       "      <th>3</th>\n",
       "      <td>-1.072969</td>\n",
       "      <td>1.151262</td>\n",
       "      <td>-1.235268</td>\n",
       "      <td>1.325403</td>\n",
       "      <td>-1.422116</td>\n",
       "      <td>1.525886</td>\n",
       "      <td>-1.637228</td>\n",
       "      <td>1.756694</td>\n",
       "      <td>-1.884878</td>\n",
       "      <td>2.022415</td>\n",
       "    </tr>\n",
       "    <tr>\n",
       "      <th>4</th>\n",
       "      <td>0.865408</td>\n",
       "      <td>0.748930</td>\n",
       "      <td>0.648130</td>\n",
       "      <td>0.560897</td>\n",
       "      <td>0.485404</td>\n",
       "      <td>0.420073</td>\n",
       "      <td>0.363534</td>\n",
       "      <td>0.314605</td>\n",
       "      <td>0.272262</td>\n",
       "      <td>0.235617</td>\n",
       "    </tr>\n",
       "  </tbody>\n",
       "</table>\n",
       "</div>"
      ],
      "text/plain": [
       "          X       X_2       X_3       X_4        X_5        X_6        X_7  \\\n",
       "0  1.624345  2.638498  4.285832  6.961671  11.308158  18.368354  29.836551   \n",
       "1 -0.611756  0.374246 -0.228947  0.140060  -0.085683   0.052417  -0.032066   \n",
       "2 -0.528172  0.278965 -0.147342  0.077822  -0.041103   0.021710  -0.011466   \n",
       "3 -1.072969  1.151262 -1.235268  1.325403  -1.422116   1.525886  -1.637228   \n",
       "4  0.865408  0.748930  0.648130  0.560897   0.485404   0.420073   0.363534   \n",
       "\n",
       "         X_8        X_9        X_10  \n",
       "0  48.464863  78.723675  127.874436  \n",
       "1   0.019617  -0.012001    0.007342  \n",
       "2   0.006056  -0.003199    0.001689  \n",
       "3   1.756694  -1.884878    2.022415  \n",
       "4   0.314605   0.272262    0.235617  "
      ]
     },
     "execution_count": 8,
     "metadata": {},
     "output_type": "execute_result"
    }
   ],
   "source": [
    "# create predictors\n",
    "dfX = pd.DataFrame([X, pow(X, 2), pow(X, 3), pow(X, 4), pow(X, 5), pow(X, 6), pow(X, 7), pow(X, 8), pow(X, 9), pow(X, 10)]).T\n",
    "dfX.columns = ['X', 'X_2', 'X_3', 'X_4', 'X_5', 'X_6', 'X_7', 'X_8', 'X_9', 'X_10']\n",
    "dfX.head()"
   ]
  },
  {
   "cell_type": "code",
   "execution_count": 9,
   "metadata": {},
   "outputs": [
    {
     "data": {
      "text/html": [
       "<div>\n",
       "<style scoped>\n",
       "    .dataframe tbody tr th:only-of-type {\n",
       "        vertical-align: middle;\n",
       "    }\n",
       "\n",
       "    .dataframe tbody tr th {\n",
       "        vertical-align: top;\n",
       "    }\n",
       "\n",
       "    .dataframe thead th {\n",
       "        text-align: right;\n",
       "    }\n",
       "</style>\n",
       "<table border=\"1\" class=\"dataframe\">\n",
       "  <thead>\n",
       "    <tr style=\"text-align: right;\">\n",
       "      <th></th>\n",
       "      <th>Y</th>\n",
       "    </tr>\n",
       "  </thead>\n",
       "  <tbody>\n",
       "    <tr>\n",
       "      <th>0</th>\n",
       "      <td>16.934254</td>\n",
       "    </tr>\n",
       "    <tr>\n",
       "      <th>1</th>\n",
       "      <td>4.998390</td>\n",
       "    </tr>\n",
       "    <tr>\n",
       "      <th>2</th>\n",
       "      <td>3.928377</td>\n",
       "    </tr>\n",
       "    <tr>\n",
       "      <th>3</th>\n",
       "      <td>5.105132</td>\n",
       "    </tr>\n",
       "    <tr>\n",
       "      <th>4</th>\n",
       "      <td>3.041389</td>\n",
       "    </tr>\n",
       "  </tbody>\n",
       "</table>\n",
       "</div>"
      ],
      "text/plain": [
       "           Y\n",
       "0  16.934254\n",
       "1   4.998390\n",
       "2   3.928377\n",
       "3   5.105132\n",
       "4   3.041389"
      ]
     },
     "execution_count": 9,
     "metadata": {},
     "output_type": "execute_result"
    }
   ],
   "source": [
    "# target 'Y'\n",
    "dfY = pd.DataFrame(df['Y'])\n",
    "dfY.head()"
   ]
  },
  {
   "cell_type": "code",
   "execution_count": 10,
   "metadata": {},
   "outputs": [
    {
     "data": {
      "text/html": [
       "<div>\n",
       "<style scoped>\n",
       "    .dataframe tbody tr th:only-of-type {\n",
       "        vertical-align: middle;\n",
       "    }\n",
       "\n",
       "    .dataframe tbody tr th {\n",
       "        vertical-align: top;\n",
       "    }\n",
       "\n",
       "    .dataframe thead th {\n",
       "        text-align: right;\n",
       "    }\n",
       "</style>\n",
       "<table border=\"1\" class=\"dataframe\">\n",
       "  <thead>\n",
       "    <tr style=\"text-align: right;\">\n",
       "      <th></th>\n",
       "      <th>X</th>\n",
       "      <th>X_2</th>\n",
       "      <th>X_3</th>\n",
       "      <th>X_4</th>\n",
       "      <th>X_5</th>\n",
       "      <th>X_6</th>\n",
       "      <th>X_7</th>\n",
       "      <th>X_8</th>\n",
       "      <th>X_9</th>\n",
       "      <th>X_10</th>\n",
       "      <th>Y</th>\n",
       "    </tr>\n",
       "  </thead>\n",
       "  <tbody>\n",
       "    <tr>\n",
       "      <th>0</th>\n",
       "      <td>1.624345</td>\n",
       "      <td>2.638498</td>\n",
       "      <td>4.285832</td>\n",
       "      <td>6.961671</td>\n",
       "      <td>1.130816e+01</td>\n",
       "      <td>1.836835e+01</td>\n",
       "      <td>2.983655e+01</td>\n",
       "      <td>4.846486e+01</td>\n",
       "      <td>7.872367e+01</td>\n",
       "      <td>1.278744e+02</td>\n",
       "      <td>16.934254</td>\n",
       "    </tr>\n",
       "    <tr>\n",
       "      <th>1</th>\n",
       "      <td>-0.611756</td>\n",
       "      <td>0.374246</td>\n",
       "      <td>-0.228947</td>\n",
       "      <td>0.140060</td>\n",
       "      <td>-8.568260e-02</td>\n",
       "      <td>5.241688e-02</td>\n",
       "      <td>-3.206636e-02</td>\n",
       "      <td>1.961680e-02</td>\n",
       "      <td>-1.200071e-02</td>\n",
       "      <td>7.341509e-03</td>\n",
       "      <td>4.998390</td>\n",
       "    </tr>\n",
       "    <tr>\n",
       "      <th>2</th>\n",
       "      <td>-0.528172</td>\n",
       "      <td>0.278965</td>\n",
       "      <td>-0.147342</td>\n",
       "      <td>0.077822</td>\n",
       "      <td>-4.110322e-02</td>\n",
       "      <td>2.170956e-02</td>\n",
       "      <td>-1.146638e-02</td>\n",
       "      <td>6.056216e-03</td>\n",
       "      <td>-3.198722e-03</td>\n",
       "      <td>1.689475e-03</td>\n",
       "      <td>3.928377</td>\n",
       "    </tr>\n",
       "    <tr>\n",
       "      <th>3</th>\n",
       "      <td>-1.072969</td>\n",
       "      <td>1.151262</td>\n",
       "      <td>-1.235268</td>\n",
       "      <td>1.325403</td>\n",
       "      <td>-1.422116e+00</td>\n",
       "      <td>1.525886e+00</td>\n",
       "      <td>-1.637228e+00</td>\n",
       "      <td>1.756694e+00</td>\n",
       "      <td>-1.884878e+00</td>\n",
       "      <td>2.022415e+00</td>\n",
       "      <td>5.105132</td>\n",
       "    </tr>\n",
       "    <tr>\n",
       "      <th>4</th>\n",
       "      <td>0.865408</td>\n",
       "      <td>0.748930</td>\n",
       "      <td>0.648130</td>\n",
       "      <td>0.560897</td>\n",
       "      <td>4.854043e-01</td>\n",
       "      <td>4.200726e-01</td>\n",
       "      <td>3.635340e-01</td>\n",
       "      <td>3.146051e-01</td>\n",
       "      <td>2.722617e-01</td>\n",
       "      <td>2.356173e-01</td>\n",
       "      <td>3.041389</td>\n",
       "    </tr>\n",
       "    <tr>\n",
       "      <th>...</th>\n",
       "      <td>...</td>\n",
       "      <td>...</td>\n",
       "      <td>...</td>\n",
       "      <td>...</td>\n",
       "      <td>...</td>\n",
       "      <td>...</td>\n",
       "      <td>...</td>\n",
       "      <td>...</td>\n",
       "      <td>...</td>\n",
       "      <td>...</td>\n",
       "      <td>...</td>\n",
       "    </tr>\n",
       "    <tr>\n",
       "      <th>95</th>\n",
       "      <td>0.077340</td>\n",
       "      <td>0.005981</td>\n",
       "      <td>0.000463</td>\n",
       "      <td>0.000036</td>\n",
       "      <td>2.767087e-06</td>\n",
       "      <td>2.140067e-07</td>\n",
       "      <td>1.655129e-08</td>\n",
       "      <td>1.280078e-09</td>\n",
       "      <td>9.900132e-11</td>\n",
       "      <td>7.656768e-12</td>\n",
       "      <td>0.236983</td>\n",
       "    </tr>\n",
       "    <tr>\n",
       "      <th>96</th>\n",
       "      <td>-0.343854</td>\n",
       "      <td>0.118235</td>\n",
       "      <td>-0.040656</td>\n",
       "      <td>0.013980</td>\n",
       "      <td>-4.806936e-03</td>\n",
       "      <td>1.652883e-03</td>\n",
       "      <td>-5.683498e-04</td>\n",
       "      <td>1.954292e-04</td>\n",
       "      <td>-6.719904e-05</td>\n",
       "      <td>2.310664e-05</td>\n",
       "      <td>3.543094</td>\n",
       "    </tr>\n",
       "    <tr>\n",
       "      <th>97</th>\n",
       "      <td>0.043597</td>\n",
       "      <td>0.001901</td>\n",
       "      <td>0.000083</td>\n",
       "      <td>0.000004</td>\n",
       "      <td>1.574983e-07</td>\n",
       "      <td>6.866431e-09</td>\n",
       "      <td>2.993548e-10</td>\n",
       "      <td>1.305093e-11</td>\n",
       "      <td>5.689795e-13</td>\n",
       "      <td>2.480572e-14</td>\n",
       "      <td>2.338998</td>\n",
       "    </tr>\n",
       "    <tr>\n",
       "      <th>98</th>\n",
       "      <td>-0.620001</td>\n",
       "      <td>0.384401</td>\n",
       "      <td>-0.238329</td>\n",
       "      <td>0.147764</td>\n",
       "      <td>-9.161391e-02</td>\n",
       "      <td>5.680070e-02</td>\n",
       "      <td>-3.521648e-02</td>\n",
       "      <td>2.183425e-02</td>\n",
       "      <td>-1.353725e-02</td>\n",
       "      <td>8.393108e-03</td>\n",
       "      <td>4.608334</td>\n",
       "    </tr>\n",
       "    <tr>\n",
       "      <th>99</th>\n",
       "      <td>0.698032</td>\n",
       "      <td>0.487249</td>\n",
       "      <td>0.340115</td>\n",
       "      <td>0.237411</td>\n",
       "      <td>1.657207e-01</td>\n",
       "      <td>1.156784e-01</td>\n",
       "      <td>8.074720e-02</td>\n",
       "      <td>5.636413e-02</td>\n",
       "      <td>3.934397e-02</td>\n",
       "      <td>2.746335e-02</td>\n",
       "      <td>3.960412</td>\n",
       "    </tr>\n",
       "  </tbody>\n",
       "</table>\n",
       "<p>100 rows × 11 columns</p>\n",
       "</div>"
      ],
      "text/plain": [
       "           X       X_2       X_3       X_4           X_5           X_6  \\\n",
       "0   1.624345  2.638498  4.285832  6.961671  1.130816e+01  1.836835e+01   \n",
       "1  -0.611756  0.374246 -0.228947  0.140060 -8.568260e-02  5.241688e-02   \n",
       "2  -0.528172  0.278965 -0.147342  0.077822 -4.110322e-02  2.170956e-02   \n",
       "3  -1.072969  1.151262 -1.235268  1.325403 -1.422116e+00  1.525886e+00   \n",
       "4   0.865408  0.748930  0.648130  0.560897  4.854043e-01  4.200726e-01   \n",
       "..       ...       ...       ...       ...           ...           ...   \n",
       "95  0.077340  0.005981  0.000463  0.000036  2.767087e-06  2.140067e-07   \n",
       "96 -0.343854  0.118235 -0.040656  0.013980 -4.806936e-03  1.652883e-03   \n",
       "97  0.043597  0.001901  0.000083  0.000004  1.574983e-07  6.866431e-09   \n",
       "98 -0.620001  0.384401 -0.238329  0.147764 -9.161391e-02  5.680070e-02   \n",
       "99  0.698032  0.487249  0.340115  0.237411  1.657207e-01  1.156784e-01   \n",
       "\n",
       "             X_7           X_8           X_9          X_10          Y  \n",
       "0   2.983655e+01  4.846486e+01  7.872367e+01  1.278744e+02  16.934254  \n",
       "1  -3.206636e-02  1.961680e-02 -1.200071e-02  7.341509e-03   4.998390  \n",
       "2  -1.146638e-02  6.056216e-03 -3.198722e-03  1.689475e-03   3.928377  \n",
       "3  -1.637228e+00  1.756694e+00 -1.884878e+00  2.022415e+00   5.105132  \n",
       "4   3.635340e-01  3.146051e-01  2.722617e-01  2.356173e-01   3.041389  \n",
       "..           ...           ...           ...           ...        ...  \n",
       "95  1.655129e-08  1.280078e-09  9.900132e-11  7.656768e-12   0.236983  \n",
       "96 -5.683498e-04  1.954292e-04 -6.719904e-05  2.310664e-05   3.543094  \n",
       "97  2.993548e-10  1.305093e-11  5.689795e-13  2.480572e-14   2.338998  \n",
       "98 -3.521648e-02  2.183425e-02 -1.353725e-02  8.393108e-03   4.608334  \n",
       "99  8.074720e-02  5.636413e-02  3.934397e-02  2.746335e-02   3.960412  \n",
       "\n",
       "[100 rows x 11 columns]"
      ]
     },
     "execution_count": 10,
     "metadata": {},
     "output_type": "execute_result"
    }
   ],
   "source": [
    "df_new = pd.concat([dfX, dfY], axis = 1)\n",
    "df_new"
   ]
  },
  {
   "cell_type": "code",
   "execution_count": 11,
   "metadata": {},
   "outputs": [],
   "source": [
    "# define function to compute the negative $C_p$ statistic\n",
    "# sklearn tries to maximize the metric (i.e. negative turns metric to minimize)\n",
    "def nCp(sigma2, estimator, X, Y):\n",
    "    \"Negative Cp statistic\"\n",
    "    n, p = X.shape\n",
    "    Yhat = estimator.predict(X)\n",
    "    RSS = np.sum((Y - Yhat)**2)\n",
    "    return -(RSS + 2 * p * sigma2) / n"
   ]
  },
  {
   "cell_type": "code",
   "execution_count": 28,
   "metadata": {},
   "outputs": [],
   "source": [
    "# estimate the residual variance $sigma^2$\n",
    "design = MS(df_new.columns.drop('Y')).fit(df_new)\n",
    "Y = np.array(df_new['Y'])\n",
    "X = design.transform(df_new)\n",
    "sigma2 = OLS(Y, X).fit().scale"
   ]
  },
  {
   "cell_type": "code",
   "execution_count": 14,
   "metadata": {},
   "outputs": [
    {
     "data": {
      "text/html": [
       "<div>\n",
       "<style scoped>\n",
       "    .dataframe tbody tr th:only-of-type {\n",
       "        vertical-align: middle;\n",
       "    }\n",
       "\n",
       "    .dataframe tbody tr th {\n",
       "        vertical-align: top;\n",
       "    }\n",
       "\n",
       "    .dataframe thead th {\n",
       "        text-align: right;\n",
       "    }\n",
       "</style>\n",
       "<table border=\"1\" class=\"dataframe\">\n",
       "  <thead>\n",
       "    <tr style=\"text-align: right;\">\n",
       "      <th></th>\n",
       "      <th>intercept</th>\n",
       "      <th>X</th>\n",
       "      <th>X_2</th>\n",
       "      <th>X_3</th>\n",
       "      <th>X_4</th>\n",
       "      <th>X_5</th>\n",
       "      <th>X_6</th>\n",
       "      <th>X_7</th>\n",
       "      <th>X_8</th>\n",
       "      <th>X_9</th>\n",
       "      <th>X_10</th>\n",
       "    </tr>\n",
       "  </thead>\n",
       "  <tbody>\n",
       "    <tr>\n",
       "      <th>0</th>\n",
       "      <td>1.0</td>\n",
       "      <td>1.624345</td>\n",
       "      <td>2.638498</td>\n",
       "      <td>4.285832</td>\n",
       "      <td>6.961671</td>\n",
       "      <td>1.130816e+01</td>\n",
       "      <td>1.836835e+01</td>\n",
       "      <td>2.983655e+01</td>\n",
       "      <td>4.846486e+01</td>\n",
       "      <td>7.872367e+01</td>\n",
       "      <td>1.278744e+02</td>\n",
       "    </tr>\n",
       "    <tr>\n",
       "      <th>1</th>\n",
       "      <td>1.0</td>\n",
       "      <td>-0.611756</td>\n",
       "      <td>0.374246</td>\n",
       "      <td>-0.228947</td>\n",
       "      <td>0.140060</td>\n",
       "      <td>-8.568260e-02</td>\n",
       "      <td>5.241688e-02</td>\n",
       "      <td>-3.206636e-02</td>\n",
       "      <td>1.961680e-02</td>\n",
       "      <td>-1.200071e-02</td>\n",
       "      <td>7.341509e-03</td>\n",
       "    </tr>\n",
       "    <tr>\n",
       "      <th>2</th>\n",
       "      <td>1.0</td>\n",
       "      <td>-0.528172</td>\n",
       "      <td>0.278965</td>\n",
       "      <td>-0.147342</td>\n",
       "      <td>0.077822</td>\n",
       "      <td>-4.110322e-02</td>\n",
       "      <td>2.170956e-02</td>\n",
       "      <td>-1.146638e-02</td>\n",
       "      <td>6.056216e-03</td>\n",
       "      <td>-3.198722e-03</td>\n",
       "      <td>1.689475e-03</td>\n",
       "    </tr>\n",
       "    <tr>\n",
       "      <th>3</th>\n",
       "      <td>1.0</td>\n",
       "      <td>-1.072969</td>\n",
       "      <td>1.151262</td>\n",
       "      <td>-1.235268</td>\n",
       "      <td>1.325403</td>\n",
       "      <td>-1.422116e+00</td>\n",
       "      <td>1.525886e+00</td>\n",
       "      <td>-1.637228e+00</td>\n",
       "      <td>1.756694e+00</td>\n",
       "      <td>-1.884878e+00</td>\n",
       "      <td>2.022415e+00</td>\n",
       "    </tr>\n",
       "    <tr>\n",
       "      <th>4</th>\n",
       "      <td>1.0</td>\n",
       "      <td>0.865408</td>\n",
       "      <td>0.748930</td>\n",
       "      <td>0.648130</td>\n",
       "      <td>0.560897</td>\n",
       "      <td>4.854043e-01</td>\n",
       "      <td>4.200726e-01</td>\n",
       "      <td>3.635340e-01</td>\n",
       "      <td>3.146051e-01</td>\n",
       "      <td>2.722617e-01</td>\n",
       "      <td>2.356173e-01</td>\n",
       "    </tr>\n",
       "    <tr>\n",
       "      <th>...</th>\n",
       "      <td>...</td>\n",
       "      <td>...</td>\n",
       "      <td>...</td>\n",
       "      <td>...</td>\n",
       "      <td>...</td>\n",
       "      <td>...</td>\n",
       "      <td>...</td>\n",
       "      <td>...</td>\n",
       "      <td>...</td>\n",
       "      <td>...</td>\n",
       "      <td>...</td>\n",
       "    </tr>\n",
       "    <tr>\n",
       "      <th>95</th>\n",
       "      <td>1.0</td>\n",
       "      <td>0.077340</td>\n",
       "      <td>0.005981</td>\n",
       "      <td>0.000463</td>\n",
       "      <td>0.000036</td>\n",
       "      <td>2.767087e-06</td>\n",
       "      <td>2.140067e-07</td>\n",
       "      <td>1.655129e-08</td>\n",
       "      <td>1.280078e-09</td>\n",
       "      <td>9.900132e-11</td>\n",
       "      <td>7.656768e-12</td>\n",
       "    </tr>\n",
       "    <tr>\n",
       "      <th>96</th>\n",
       "      <td>1.0</td>\n",
       "      <td>-0.343854</td>\n",
       "      <td>0.118235</td>\n",
       "      <td>-0.040656</td>\n",
       "      <td>0.013980</td>\n",
       "      <td>-4.806936e-03</td>\n",
       "      <td>1.652883e-03</td>\n",
       "      <td>-5.683498e-04</td>\n",
       "      <td>1.954292e-04</td>\n",
       "      <td>-6.719904e-05</td>\n",
       "      <td>2.310664e-05</td>\n",
       "    </tr>\n",
       "    <tr>\n",
       "      <th>97</th>\n",
       "      <td>1.0</td>\n",
       "      <td>0.043597</td>\n",
       "      <td>0.001901</td>\n",
       "      <td>0.000083</td>\n",
       "      <td>0.000004</td>\n",
       "      <td>1.574983e-07</td>\n",
       "      <td>6.866431e-09</td>\n",
       "      <td>2.993548e-10</td>\n",
       "      <td>1.305093e-11</td>\n",
       "      <td>5.689795e-13</td>\n",
       "      <td>2.480572e-14</td>\n",
       "    </tr>\n",
       "    <tr>\n",
       "      <th>98</th>\n",
       "      <td>1.0</td>\n",
       "      <td>-0.620001</td>\n",
       "      <td>0.384401</td>\n",
       "      <td>-0.238329</td>\n",
       "      <td>0.147764</td>\n",
       "      <td>-9.161391e-02</td>\n",
       "      <td>5.680070e-02</td>\n",
       "      <td>-3.521648e-02</td>\n",
       "      <td>2.183425e-02</td>\n",
       "      <td>-1.353725e-02</td>\n",
       "      <td>8.393108e-03</td>\n",
       "    </tr>\n",
       "    <tr>\n",
       "      <th>99</th>\n",
       "      <td>1.0</td>\n",
       "      <td>0.698032</td>\n",
       "      <td>0.487249</td>\n",
       "      <td>0.340115</td>\n",
       "      <td>0.237411</td>\n",
       "      <td>1.657207e-01</td>\n",
       "      <td>1.156784e-01</td>\n",
       "      <td>8.074720e-02</td>\n",
       "      <td>5.636413e-02</td>\n",
       "      <td>3.934397e-02</td>\n",
       "      <td>2.746335e-02</td>\n",
       "    </tr>\n",
       "  </tbody>\n",
       "</table>\n",
       "<p>100 rows × 11 columns</p>\n",
       "</div>"
      ],
      "text/plain": [
       "    intercept         X       X_2       X_3       X_4           X_5  \\\n",
       "0         1.0  1.624345  2.638498  4.285832  6.961671  1.130816e+01   \n",
       "1         1.0 -0.611756  0.374246 -0.228947  0.140060 -8.568260e-02   \n",
       "2         1.0 -0.528172  0.278965 -0.147342  0.077822 -4.110322e-02   \n",
       "3         1.0 -1.072969  1.151262 -1.235268  1.325403 -1.422116e+00   \n",
       "4         1.0  0.865408  0.748930  0.648130  0.560897  4.854043e-01   \n",
       "..        ...       ...       ...       ...       ...           ...   \n",
       "95        1.0  0.077340  0.005981  0.000463  0.000036  2.767087e-06   \n",
       "96        1.0 -0.343854  0.118235 -0.040656  0.013980 -4.806936e-03   \n",
       "97        1.0  0.043597  0.001901  0.000083  0.000004  1.574983e-07   \n",
       "98        1.0 -0.620001  0.384401 -0.238329  0.147764 -9.161391e-02   \n",
       "99        1.0  0.698032  0.487249  0.340115  0.237411  1.657207e-01   \n",
       "\n",
       "             X_6           X_7           X_8           X_9          X_10  \n",
       "0   1.836835e+01  2.983655e+01  4.846486e+01  7.872367e+01  1.278744e+02  \n",
       "1   5.241688e-02 -3.206636e-02  1.961680e-02 -1.200071e-02  7.341509e-03  \n",
       "2   2.170956e-02 -1.146638e-02  6.056216e-03 -3.198722e-03  1.689475e-03  \n",
       "3   1.525886e+00 -1.637228e+00  1.756694e+00 -1.884878e+00  2.022415e+00  \n",
       "4   4.200726e-01  3.635340e-01  3.146051e-01  2.722617e-01  2.356173e-01  \n",
       "..           ...           ...           ...           ...           ...  \n",
       "95  2.140067e-07  1.655129e-08  1.280078e-09  9.900132e-11  7.656768e-12  \n",
       "96  1.652883e-03 -5.683498e-04  1.954292e-04 -6.719904e-05  2.310664e-05  \n",
       "97  6.866431e-09  2.993548e-10  1.305093e-11  5.689795e-13  2.480572e-14  \n",
       "98  5.680070e-02 -3.521648e-02  2.183425e-02 -1.353725e-02  8.393108e-03  \n",
       "99  1.156784e-01  8.074720e-02  5.636413e-02  3.934397e-02  2.746335e-02  \n",
       "\n",
       "[100 rows x 11 columns]"
      ]
     },
     "execution_count": 14,
     "metadata": {},
     "output_type": "execute_result"
    }
   ],
   "source": [
    "X"
   ]
  },
  {
   "cell_type": "code",
   "execution_count": 29,
   "metadata": {},
   "outputs": [],
   "source": [
    "# neg_Cp\n",
    "neg_Cp = partial(nCp, sigma2)"
   ]
  },
  {
   "cell_type": "code",
   "execution_count": 16,
   "metadata": {},
   "outputs": [],
   "source": [
    "# forward stepwise selection\n",
    "strategy = Stepwise.first_peak(design, direction = 'forward', max_terms = len(design.terms))"
   ]
  },
  {
   "cell_type": "code",
   "execution_count": 18,
   "metadata": {},
   "outputs": [
    {
     "data": {
      "text/plain": [
       "('X', 'X_10', 'X_2', 'X_3', 'X_4', 'X_5', 'X_6', 'X_7', 'X_8', 'X_9')"
      ]
     },
     "execution_count": 18,
     "metadata": {},
     "output_type": "execute_result"
    }
   ],
   "source": [
    "# df_MSE\n",
    "df_MSE = sklearn_selected(OLS, strategy)\n",
    "\n",
    "df_MSE.fit(df_new, Y)\n",
    "df_MSE.selected_state_"
   ]
  },
  {
   "cell_type": "code",
   "execution_count": 19,
   "metadata": {},
   "outputs": [
    {
     "data": {
      "text/plain": [
       "('X', 'X_2', 'X_3', 'X_6')"
      ]
     },
     "execution_count": 19,
     "metadata": {},
     "output_type": "execute_result"
    }
   ],
   "source": [
    "# using neg_Cp as metric\n",
    "df_Cp = sklearn_selected(OLS, strategy, scoring=neg_Cp)\n",
    "df_Cp.fit(df_new, Y)\n",
    "df_Cp.selected_state_"
   ]
  },
  {
   "cell_type": "markdown",
   "metadata": {},
   "source": [
    "### 8 (d) Repeat (c) using backwards stepwise selection. How does your answer compare to the results in (c)?"
   ]
  },
  {
   "cell_type": "code",
   "execution_count": 30,
   "metadata": {},
   "outputs": [],
   "source": [
    "# backwardward stepwise selection\n",
    "strategy_back = Stepwise.first_peak(design, direction = 'backward', max_terms = len(design.terms))"
   ]
  },
  {
   "cell_type": "code",
   "execution_count": 31,
   "metadata": {},
   "outputs": [
    {
     "data": {
      "text/plain": [
       "()"
      ]
     },
     "execution_count": 31,
     "metadata": {},
     "output_type": "execute_result"
    }
   ],
   "source": [
    "# df_MSE_back\n",
    "df_MSE_back = sklearn_selected(OLS, strategy_back)\n",
    "\n",
    "df_MSE_back.fit(df_new, Y)\n",
    "df_MSE_back.selected_state_"
   ]
  },
  {
   "cell_type": "code",
   "execution_count": 32,
   "metadata": {},
   "outputs": [
    {
     "data": {
      "text/plain": [
       "()"
      ]
     },
     "execution_count": 32,
     "metadata": {},
     "output_type": "execute_result"
    }
   ],
   "source": [
    "# using neg_Cp as metric\n",
    "df_Cp_back = sklearn_selected(OLS, strategy_back, scoring=neg_Cp)\n",
    "df_Cp_back.fit(df_new, Y)\n",
    "df_Cp_back.selected_state_"
   ]
  },
  {
   "cell_type": "markdown",
   "metadata": {},
   "source": [
    "Using `mlxtend` package to perform feature selection and plotting steps\n",
    "\n",
    "Source: https://rasbt.github.io/mlxtend/"
   ]
  },
  {
   "cell_type": "code",
   "execution_count": 8,
   "metadata": {},
   "outputs": [],
   "source": [
    "# import custom packages\n",
    "from sklearn.metrics import mean_squared_error\n",
    "from sklearn.linear_model import LinearRegression\n",
    "from sklearn.metrics import r2_score as r2\n",
    "from mlxtend.feature_selection import ExhaustiveFeatureSelector as EFS\n",
    "from mlxtend.plotting import plot_linear_regression as PLS\n",
    "from sklearn.metrics import mean_squared_error"
   ]
  },
  {
   "cell_type": "code",
   "execution_count": 9,
   "metadata": {},
   "outputs": [
    {
     "data": {
      "text/html": [
       "<div>\n",
       "<style scoped>\n",
       "    .dataframe tbody tr th:only-of-type {\n",
       "        vertical-align: middle;\n",
       "    }\n",
       "\n",
       "    .dataframe tbody tr th {\n",
       "        vertical-align: top;\n",
       "    }\n",
       "\n",
       "    .dataframe thead th {\n",
       "        text-align: right;\n",
       "    }\n",
       "</style>\n",
       "<table border=\"1\" class=\"dataframe\">\n",
       "  <thead>\n",
       "    <tr style=\"text-align: right;\">\n",
       "      <th></th>\n",
       "      <th>X</th>\n",
       "      <th>X^2</th>\n",
       "      <th>X^3</th>\n",
       "      <th>X^4</th>\n",
       "      <th>X^5</th>\n",
       "      <th>X^6</th>\n",
       "      <th>X^7</th>\n",
       "      <th>X^8</th>\n",
       "      <th>X^9</th>\n",
       "      <th>X^10</th>\n",
       "    </tr>\n",
       "  </thead>\n",
       "  <tbody>\n",
       "    <tr>\n",
       "      <th>0</th>\n",
       "      <td>1.624345</td>\n",
       "      <td>2.638498</td>\n",
       "      <td>4.285832</td>\n",
       "      <td>6.961671</td>\n",
       "      <td>11.308158</td>\n",
       "      <td>18.368354</td>\n",
       "      <td>29.836551</td>\n",
       "      <td>48.464863</td>\n",
       "      <td>78.723675</td>\n",
       "      <td>127.874436</td>\n",
       "    </tr>\n",
       "    <tr>\n",
       "      <th>1</th>\n",
       "      <td>-0.611756</td>\n",
       "      <td>0.374246</td>\n",
       "      <td>-0.228947</td>\n",
       "      <td>0.140060</td>\n",
       "      <td>-0.085683</td>\n",
       "      <td>0.052417</td>\n",
       "      <td>-0.032066</td>\n",
       "      <td>0.019617</td>\n",
       "      <td>-0.012001</td>\n",
       "      <td>0.007342</td>\n",
       "    </tr>\n",
       "    <tr>\n",
       "      <th>2</th>\n",
       "      <td>-0.528172</td>\n",
       "      <td>0.278965</td>\n",
       "      <td>-0.147342</td>\n",
       "      <td>0.077822</td>\n",
       "      <td>-0.041103</td>\n",
       "      <td>0.021710</td>\n",
       "      <td>-0.011466</td>\n",
       "      <td>0.006056</td>\n",
       "      <td>-0.003199</td>\n",
       "      <td>0.001689</td>\n",
       "    </tr>\n",
       "    <tr>\n",
       "      <th>3</th>\n",
       "      <td>-1.072969</td>\n",
       "      <td>1.151262</td>\n",
       "      <td>-1.235268</td>\n",
       "      <td>1.325403</td>\n",
       "      <td>-1.422116</td>\n",
       "      <td>1.525886</td>\n",
       "      <td>-1.637228</td>\n",
       "      <td>1.756694</td>\n",
       "      <td>-1.884878</td>\n",
       "      <td>2.022415</td>\n",
       "    </tr>\n",
       "    <tr>\n",
       "      <th>4</th>\n",
       "      <td>0.865408</td>\n",
       "      <td>0.748930</td>\n",
       "      <td>0.648130</td>\n",
       "      <td>0.560897</td>\n",
       "      <td>0.485404</td>\n",
       "      <td>0.420073</td>\n",
       "      <td>0.363534</td>\n",
       "      <td>0.314605</td>\n",
       "      <td>0.272262</td>\n",
       "      <td>0.235617</td>\n",
       "    </tr>\n",
       "  </tbody>\n",
       "</table>\n",
       "</div>"
      ],
      "text/plain": [
       "          X       X^2       X^3       X^4        X^5        X^6        X^7  \\\n",
       "0  1.624345  2.638498  4.285832  6.961671  11.308158  18.368354  29.836551   \n",
       "1 -0.611756  0.374246 -0.228947  0.140060  -0.085683   0.052417  -0.032066   \n",
       "2 -0.528172  0.278965 -0.147342  0.077822  -0.041103   0.021710  -0.011466   \n",
       "3 -1.072969  1.151262 -1.235268  1.325403  -1.422116   1.525886  -1.637228   \n",
       "4  0.865408  0.748930  0.648130  0.560897   0.485404   0.420073   0.363534   \n",
       "\n",
       "         X^8        X^9        X^10  \n",
       "0  48.464863  78.723675  127.874436  \n",
       "1   0.019617  -0.012001    0.007342  \n",
       "2   0.006056  -0.003199    0.001689  \n",
       "3   1.756694  -1.884878    2.022415  \n",
       "4   0.314605   0.272262    0.235617  "
      ]
     },
     "execution_count": 9,
     "metadata": {},
     "output_type": "execute_result"
    }
   ],
   "source": [
    "dfX = pd.DataFrame([X, pow(X, 2), pow(X, 3), pow(X, 4), pow(X, 5), pow(X, 6), pow(X, 7), pow(X, 8), pow(X, 9), pow(X, 10)]).T\n",
    "dfX.columns = ['X', 'X^2', 'X^3', 'X^4', 'X^5', 'X^6', 'X^7', 'X^8', 'X^9', 'X^10']\n",
    "dfX.head()"
   ]
  },
  {
   "cell_type": "code",
   "execution_count": 10,
   "metadata": {},
   "outputs": [
    {
     "data": {
      "text/html": [
       "<div>\n",
       "<style scoped>\n",
       "    .dataframe tbody tr th:only-of-type {\n",
       "        vertical-align: middle;\n",
       "    }\n",
       "\n",
       "    .dataframe tbody tr th {\n",
       "        vertical-align: top;\n",
       "    }\n",
       "\n",
       "    .dataframe thead th {\n",
       "        text-align: right;\n",
       "    }\n",
       "</style>\n",
       "<table border=\"1\" class=\"dataframe\">\n",
       "  <thead>\n",
       "    <tr style=\"text-align: right;\">\n",
       "      <th></th>\n",
       "      <th>Y</th>\n",
       "    </tr>\n",
       "  </thead>\n",
       "  <tbody>\n",
       "    <tr>\n",
       "      <th>0</th>\n",
       "      <td>16.934254</td>\n",
       "    </tr>\n",
       "    <tr>\n",
       "      <th>1</th>\n",
       "      <td>4.998390</td>\n",
       "    </tr>\n",
       "    <tr>\n",
       "      <th>2</th>\n",
       "      <td>3.928377</td>\n",
       "    </tr>\n",
       "    <tr>\n",
       "      <th>3</th>\n",
       "      <td>5.105132</td>\n",
       "    </tr>\n",
       "    <tr>\n",
       "      <th>4</th>\n",
       "      <td>3.041389</td>\n",
       "    </tr>\n",
       "  </tbody>\n",
       "</table>\n",
       "</div>"
      ],
      "text/plain": [
       "           Y\n",
       "0  16.934254\n",
       "1   4.998390\n",
       "2   3.928377\n",
       "3   5.105132\n",
       "4   3.041389"
      ]
     },
     "execution_count": 10,
     "metadata": {},
     "output_type": "execute_result"
    }
   ],
   "source": [
    "dfY = pd.DataFrame(df['Y'])\n",
    "dfY.head()"
   ]
  },
  {
   "cell_type": "code",
   "execution_count": 21,
   "metadata": {},
   "outputs": [
    {
     "name": "stderr",
     "output_type": "stream",
     "text": [
      "Features: 1023/1023"
     ]
    }
   ],
   "source": [
    "lm = LinearRegression()\n",
    "efs = EFS(lm, min_features=1, max_features=10, scoring='r2', cv=5).fit(dfX, dfY)"
   ]
  },
  {
   "cell_type": "code",
   "execution_count": 22,
   "metadata": {},
   "outputs": [
    {
     "data": {
      "text/plain": [
       "[<matplotlib.lines.Line2D at 0x16c0a1f40>]"
      ]
     },
     "execution_count": 22,
     "metadata": {},
     "output_type": "execute_result"
    },
    {
     "data": {
      "image/png": "[encoded data removed]",
      "text/plain": [
       "<Figure size 1800x720 with 1 Axes>"
      ]
     },
     "metadata": {
      "needs_background": "light"
     },
     "output_type": "display_data"
    }
   ],
   "source": [
    "SCORE = pd.DataFrame()\n",
    "for k in efs.get_metric_dict():\n",
    "    score = efs.get_metric_dict()[k]['std_err']\n",
    "    SCORE = SCORE.append([score])\n",
    "\n",
    "SCORE.columns = ['std err']\n",
    "SCORE.reset_index(drop=True, inplace=True)\n",
    "\n",
    "# plt.xkcd()\n",
    "plt.figure(figsize=(25, 10))\n",
    "plt.plot(SCORE)"
   ]
  },
  {
   "cell_type": "code",
   "execution_count": 23,
   "metadata": {},
   "outputs": [
    {
     "data": {
      "text/html": [
       "<div>\n",
       "<style scoped>\n",
       "    .dataframe tbody tr th:only-of-type {\n",
       "        vertical-align: middle;\n",
       "    }\n",
       "\n",
       "    .dataframe tbody tr th {\n",
       "        vertical-align: top;\n",
       "    }\n",
       "\n",
       "    .dataframe thead th {\n",
       "        text-align: right;\n",
       "    }\n",
       "</style>\n",
       "<table border=\"1\" class=\"dataframe\">\n",
       "  <thead>\n",
       "    <tr style=\"text-align: right;\">\n",
       "      <th></th>\n",
       "      <th>std err</th>\n",
       "    </tr>\n",
       "  </thead>\n",
       "  <tbody>\n",
       "    <tr>\n",
       "      <th>670</th>\n",
       "      <td>0.028986</td>\n",
       "    </tr>\n",
       "  </tbody>\n",
       "</table>\n",
       "</div>"
      ],
      "text/plain": [
       "      std err\n",
       "670  0.028986"
      ]
     },
     "execution_count": 23,
     "metadata": {},
     "output_type": "execute_result"
    }
   ],
   "source": [
    "minSCORE = SCORE.loc[SCORE['std err'] == min(SCORE['std err'])]\n",
    "minSCORE"
   ]
  },
  {
   "cell_type": "code",
   "execution_count": 24,
   "metadata": {},
   "outputs": [
    {
     "data": {
      "text/plain": [
       "{'feature_idx': (0, 1, 2, 6, 8, 9),\n",
       " 'cv_scores': array([0.93080303, 0.91452088, 0.98575718, 0.98726202, 0.82911732]),\n",
       " 'avg_score': 0.9294920851595295,\n",
       " 'feature_names': ('X', 'X^2', 'X^3', 'X^7', 'X^9', 'X^10')}"
      ]
     },
     "execution_count": 24,
     "metadata": {},
     "output_type": "execute_result"
    }
   ],
   "source": [
    "efs.subsets_[670]"
   ]
  },
  {
   "cell_type": "code",
   "execution_count": 25,
   "metadata": {},
   "outputs": [
    {
     "data": {
      "text/html": [
       "<div>\n",
       "<style scoped>\n",
       "    .dataframe tbody tr th:only-of-type {\n",
       "        vertical-align: middle;\n",
       "    }\n",
       "\n",
       "    .dataframe tbody tr th {\n",
       "        vertical-align: top;\n",
       "    }\n",
       "\n",
       "    .dataframe thead th {\n",
       "        text-align: right;\n",
       "    }\n",
       "</style>\n",
       "<table border=\"1\" class=\"dataframe\">\n",
       "  <thead>\n",
       "    <tr style=\"text-align: right;\">\n",
       "      <th></th>\n",
       "      <th>Features</th>\n",
       "      <th>Index</th>\n",
       "      <th>Average Score</th>\n",
       "    </tr>\n",
       "  </thead>\n",
       "  <tbody>\n",
       "    <tr>\n",
       "      <th>0</th>\n",
       "      <td>X</td>\n",
       "      <td>0</td>\n",
       "      <td>-0.060716</td>\n",
       "    </tr>\n",
       "    <tr>\n",
       "      <th>1</th>\n",
       "      <td>X^2</td>\n",
       "      <td>1</td>\n",
       "      <td>0.101921</td>\n",
       "    </tr>\n",
       "    <tr>\n",
       "      <th>2</th>\n",
       "      <td>X^3</td>\n",
       "      <td>2</td>\n",
       "      <td>0.361016</td>\n",
       "    </tr>\n",
       "    <tr>\n",
       "      <th>3</th>\n",
       "      <td>X^10</td>\n",
       "      <td>9</td>\n",
       "      <td>-1.393424</td>\n",
       "    </tr>\n",
       "  </tbody>\n",
       "</table>\n",
       "</div>"
      ],
      "text/plain": [
       "  Features  Index  Average Score\n",
       "0        X      0      -0.060716\n",
       "1      X^2      1       0.101921\n",
       "2      X^3      2       0.361016\n",
       "3     X^10      9      -1.393424"
      ]
     },
     "execution_count": 25,
     "metadata": {},
     "output_type": "execute_result"
    }
   ],
   "source": [
    "features = efs.best_feature_names_\n",
    "idx = efs.best_idx_\n",
    "\n",
    "feat_list = pd.concat([pd.DataFrame([features]).T, pd.DataFrame([idx]).T], axis = 1)\n",
    "feat_list.columns = ['Features', 'Index']\n",
    "avg_score = pd.DataFrame()\n",
    "for i in idx:\n",
    "    avg_score = avg_score.append(pd.DataFrame([efs.subsets_[i]['avg_score']]))\n",
    "avg_score.columns = ['Average Score']\n",
    "avg_score.reset_index(drop=True,inplace=True)\n",
    "feat_list = pd.concat([feat_list, avg_score], axis=1, ignore_index=True)\n",
    "feat_list.columns = ['Features', 'Index', 'Average Score']\n",
    "feat_list"
   ]
  },
  {
   "cell_type": "code",
   "execution_count": 19,
   "metadata": {},
   "outputs": [
    {
     "data": {
      "text/html": [
       "<div>\n",
       "<style scoped>\n",
       "    .dataframe tbody tr th:only-of-type {\n",
       "        vertical-align: middle;\n",
       "    }\n",
       "\n",
       "    .dataframe tbody tr th {\n",
       "        vertical-align: top;\n",
       "    }\n",
       "\n",
       "    .dataframe thead th {\n",
       "        text-align: right;\n",
       "    }\n",
       "</style>\n",
       "<table border=\"1\" class=\"dataframe\">\n",
       "  <thead>\n",
       "    <tr style=\"text-align: right;\">\n",
       "      <th></th>\n",
       "      <th>Features</th>\n",
       "      <th>Coefficients</th>\n",
       "      <th>Intercept</th>\n",
       "    </tr>\n",
       "  </thead>\n",
       "  <tbody>\n",
       "    <tr>\n",
       "      <th>0</th>\n",
       "      <td>X</td>\n",
       "      <td>-2.103748</td>\n",
       "      <td>2.231123</td>\n",
       "    </tr>\n",
       "    <tr>\n",
       "      <th>1</th>\n",
       "      <td>X^2</td>\n",
       "      <td>2.794190</td>\n",
       "      <td>2.231123</td>\n",
       "    </tr>\n",
       "    <tr>\n",
       "      <th>2</th>\n",
       "      <td>X^3</td>\n",
       "      <td>2.612231</td>\n",
       "      <td>2.231123</td>\n",
       "    </tr>\n",
       "    <tr>\n",
       "      <th>3</th>\n",
       "      <td>X^10</td>\n",
       "      <td>0.000629</td>\n",
       "      <td>2.231123</td>\n",
       "    </tr>\n",
       "  </tbody>\n",
       "</table>\n",
       "</div>"
      ],
      "text/plain": [
       "  Features  Coefficients  Intercept\n",
       "0        X     -2.103748   2.231123\n",
       "1      X^2      2.794190   2.231123\n",
       "2      X^3      2.612231   2.231123\n",
       "3     X^10      0.000629   2.231123"
      ]
     },
     "execution_count": 19,
     "metadata": {},
     "output_type": "execute_result"
    }
   ],
   "source": [
    "# performing linear regression on best features\n",
    "dfX_reg = dfX[feat_list['Features']]\n",
    "\n",
    "lm_best = LinearRegression().fit(dfX_reg, dfY)\n",
    "final_coefs = pd.DataFrame(lm_best.coef_).T\n",
    "final_coefs = pd.concat([feat_list['Features'], final_coefs], axis = 1)\n",
    "final_intercept = pd.DataFrame([lm_best.intercept_]*4)\n",
    "final_coefs = pd.concat([final_coefs, final_intercept], axis = 1)\n",
    "final_coefs.columns = ['Features', 'Coefficients', 'Intercept']\n",
    "final_coefs"
   ]
  },
  {
   "cell_type": "code",
   "execution_count": 20,
   "metadata": {},
   "outputs": [
    {
     "name": "stdout",
     "output_type": "stream",
     "text": [
      "Mean Squared Error:  0.807\n"
     ]
    }
   ],
   "source": [
    "lmpred = lm_best.predict(dfX_reg)\n",
    "print(\"Mean Squared Error: \", round(mean_squared_error(dfY, lmpred), 3))"
   ]
  },
  {
   "cell_type": "markdown",
   "metadata": {},
   "source": [
    "**Therefore, the best equation through best subset selection is $Y$ = 2.298519 - 1.340851 $X$ + 2.617579 $X^2$ + 2.27983 $X^5$ - 0.684882 $X^7$ + 0.06572 $X^9$ + 0.001195 $X^{10}$ and the mean squared error is 0.776.**"
   ]
  },
  {
   "cell_type": "markdown",
   "metadata": {},
   "source": [
    "### 8.c. Forward stepwise selection and backward stepwise selection"
   ]
  },
  {
   "cell_type": "markdown",
   "metadata": {},
   "source": [
    "**Forward stepwise selection**"
   ]
  },
  {
   "cell_type": "code",
   "execution_count": 18,
   "metadata": {},
   "outputs": [],
   "source": [
    "# import custom packages\n",
    "from mlxtend.feature_selection import SequentialFeatureSelector as SFS\n",
    "from mlxtend.plotting import plot_sequential_feature_selection as plot_sfs"
   ]
  },
  {
   "cell_type": "code",
   "execution_count": 37,
   "metadata": {},
   "outputs": [],
   "source": [
    "lmf = LinearRegression()\n",
    "sfs = SFS(lmf, k_features=(1,len(dfX.columns)), forward=True, floating=False, scoring='r2',cv=5).fit(dfX.values, dfY)"
   ]
  },
  {
   "cell_type": "code",
   "execution_count": 38,
   "metadata": {},
   "outputs": [
    {
     "data": {
      "text/plain": [
       "[<matplotlib.lines.Line2D at 0x283a1afd0>]"
      ]
     },
     "execution_count": 38,
     "metadata": {},
     "output_type": "execute_result"
    },
    {
     "data": {
      "image/png": "[encoded data removed]",
      "text/plain": [
       "<Figure size 1800x720 with 1 Axes>"
      ]
     },
     "metadata": {
      "needs_background": "light"
     },
     "output_type": "display_data"
    }
   ],
   "source": [
    "FSCORE = pd.DataFrame()\n",
    "for k in sfs.get_metric_dict():\n",
    "    fscore = sfs.get_metric_dict()[k]['avg_score']\n",
    "    FSCORE = FSCORE.append([fscore])\n",
    "\n",
    "FSCORE.columns = ['avg score']\n",
    "FSCORE.reset_index(drop=True, inplace=True)\n",
    "FSCORE.index = FSCORE.index+1\n",
    "\n",
    "# plt.xkcd()\n",
    "plt.figure(figsize=(25, 10))\n",
    "plt.plot(FSCORE)"
   ]
  },
  {
   "cell_type": "code",
   "execution_count": 39,
   "metadata": {},
   "outputs": [
    {
     "data": {
      "text/html": [
       "<div>\n",
       "<style scoped>\n",
       "    .dataframe tbody tr th:only-of-type {\n",
       "        vertical-align: middle;\n",
       "    }\n",
       "\n",
       "    .dataframe tbody tr th {\n",
       "        vertical-align: top;\n",
       "    }\n",
       "\n",
       "    .dataframe thead th {\n",
       "        text-align: right;\n",
       "    }\n",
       "</style>\n",
       "<table border=\"1\" class=\"dataframe\">\n",
       "  <thead>\n",
       "    <tr style=\"text-align: right;\">\n",
       "      <th></th>\n",
       "      <th>avg score</th>\n",
       "    </tr>\n",
       "  </thead>\n",
       "  <tbody>\n",
       "    <tr>\n",
       "      <th>1</th>\n",
       "      <td>0.361016</td>\n",
       "    </tr>\n",
       "    <tr>\n",
       "      <th>2</th>\n",
       "      <td>0.875041</td>\n",
       "    </tr>\n",
       "    <tr>\n",
       "      <th>3</th>\n",
       "      <td>0.939369</td>\n",
       "    </tr>\n",
       "    <tr>\n",
       "      <th>4</th>\n",
       "      <td>0.940281</td>\n",
       "    </tr>\n",
       "    <tr>\n",
       "      <th>5</th>\n",
       "      <td>0.939101</td>\n",
       "    </tr>\n",
       "    <tr>\n",
       "      <th>6</th>\n",
       "      <td>0.935432</td>\n",
       "    </tr>\n",
       "    <tr>\n",
       "      <th>7</th>\n",
       "      <td>0.936294</td>\n",
       "    </tr>\n",
       "    <tr>\n",
       "      <th>8</th>\n",
       "      <td>0.925193</td>\n",
       "    </tr>\n",
       "    <tr>\n",
       "      <th>9</th>\n",
       "      <td>0.605867</td>\n",
       "    </tr>\n",
       "    <tr>\n",
       "      <th>10</th>\n",
       "      <td>0.383303</td>\n",
       "    </tr>\n",
       "  </tbody>\n",
       "</table>\n",
       "</div>"
      ],
      "text/plain": [
       "    avg score\n",
       "1    0.361016\n",
       "2    0.875041\n",
       "3    0.939369\n",
       "4    0.940281\n",
       "5    0.939101\n",
       "6    0.935432\n",
       "7    0.936294\n",
       "8    0.925193\n",
       "9    0.605867\n",
       "10   0.383303"
      ]
     },
     "execution_count": 39,
     "metadata": {},
     "output_type": "execute_result"
    }
   ],
   "source": [
    "FSCORE"
   ]
  },
  {
   "cell_type": "markdown",
   "metadata": {},
   "source": [
    "**Forward stepwise regression has the highest $R^2$ for n = 4.**"
   ]
  },
  {
   "cell_type": "code",
   "execution_count": 40,
   "metadata": {},
   "outputs": [
    {
     "data": {
      "text/plain": [
       "Index(['X', 'X^2', 'X^3', 'X^4', 'X^5', 'X^6', 'X^7', 'X^8', 'X^9', 'X^10'], dtype='object')"
      ]
     },
     "execution_count": 40,
     "metadata": {},
     "output_type": "execute_result"
    }
   ],
   "source": [
    "dfX.columns"
   ]
  },
  {
   "cell_type": "code",
   "execution_count": 41,
   "metadata": {},
   "outputs": [
    {
     "data": {
      "text/plain": [
       "(0, 1, 2, 9)"
      ]
     },
     "execution_count": 41,
     "metadata": {},
     "output_type": "execute_result"
    }
   ],
   "source": [
    "feat = sfs.k_feature_idx_\n",
    "feat"
   ]
  },
  {
   "cell_type": "code",
   "execution_count": 42,
   "metadata": {},
   "outputs": [
    {
     "name": "stdout",
     "output_type": "stream",
     "text": [
      "X\n",
      "X^2\n",
      "X^3\n",
      "X^10\n"
     ]
    },
    {
     "data": {
      "text/html": [
       "<div>\n",
       "<style scoped>\n",
       "    .dataframe tbody tr th:only-of-type {\n",
       "        vertical-align: middle;\n",
       "    }\n",
       "\n",
       "    .dataframe tbody tr th {\n",
       "        vertical-align: top;\n",
       "    }\n",
       "\n",
       "    .dataframe thead th {\n",
       "        text-align: right;\n",
       "    }\n",
       "</style>\n",
       "<table border=\"1\" class=\"dataframe\">\n",
       "  <thead>\n",
       "    <tr style=\"text-align: right;\">\n",
       "      <th></th>\n",
       "      <th>Features</th>\n",
       "    </tr>\n",
       "  </thead>\n",
       "  <tbody>\n",
       "    <tr>\n",
       "      <th>0</th>\n",
       "      <td>X</td>\n",
       "    </tr>\n",
       "    <tr>\n",
       "      <th>1</th>\n",
       "      <td>X^2</td>\n",
       "    </tr>\n",
       "    <tr>\n",
       "      <th>2</th>\n",
       "      <td>X^3</td>\n",
       "    </tr>\n",
       "    <tr>\n",
       "      <th>3</th>\n",
       "      <td>X^10</td>\n",
       "    </tr>\n",
       "  </tbody>\n",
       "</table>\n",
       "</div>"
      ],
      "text/plain": [
       "  Features\n",
       "0        X\n",
       "1      X^2\n",
       "2      X^3\n",
       "3     X^10"
      ]
     },
     "execution_count": 42,
     "metadata": {},
     "output_type": "execute_result"
    }
   ],
   "source": [
    "feat_list = pd.DataFrame()\n",
    "for i in feat:\n",
    "    print(dfX.columns[i])\n",
    "    feat_list = feat_list.append(pd.DataFrame([dfX.columns[i]]))\n",
    "feat_list.reset_index(inplace=True, drop=True)\n",
    "feat_list.columns = ['Features']\n",
    "feat_list"
   ]
  },
  {
   "cell_type": "markdown",
   "metadata": {},
   "source": [
    "*It's interesting to note that forward stepwise regression returns 2 additional predictors compared with the best subset selection based on $R^2$.*"
   ]
  },
  {
   "cell_type": "code",
   "execution_count": 43,
   "metadata": {},
   "outputs": [
    {
     "data": {
      "text/html": [
       "<div>\n",
       "<style scoped>\n",
       "    .dataframe tbody tr th:only-of-type {\n",
       "        vertical-align: middle;\n",
       "    }\n",
       "\n",
       "    .dataframe tbody tr th {\n",
       "        vertical-align: top;\n",
       "    }\n",
       "\n",
       "    .dataframe thead th {\n",
       "        text-align: right;\n",
       "    }\n",
       "</style>\n",
       "<table border=\"1\" class=\"dataframe\">\n",
       "  <thead>\n",
       "    <tr style=\"text-align: right;\">\n",
       "      <th></th>\n",
       "      <th>Features</th>\n",
       "      <th>Coefficients</th>\n",
       "      <th>Intercept</th>\n",
       "    </tr>\n",
       "  </thead>\n",
       "  <tbody>\n",
       "    <tr>\n",
       "      <th>0</th>\n",
       "      <td>X</td>\n",
       "      <td>-2.103748</td>\n",
       "      <td>2.231123</td>\n",
       "    </tr>\n",
       "    <tr>\n",
       "      <th>1</th>\n",
       "      <td>X^2</td>\n",
       "      <td>2.794190</td>\n",
       "      <td>2.231123</td>\n",
       "    </tr>\n",
       "    <tr>\n",
       "      <th>2</th>\n",
       "      <td>X^3</td>\n",
       "      <td>2.612231</td>\n",
       "      <td>2.231123</td>\n",
       "    </tr>\n",
       "    <tr>\n",
       "      <th>3</th>\n",
       "      <td>X^10</td>\n",
       "      <td>0.000629</td>\n",
       "      <td>2.231123</td>\n",
       "    </tr>\n",
       "  </tbody>\n",
       "</table>\n",
       "</div>"
      ],
      "text/plain": [
       "  Features  Coefficients  Intercept\n",
       "0        X     -2.103748   2.231123\n",
       "1      X^2      2.794190   2.231123\n",
       "2      X^3      2.612231   2.231123\n",
       "3     X^10      0.000629   2.231123"
      ]
     },
     "execution_count": 43,
     "metadata": {},
     "output_type": "execute_result"
    }
   ],
   "source": [
    "# performing linear regression on best features\n",
    "dfX_reg = dfX[feat_list['Features']]\n",
    "\n",
    "lm_best = LinearRegression().fit(dfX_reg, dfY)\n",
    "final_coefs = pd.DataFrame(lm_best.coef_).T\n",
    "final_coefs = pd.concat([feat_list['Features'], final_coefs], axis = 1)\n",
    "final_intercept = pd.DataFrame([lm_best.intercept_]*4)\n",
    "final_coefs = pd.concat([final_coefs, final_intercept], axis = 1)\n",
    "final_coefs.columns = ['Features', 'Coefficients', 'Intercept']\n",
    "final_coefs"
   ]
  },
  {
   "cell_type": "code",
   "execution_count": 44,
   "metadata": {},
   "outputs": [
    {
     "name": "stdout",
     "output_type": "stream",
     "text": [
      "Mean Squared Error:  0.807\n"
     ]
    }
   ],
   "source": [
    "lmpred = lm_best.predict(dfX_reg)\n",
    "print(\"Mean Squared Error: \", round(mean_squared_error(dfY, lmpred), 3))"
   ]
  },
  {
   "cell_type": "markdown",
   "metadata": {},
   "source": [
    "**Therefore, the best equation through forward stepwise selection is $Y$ = 2.231123 - 2.103748 $X$ + 2.79419 $X^2$ + 0.000629 $X^10$ and the mean squared error is 0.807.**"
   ]
  },
  {
   "cell_type": "markdown",
   "metadata": {},
   "source": [
    "**Backward stepwise selection**"
   ]
  },
  {
   "cell_type": "code",
   "execution_count": 50,
   "metadata": {},
   "outputs": [],
   "source": [
    "lmb = LinearRegression()\n",
    "bfs = SFS(lmb, k_features=(1,len(dfX.columns)), forward=False, floating=False, scoring='r2',cv=5).fit(dfX.values, dfY)"
   ]
  },
  {
   "cell_type": "code",
   "execution_count": 58,
   "metadata": {},
   "outputs": [
    {
     "data": {
      "text/plain": [
       "[<matplotlib.lines.Line2D at 0x283cb2d00>]"
      ]
     },
     "execution_count": 58,
     "metadata": {},
     "output_type": "execute_result"
    },
    {
     "data": {
      "image/png": "[encoded data removed]",
      "text/plain": [
       "<Figure size 1800x720 with 1 Axes>"
      ]
     },
     "metadata": {
      "needs_background": "light"
     },
     "output_type": "display_data"
    }
   ],
   "source": [
    "BSCORE = pd.DataFrame()\n",
    "for k in bfs.get_metric_dict():\n",
    "    bscore = bfs.get_metric_dict()[k]['avg_score']\n",
    "    BSCORE = BSCORE.append([bscore])\n",
    "\n",
    "BSCORE.columns = ['avg score']\n",
    "BSCORE.reset_index(drop=True, inplace=True)\n",
    "# BSCORE.index = BSCORE.index+1\n",
    "\n",
    "# plt.xkcd()\n",
    "plt.figure(figsize=(25, 10))\n",
    "plt.plot(BSCORE)"
   ]
  },
  {
   "cell_type": "code",
   "execution_count": 59,
   "metadata": {},
   "outputs": [
    {
     "data": {
      "text/html": [
       "<div>\n",
       "<style scoped>\n",
       "    .dataframe tbody tr th:only-of-type {\n",
       "        vertical-align: middle;\n",
       "    }\n",
       "\n",
       "    .dataframe tbody tr th {\n",
       "        vertical-align: top;\n",
       "    }\n",
       "\n",
       "    .dataframe thead th {\n",
       "        text-align: right;\n",
       "    }\n",
       "</style>\n",
       "<table border=\"1\" class=\"dataframe\">\n",
       "  <thead>\n",
       "    <tr style=\"text-align: right;\">\n",
       "      <th></th>\n",
       "      <th>avg score</th>\n",
       "    </tr>\n",
       "  </thead>\n",
       "  <tbody>\n",
       "    <tr>\n",
       "      <th>0</th>\n",
       "      <td>0.383303</td>\n",
       "    </tr>\n",
       "    <tr>\n",
       "      <th>1</th>\n",
       "      <td>0.925915</td>\n",
       "    </tr>\n",
       "    <tr>\n",
       "      <th>2</th>\n",
       "      <td>0.929542</td>\n",
       "    </tr>\n",
       "    <tr>\n",
       "      <th>3</th>\n",
       "      <td>0.928410</td>\n",
       "    </tr>\n",
       "    <tr>\n",
       "      <th>4</th>\n",
       "      <td>0.931110</td>\n",
       "    </tr>\n",
       "    <tr>\n",
       "      <th>5</th>\n",
       "      <td>0.916643</td>\n",
       "    </tr>\n",
       "    <tr>\n",
       "      <th>6</th>\n",
       "      <td>0.931157</td>\n",
       "    </tr>\n",
       "    <tr>\n",
       "      <th>7</th>\n",
       "      <td>0.921692</td>\n",
       "    </tr>\n",
       "    <tr>\n",
       "      <th>8</th>\n",
       "      <td>0.898670</td>\n",
       "    </tr>\n",
       "    <tr>\n",
       "      <th>9</th>\n",
       "      <td>0.110060</td>\n",
       "    </tr>\n",
       "  </tbody>\n",
       "</table>\n",
       "</div>"
      ],
      "text/plain": [
       "   avg score\n",
       "0   0.383303\n",
       "1   0.925915\n",
       "2   0.929542\n",
       "3   0.928410\n",
       "4   0.931110\n",
       "5   0.916643\n",
       "6   0.931157\n",
       "7   0.921692\n",
       "8   0.898670\n",
       "9   0.110060"
      ]
     },
     "execution_count": 59,
     "metadata": {},
     "output_type": "execute_result"
    }
   ],
   "source": [
    "BSCORE"
   ]
  },
  {
   "cell_type": "markdown",
   "metadata": {},
   "source": [
    "**Backward stepwise regression has the highest $R^2$ for n = 4.**"
   ]
  },
  {
   "cell_type": "code",
   "execution_count": 60,
   "metadata": {},
   "outputs": [
    {
     "data": {
      "text/plain": [
       "Index(['X', 'X^2', 'X^3', 'X^4', 'X^5', 'X^6', 'X^7', 'X^8', 'X^9', 'X^10'], dtype='object')"
      ]
     },
     "execution_count": 60,
     "metadata": {},
     "output_type": "execute_result"
    }
   ],
   "source": [
    "dfX.columns"
   ]
  },
  {
   "cell_type": "code",
   "execution_count": 61,
   "metadata": {},
   "outputs": [
    {
     "data": {
      "text/plain": [
       "(0, 1, 4, 6)"
      ]
     },
     "execution_count": 61,
     "metadata": {},
     "output_type": "execute_result"
    }
   ],
   "source": [
    "feat = bfs.k_feature_idx_\n",
    "feat"
   ]
  },
  {
   "cell_type": "code",
   "execution_count": 62,
   "metadata": {},
   "outputs": [
    {
     "name": "stdout",
     "output_type": "stream",
     "text": [
      "X\n",
      "X^2\n",
      "X^5\n",
      "X^7\n"
     ]
    },
    {
     "data": {
      "text/html": [
       "<div>\n",
       "<style scoped>\n",
       "    .dataframe tbody tr th:only-of-type {\n",
       "        vertical-align: middle;\n",
       "    }\n",
       "\n",
       "    .dataframe tbody tr th {\n",
       "        vertical-align: top;\n",
       "    }\n",
       "\n",
       "    .dataframe thead th {\n",
       "        text-align: right;\n",
       "    }\n",
       "</style>\n",
       "<table border=\"1\" class=\"dataframe\">\n",
       "  <thead>\n",
       "    <tr style=\"text-align: right;\">\n",
       "      <th></th>\n",
       "      <th>Features</th>\n",
       "    </tr>\n",
       "  </thead>\n",
       "  <tbody>\n",
       "    <tr>\n",
       "      <th>0</th>\n",
       "      <td>X</td>\n",
       "    </tr>\n",
       "    <tr>\n",
       "      <th>1</th>\n",
       "      <td>X^2</td>\n",
       "    </tr>\n",
       "    <tr>\n",
       "      <th>2</th>\n",
       "      <td>X^5</td>\n",
       "    </tr>\n",
       "    <tr>\n",
       "      <th>3</th>\n",
       "      <td>X^7</td>\n",
       "    </tr>\n",
       "  </tbody>\n",
       "</table>\n",
       "</div>"
      ],
      "text/plain": [
       "  Features\n",
       "0        X\n",
       "1      X^2\n",
       "2      X^5\n",
       "3      X^7"
      ]
     },
     "execution_count": 62,
     "metadata": {},
     "output_type": "execute_result"
    }
   ],
   "source": [
    "feat_list = pd.DataFrame()\n",
    "for i in feat:\n",
    "    print(dfX.columns[i])\n",
    "    feat_list = feat_list.append(pd.DataFrame([dfX.columns[i]]))\n",
    "feat_list.reset_index(inplace=True, drop=True)\n",
    "feat_list.columns = ['Features']\n",
    "feat_list"
   ]
  },
  {
   "cell_type": "markdown",
   "metadata": {},
   "source": [
    "*It's interesting to note that backward stepwise regression returns the same predictors as that of best subset selection  and forward stepwise selection based on $R^2$.*"
   ]
  },
  {
   "cell_type": "code",
   "execution_count": 63,
   "metadata": {},
   "outputs": [
    {
     "data": {
      "text/html": [
       "<div>\n",
       "<style scoped>\n",
       "    .dataframe tbody tr th:only-of-type {\n",
       "        vertical-align: middle;\n",
       "    }\n",
       "\n",
       "    .dataframe tbody tr th {\n",
       "        vertical-align: top;\n",
       "    }\n",
       "\n",
       "    .dataframe thead th {\n",
       "        text-align: right;\n",
       "    }\n",
       "</style>\n",
       "<table border=\"1\" class=\"dataframe\">\n",
       "  <thead>\n",
       "    <tr style=\"text-align: right;\">\n",
       "      <th></th>\n",
       "      <th>Features</th>\n",
       "      <th>Coefficients</th>\n",
       "      <th>Intercept</th>\n",
       "    </tr>\n",
       "  </thead>\n",
       "  <tbody>\n",
       "    <tr>\n",
       "      <th>0</th>\n",
       "      <td>X</td>\n",
       "      <td>-0.748461</td>\n",
       "      <td>2.16192</td>\n",
       "    </tr>\n",
       "    <tr>\n",
       "      <th>1</th>\n",
       "      <td>X^2</td>\n",
       "      <td>2.999204</td>\n",
       "      <td>2.16192</td>\n",
       "    </tr>\n",
       "    <tr>\n",
       "      <th>2</th>\n",
       "      <td>X^5</td>\n",
       "      <td>1.110472</td>\n",
       "      <td>2.16192</td>\n",
       "    </tr>\n",
       "    <tr>\n",
       "      <th>3</th>\n",
       "      <td>X^7</td>\n",
       "      <td>-0.130604</td>\n",
       "      <td>2.16192</td>\n",
       "    </tr>\n",
       "  </tbody>\n",
       "</table>\n",
       "</div>"
      ],
      "text/plain": [
       "  Features  Coefficients  Intercept\n",
       "0        X     -0.748461    2.16192\n",
       "1      X^2      2.999204    2.16192\n",
       "2      X^5      1.110472    2.16192\n",
       "3      X^7     -0.130604    2.16192"
      ]
     },
     "execution_count": 63,
     "metadata": {},
     "output_type": "execute_result"
    }
   ],
   "source": [
    "# performing linear regression on best features\n",
    "dfX_reg = dfX[feat_list['Features']]\n",
    "\n",
    "lm_best = LinearRegression().fit(dfX_reg, dfY)\n",
    "final_coefs = pd.DataFrame(lm_best.coef_).T\n",
    "final_coefs = pd.concat([feat_list['Features'], final_coefs], axis = 1)\n",
    "final_intercept = pd.DataFrame([lm_best.intercept_]*4)\n",
    "final_coefs = pd.concat([final_coefs, final_intercept], axis = 1)\n",
    "final_coefs.columns = ['Features', 'Coefficients', 'Intercept']\n",
    "final_coefs"
   ]
  },
  {
   "cell_type": "code",
   "execution_count": 64,
   "metadata": {},
   "outputs": [
    {
     "name": "stdout",
     "output_type": "stream",
     "text": [
      "Mean Squared Error:  0.937\n"
     ]
    }
   ],
   "source": [
    "lmpred = lm_best.predict(dfX_reg)\n",
    "print(\"Mean Squared Error: \", round(mean_squared_error(dfY, lmpred), 3))"
   ]
  },
  {
   "cell_type": "markdown",
   "metadata": {},
   "source": [
    "**Therefore, the best equation through backward stepwise selection is $Y$ = 2.16192 - 0.748461 $X$ + 2.999204 $X^2$ + 1.110472 $X^5$ - 0.130604 $X^7$ and the mean squared error is 0.937.**"
   ]
  },
  {
   "cell_type": "markdown",
   "metadata": {},
   "source": [
    "### 8.d. Lasso regression"
   ]
  },
  {
   "cell_type": "code",
   "execution_count": 65,
   "metadata": {},
   "outputs": [],
   "source": [
    "# import custom packages\n",
    "from sklearn.linear_model import Lasso"
   ]
  },
  {
   "cell_type": "code",
   "execution_count": 66,
   "metadata": {},
   "outputs": [],
   "source": [
    "# standardisation\n",
    "from sklearn.preprocessing import StandardScaler\n",
    "\n",
    "scaler = StandardScaler().fit(dfX)\n",
    "dfX_scaled = scaler.transform(dfX)"
   ]
  },
  {
   "cell_type": "code",
   "execution_count": 67,
   "metadata": {},
   "outputs": [],
   "source": [
    "n = 100\n",
    "lambdas = (np.logspace(10, -2, num=100))"
   ]
  },
  {
   "cell_type": "code",
   "execution_count": 68,
   "metadata": {},
   "outputs": [],
   "source": [
    "coefs = []\n",
    "MSE = []\n",
    "for k in lambdas:\n",
    "    lassomod = Lasso(alpha=k, fit_intercept=True).fit(dfX_scaled,dfY)\n",
    "    coefs.append(lassomod.coef_)\n",
    "    MSE.append(mean_squared_error(dfY, lassomod.predict(dfX_scaled)))"
   ]
  },
  {
   "cell_type": "code",
   "execution_count": 69,
   "metadata": {},
   "outputs": [],
   "source": [
    "coefPD = pd.DataFrame(coefs)"
   ]
  },
  {
   "cell_type": "code",
   "execution_count": 70,
   "metadata": {},
   "outputs": [
    {
     "data": {
      "text/html": [
       "<div>\n",
       "<style scoped>\n",
       "    .dataframe tbody tr th:only-of-type {\n",
       "        vertical-align: middle;\n",
       "    }\n",
       "\n",
       "    .dataframe tbody tr th {\n",
       "        vertical-align: top;\n",
       "    }\n",
       "\n",
       "    .dataframe thead th {\n",
       "        text-align: right;\n",
       "    }\n",
       "</style>\n",
       "<table border=\"1\" class=\"dataframe\">\n",
       "  <thead>\n",
       "    <tr style=\"text-align: right;\">\n",
       "      <th></th>\n",
       "      <th>0</th>\n",
       "      <th>1</th>\n",
       "      <th>2</th>\n",
       "      <th>3</th>\n",
       "      <th>4</th>\n",
       "      <th>5</th>\n",
       "      <th>6</th>\n",
       "      <th>7</th>\n",
       "      <th>8</th>\n",
       "      <th>9</th>\n",
       "    </tr>\n",
       "  </thead>\n",
       "  <tbody>\n",
       "    <tr>\n",
       "      <th>0</th>\n",
       "      <td>0.0</td>\n",
       "      <td>0.0</td>\n",
       "      <td>0.0</td>\n",
       "      <td>0.0</td>\n",
       "      <td>0.0</td>\n",
       "      <td>0.0</td>\n",
       "      <td>0.0</td>\n",
       "      <td>0.0</td>\n",
       "      <td>0.0</td>\n",
       "      <td>0.0</td>\n",
       "    </tr>\n",
       "    <tr>\n",
       "      <th>1</th>\n",
       "      <td>0.0</td>\n",
       "      <td>0.0</td>\n",
       "      <td>0.0</td>\n",
       "      <td>0.0</td>\n",
       "      <td>0.0</td>\n",
       "      <td>0.0</td>\n",
       "      <td>0.0</td>\n",
       "      <td>0.0</td>\n",
       "      <td>0.0</td>\n",
       "      <td>0.0</td>\n",
       "    </tr>\n",
       "    <tr>\n",
       "      <th>2</th>\n",
       "      <td>0.0</td>\n",
       "      <td>0.0</td>\n",
       "      <td>0.0</td>\n",
       "      <td>0.0</td>\n",
       "      <td>0.0</td>\n",
       "      <td>0.0</td>\n",
       "      <td>0.0</td>\n",
       "      <td>0.0</td>\n",
       "      <td>0.0</td>\n",
       "      <td>0.0</td>\n",
       "    </tr>\n",
       "    <tr>\n",
       "      <th>3</th>\n",
       "      <td>0.0</td>\n",
       "      <td>0.0</td>\n",
       "      <td>0.0</td>\n",
       "      <td>0.0</td>\n",
       "      <td>0.0</td>\n",
       "      <td>0.0</td>\n",
       "      <td>0.0</td>\n",
       "      <td>0.0</td>\n",
       "      <td>0.0</td>\n",
       "      <td>0.0</td>\n",
       "    </tr>\n",
       "    <tr>\n",
       "      <th>4</th>\n",
       "      <td>0.0</td>\n",
       "      <td>0.0</td>\n",
       "      <td>0.0</td>\n",
       "      <td>0.0</td>\n",
       "      <td>0.0</td>\n",
       "      <td>0.0</td>\n",
       "      <td>0.0</td>\n",
       "      <td>0.0</td>\n",
       "      <td>0.0</td>\n",
       "      <td>0.0</td>\n",
       "    </tr>\n",
       "  </tbody>\n",
       "</table>\n",
       "</div>"
      ],
      "text/plain": [
       "     0    1    2    3    4    5    6    7    8    9\n",
       "0  0.0  0.0  0.0  0.0  0.0  0.0  0.0  0.0  0.0  0.0\n",
       "1  0.0  0.0  0.0  0.0  0.0  0.0  0.0  0.0  0.0  0.0\n",
       "2  0.0  0.0  0.0  0.0  0.0  0.0  0.0  0.0  0.0  0.0\n",
       "3  0.0  0.0  0.0  0.0  0.0  0.0  0.0  0.0  0.0  0.0\n",
       "4  0.0  0.0  0.0  0.0  0.0  0.0  0.0  0.0  0.0  0.0"
      ]
     },
     "execution_count": 70,
     "metadata": {},
     "output_type": "execute_result"
    }
   ],
   "source": [
    "coefPD.head()"
   ]
  },
  {
   "cell_type": "code",
   "execution_count": 71,
   "metadata": {},
   "outputs": [
    {
     "data": {
      "text/plain": [
       "(100, 10)"
      ]
     },
     "execution_count": 71,
     "metadata": {},
     "output_type": "execute_result"
    }
   ],
   "source": [
    "coefPD.shape"
   ]
  },
  {
   "cell_type": "code",
   "execution_count": 72,
   "metadata": {},
   "outputs": [
    {
     "data": {
      "text/plain": [
       "array([4.74193075])"
      ]
     },
     "execution_count": 72,
     "metadata": {},
     "output_type": "execute_result"
    }
   ],
   "source": [
    "lassomod.intercept_"
   ]
  },
  {
   "cell_type": "code",
   "execution_count": 73,
   "metadata": {},
   "outputs": [
    {
     "data": {
      "text/plain": [
       "(100, 11)"
      ]
     },
     "execution_count": 73,
     "metadata": {},
     "output_type": "execute_result"
    }
   ],
   "source": [
    "coefPD = pd.concat([pd.DataFrame([lassomod.intercept_]*100), coefPD], axis=1)\n",
    "coefPD.columns = ['Intercept', 'X', 'X^2', 'X^3', 'X^4', 'X^5', 'X^6', 'X^7', 'X^8', 'X^9', 'X^10']\n",
    "coefPD.shape"
   ]
  },
  {
   "cell_type": "code",
   "execution_count": 74,
   "metadata": {},
   "outputs": [
    {
     "data": {
      "text/html": [
       "<div>\n",
       "<style scoped>\n",
       "    .dataframe tbody tr th:only-of-type {\n",
       "        vertical-align: middle;\n",
       "    }\n",
       "\n",
       "    .dataframe tbody tr th {\n",
       "        vertical-align: top;\n",
       "    }\n",
       "\n",
       "    .dataframe thead th {\n",
       "        text-align: right;\n",
       "    }\n",
       "</style>\n",
       "<table border=\"1\" class=\"dataframe\">\n",
       "  <thead>\n",
       "    <tr style=\"text-align: right;\">\n",
       "      <th></th>\n",
       "      <th>Intercept</th>\n",
       "      <th>X</th>\n",
       "      <th>X^2</th>\n",
       "      <th>X^3</th>\n",
       "      <th>X^4</th>\n",
       "      <th>X^5</th>\n",
       "      <th>X^6</th>\n",
       "      <th>X^7</th>\n",
       "      <th>X^8</th>\n",
       "      <th>X^9</th>\n",
       "      <th>X^10</th>\n",
       "    </tr>\n",
       "  </thead>\n",
       "  <tbody>\n",
       "    <tr>\n",
       "      <th>0</th>\n",
       "      <td>4.741931</td>\n",
       "      <td>0.0</td>\n",
       "      <td>0.0</td>\n",
       "      <td>0.0</td>\n",
       "      <td>0.0</td>\n",
       "      <td>0.0</td>\n",
       "      <td>0.0</td>\n",
       "      <td>0.0</td>\n",
       "      <td>0.0</td>\n",
       "      <td>0.0</td>\n",
       "      <td>0.0</td>\n",
       "    </tr>\n",
       "    <tr>\n",
       "      <th>1</th>\n",
       "      <td>4.741931</td>\n",
       "      <td>0.0</td>\n",
       "      <td>0.0</td>\n",
       "      <td>0.0</td>\n",
       "      <td>0.0</td>\n",
       "      <td>0.0</td>\n",
       "      <td>0.0</td>\n",
       "      <td>0.0</td>\n",
       "      <td>0.0</td>\n",
       "      <td>0.0</td>\n",
       "      <td>0.0</td>\n",
       "    </tr>\n",
       "    <tr>\n",
       "      <th>2</th>\n",
       "      <td>4.741931</td>\n",
       "      <td>0.0</td>\n",
       "      <td>0.0</td>\n",
       "      <td>0.0</td>\n",
       "      <td>0.0</td>\n",
       "      <td>0.0</td>\n",
       "      <td>0.0</td>\n",
       "      <td>0.0</td>\n",
       "      <td>0.0</td>\n",
       "      <td>0.0</td>\n",
       "      <td>0.0</td>\n",
       "    </tr>\n",
       "    <tr>\n",
       "      <th>3</th>\n",
       "      <td>4.741931</td>\n",
       "      <td>0.0</td>\n",
       "      <td>0.0</td>\n",
       "      <td>0.0</td>\n",
       "      <td>0.0</td>\n",
       "      <td>0.0</td>\n",
       "      <td>0.0</td>\n",
       "      <td>0.0</td>\n",
       "      <td>0.0</td>\n",
       "      <td>0.0</td>\n",
       "      <td>0.0</td>\n",
       "    </tr>\n",
       "    <tr>\n",
       "      <th>4</th>\n",
       "      <td>4.741931</td>\n",
       "      <td>0.0</td>\n",
       "      <td>0.0</td>\n",
       "      <td>0.0</td>\n",
       "      <td>0.0</td>\n",
       "      <td>0.0</td>\n",
       "      <td>0.0</td>\n",
       "      <td>0.0</td>\n",
       "      <td>0.0</td>\n",
       "      <td>0.0</td>\n",
       "      <td>0.0</td>\n",
       "    </tr>\n",
       "  </tbody>\n",
       "</table>\n",
       "</div>"
      ],
      "text/plain": [
       "   Intercept    X  X^2  X^3  X^4  X^5  X^6  X^7  X^8  X^9  X^10\n",
       "0   4.741931  0.0  0.0  0.0  0.0  0.0  0.0  0.0  0.0  0.0   0.0\n",
       "1   4.741931  0.0  0.0  0.0  0.0  0.0  0.0  0.0  0.0  0.0   0.0\n",
       "2   4.741931  0.0  0.0  0.0  0.0  0.0  0.0  0.0  0.0  0.0   0.0\n",
       "3   4.741931  0.0  0.0  0.0  0.0  0.0  0.0  0.0  0.0  0.0   0.0\n",
       "4   4.741931  0.0  0.0  0.0  0.0  0.0  0.0  0.0  0.0  0.0   0.0"
      ]
     },
     "execution_count": 74,
     "metadata": {},
     "output_type": "execute_result"
    }
   ],
   "source": [
    "coefPD.head()"
   ]
  },
  {
   "cell_type": "code",
   "execution_count": 75,
   "metadata": {},
   "outputs": [
    {
     "data": {
      "image/png": "[encoded data removed]",
      "text/plain": [
       "<Figure size 1800x720 with 3 Axes>"
      ]
     },
     "metadata": {
      "needs_background": "light"
     },
     "output_type": "display_data"
    }
   ],
   "source": [
    "# plt.xkcd()\n",
    "fig, (ax1, ax2, ax3) = plt.subplots(1, 3, figsize=(25,10))\n",
    "\n",
    "# indexing the five largest coefficients\n",
    "idx = np.argpartition(np.abs(coefs[-1]), -5)[-5:]\n",
    "\n",
    "# standardised coefficients vs lambdas\n",
    "ax1.plot(lambdas, coefs)\n",
    "ax1.set_xscale('log')\n",
    "ax1.set_xlabel('lambda')\n",
    "ax1.set_ylabel('standardized soefficients')\n",
    "ax1.set_title('standardised coefficients vs lambdas')\n",
    "ax1.legend(np.array(ax1.get_lines())[idx], dfX.columns[idx])\n",
    "\n",
    "# standardised coefficients vs l2 norms\n",
    "l2norm = np.linalg.norm(coefs[-1])\n",
    "l2coefs = np.linalg.norm(coefs/l2norm, axis=1)\n",
    "ax2.plot(l2coefs, coefs)\n",
    "ax2.set_xlabel('l2 norm of ridge coefficients / l2 norm of least squares coefficients')\n",
    "ax2.set_ylabel('standardized coefficients')\n",
    "ax2.set_title('standardised coefficients vs l2 norms')\n",
    "ax2.legend(np.array(ax2.get_lines())[idx], dfX.columns[idx]);\n",
    "\n",
    "# 'Mean Square Error(MSE) vs lambdas\n",
    "ax3.plot(lambdas, MSE)\n",
    "ax3.set_xscale('log')\n",
    "ax3.set_xlabel('lambda')\n",
    "ax3.set_ylabel('Mean Square Error(MSE)')\n",
    "ax3.set_title('Mean Square Error(MSE) vs lambdas');"
   ]
  },
  {
   "cell_type": "code",
   "execution_count": 76,
   "metadata": {},
   "outputs": [],
   "source": [
    "from sklearn.model_selection import train_test_split\n",
    "X_train, X_test, y_train, y_test = train_test_split(dfX, dfY, test_size=0.3, random_state=42)"
   ]
  },
  {
   "cell_type": "code",
   "execution_count": 77,
   "metadata": {},
   "outputs": [],
   "source": [
    "# standardisation\n",
    "from sklearn.preprocessing import StandardScaler\n",
    "\n",
    "scaler = StandardScaler().fit(X_train)\n",
    "X_train_scaled = scaler.transform(X_train)\n",
    "X_test_scaled = scaler.transform(X_test)"
   ]
  },
  {
   "cell_type": "code",
   "execution_count": 78,
   "metadata": {},
   "outputs": [
    {
     "name": "stdout",
     "output_type": "stream",
     "text": [
      "MSE with only the intercept:  Y    10.171203\n",
      "dtype: float64\n",
      "MSE at lambda = 0:  1.3229624818944952\n",
      "MSE at lambda = 1:  1.3215630892926427\n",
      "MSE at lambda = 4:  6.641384747408003\n",
      "MSE at lambda = 10^10:  10.171203383392053\n"
     ]
    }
   ],
   "source": [
    "# MSE with only the intercept\n",
    "lmMSEintercept = np.mean(pow((y_train.mean()-y_test), 2))\n",
    "print(\"MSE with only the intercept: \", lmMSEintercept)\n",
    "\n",
    "# MSE for lambda = 0; this is similar to least squares linear regression\n",
    "lmlasso0 = Lasso(alpha=0, fit_intercept=True).fit(X_train_scaled, y_train)\n",
    "lmpredict0 = lmlasso0.predict(X_test_scaled)\n",
    "lmMSE0 = mean_squared_error(y_test, lmpredict0)\n",
    "print(\"MSE at lambda = 0: \", lmMSE0)\n",
    "\n",
    "# MSE for lambda = 1\n",
    "lmridge1 = Lasso(alpha=1, fit_intercept=True).fit(X_train_scaled, y_train)\n",
    "lmpredict1 = lmridge1.predict(X_test_scaled)\n",
    "lmMSE1 = mean_squared_error(y_test, lmpredict1)\n",
    "print(\"MSE at lambda = 1: \", lmMSE1)\n",
    "\n",
    "# MSE for lambda = 4\n",
    "lmlasso4 = Lasso(alpha=4, fit_intercept=True).fit(X_train_scaled, y_train)\n",
    "lmpredict4 = lmlasso4.predict(X_test_scaled)\n",
    "lmMSE4 = mean_squared_error(y_test, lmpredict4)\n",
    "print(\"MSE at lambda = 4: \", lmMSE4)\n",
    "\n",
    "# MSE for lambda = pow(10, 10)\n",
    "lmlasso1010 = Lasso(alpha=pow(10, 10), fit_intercept=True).fit(X_train_scaled, y_train)\n",
    "lmpredict1010 = lmlasso1010.predict(X_test_scaled)\n",
    "lmMSE1010 = mean_squared_error(y_test, lmpredict1010)\n",
    "print(\"MSE at lambda = 10^10: \", lmMSE1010)"
   ]
  },
  {
   "cell_type": "code",
   "execution_count": 79,
   "metadata": {},
   "outputs": [
    {
     "name": "stdout",
     "output_type": "stream",
     "text": [
      "Best lambda:  0.01\n"
     ]
    }
   ],
   "source": [
    "# finding the best lambda using CV\n",
    "from sklearn.linear_model import LassoCV\n",
    "\n",
    "lmlassoCV = LassoCV(alphas=lambdas, cv=10).fit(X_train_scaled, y_train)\n",
    "lmlassoCValpha = lmlassoCV.alpha_\n",
    "print(\"Best lambda: \", lmlassoCValpha)"
   ]
  },
  {
   "cell_type": "code",
   "execution_count": 80,
   "metadata": {},
   "outputs": [
    {
     "name": "stdout",
     "output_type": "stream",
     "text": [
      "MSE for best lambda:  1.265\n"
     ]
    }
   ],
   "source": [
    "# performing lasso regression using best lambda\n",
    "lmlasso = Lasso(alpha=lmlassoCValpha, fit_intercept=True).fit(X_train_scaled, y_train)\n",
    "lmlasso_MSE = mean_squared_error(y_test, lmlasso.predict(X_test_scaled))\n",
    "print('MSE for best lambda: ', round(lmlasso_MSE, 3))"
   ]
  },
  {
   "cell_type": "code",
   "execution_count": 81,
   "metadata": {},
   "outputs": [
    {
     "data": {
      "text/html": [
       "<div>\n",
       "<style scoped>\n",
       "    .dataframe tbody tr th:only-of-type {\n",
       "        vertical-align: middle;\n",
       "    }\n",
       "\n",
       "    .dataframe tbody tr th {\n",
       "        vertical-align: top;\n",
       "    }\n",
       "\n",
       "    .dataframe thead th {\n",
       "        text-align: right;\n",
       "    }\n",
       "</style>\n",
       "<table border=\"1\" class=\"dataframe\">\n",
       "  <thead>\n",
       "    <tr style=\"text-align: right;\">\n",
       "      <th></th>\n",
       "      <th>Intercept</th>\n",
       "      <th>Coefficients</th>\n",
       "    </tr>\n",
       "  </thead>\n",
       "  <tbody>\n",
       "    <tr>\n",
       "      <th>1</th>\n",
       "      <td>4.916213</td>\n",
       "      <td>-1.688878</td>\n",
       "    </tr>\n",
       "    <tr>\n",
       "      <th>2</th>\n",
       "      <td>4.916213</td>\n",
       "      <td>3.831051</td>\n",
       "    </tr>\n",
       "    <tr>\n",
       "      <th>3</th>\n",
       "      <td>4.916213</td>\n",
       "      <td>6.472919</td>\n",
       "    </tr>\n",
       "    <tr>\n",
       "      <th>4</th>\n",
       "      <td>4.916213</td>\n",
       "      <td>0.000000</td>\n",
       "    </tr>\n",
       "    <tr>\n",
       "      <th>5</th>\n",
       "      <td>4.916213</td>\n",
       "      <td>0.883097</td>\n",
       "    </tr>\n",
       "    <tr>\n",
       "      <th>6</th>\n",
       "      <td>4.916213</td>\n",
       "      <td>0.000000</td>\n",
       "    </tr>\n",
       "    <tr>\n",
       "      <th>7</th>\n",
       "      <td>4.916213</td>\n",
       "      <td>0.000000</td>\n",
       "    </tr>\n",
       "    <tr>\n",
       "      <th>8</th>\n",
       "      <td>4.916213</td>\n",
       "      <td>0.000000</td>\n",
       "    </tr>\n",
       "    <tr>\n",
       "      <th>9</th>\n",
       "      <td>4.916213</td>\n",
       "      <td>-0.000000</td>\n",
       "    </tr>\n",
       "    <tr>\n",
       "      <th>10</th>\n",
       "      <td>4.916213</td>\n",
       "      <td>0.114530</td>\n",
       "    </tr>\n",
       "  </tbody>\n",
       "</table>\n",
       "</div>"
      ],
      "text/plain": [
       "    Intercept  Coefficients\n",
       "1    4.916213     -1.688878\n",
       "2    4.916213      3.831051\n",
       "3    4.916213      6.472919\n",
       "4    4.916213      0.000000\n",
       "5    4.916213      0.883097\n",
       "6    4.916213      0.000000\n",
       "7    4.916213      0.000000\n",
       "8    4.916213      0.000000\n",
       "9    4.916213     -0.000000\n",
       "10   4.916213      0.114530"
      ]
     },
     "execution_count": 81,
     "metadata": {},
     "output_type": "execute_result"
    }
   ],
   "source": [
    "intercept_list = pd.DataFrame([lmlasso.intercept_]*10)\n",
    "coef_list = pd.concat([intercept_list, pd.DataFrame([lmlasso.coef_]).T], axis = 1)\n",
    "coef_list.reset_index(inplace=True, drop=True)\n",
    "coef_list.columns = ['Intercept', 'Coefficients']\n",
    "coef_list.index = coef_list.index+1\n",
    "coef_list"
   ]
  },
  {
   "cell_type": "markdown",
   "metadata": {},
   "source": [
    "**Therefore, the best equation through lasso regression is $Y$ = 4.916213 - 1.688878 $X$ + 3.831051 $X^2$ + 6.472919 $X^3$ + 0.883097 $X^5$ + 0.114530 $X^{10}$ and the mean squared error is 1.265.**"
   ]
  },
  {
   "cell_type": "markdown",
   "metadata": {},
   "source": [
    "### 8.f. Best subset selection and lasso regression for for $Y$ = $\\beta_0$ + $\\beta_7$ $X^7$ + $\\epsilon$"
   ]
  },
  {
   "cell_type": "code",
   "execution_count": 82,
   "metadata": {},
   "outputs": [],
   "source": [
    "BETA7 = 23.457\n",
    "Y7 = BETA0 + (BETA7*pow(X, 7)) + epsilon"
   ]
  },
  {
   "cell_type": "markdown",
   "metadata": {},
   "source": [
    "**Best subset selection**"
   ]
  },
  {
   "cell_type": "code",
   "execution_count": 83,
   "metadata": {},
   "outputs": [],
   "source": [
    "dfX7 = pd.DataFrame([pow(X, 7)]).T\n",
    "dfX7.columns = ['X^7']\n",
    "dfY7 = pd.DataFrame([Y7]).T\n",
    "dfY7.columns = ['Y']"
   ]
  },
  {
   "cell_type": "code",
   "execution_count": 84,
   "metadata": {},
   "outputs": [
    {
     "name": "stderr",
     "output_type": "stream",
     "text": [
      "Features: 1/1"
     ]
    }
   ],
   "source": [
    "lm = LinearRegression()\n",
    "efs = EFS(lm, min_features=1, max_features=1, scoring='r2', cv=5).fit(dfX7, dfY7)"
   ]
  },
  {
   "cell_type": "code",
   "execution_count": 85,
   "metadata": {},
   "outputs": [],
   "source": [
    "SCORE = pd.DataFrame()\n",
    "for k in efs.get_metric_dict():\n",
    "    score = efs.get_metric_dict()[k]['std_err']\n",
    "    SCORE = SCORE.append([score])\n",
    "\n",
    "SCORE.columns = ['std err']\n",
    "SCORE.reset_index(drop=True, inplace=True)"
   ]
  },
  {
   "cell_type": "code",
   "execution_count": 86,
   "metadata": {},
   "outputs": [
    {
     "data": {
      "text/html": [
       "<div>\n",
       "<style scoped>\n",
       "    .dataframe tbody tr th:only-of-type {\n",
       "        vertical-align: middle;\n",
       "    }\n",
       "\n",
       "    .dataframe tbody tr th {\n",
       "        vertical-align: top;\n",
       "    }\n",
       "\n",
       "    .dataframe thead th {\n",
       "        text-align: right;\n",
       "    }\n",
       "</style>\n",
       "<table border=\"1\" class=\"dataframe\">\n",
       "  <thead>\n",
       "    <tr style=\"text-align: right;\">\n",
       "      <th></th>\n",
       "      <th>std err</th>\n",
       "    </tr>\n",
       "  </thead>\n",
       "  <tbody>\n",
       "    <tr>\n",
       "      <th>0</th>\n",
       "      <td>0.000324</td>\n",
       "    </tr>\n",
       "  </tbody>\n",
       "</table>\n",
       "</div>"
      ],
      "text/plain": [
       "    std err\n",
       "0  0.000324"
      ]
     },
     "execution_count": 86,
     "metadata": {},
     "output_type": "execute_result"
    }
   ],
   "source": [
    "minSCORE = SCORE.loc[SCORE['std err'] == min(SCORE['std err'])]\n",
    "minSCORE"
   ]
  },
  {
   "cell_type": "code",
   "execution_count": 87,
   "metadata": {},
   "outputs": [
    {
     "data": {
      "text/plain": [
       "{'feature_idx': (0,),\n",
       " 'cv_scores': array([0.99999972, 0.99996709, 0.99999913, 0.99999952, 0.9983734 ]),\n",
       " 'avg_score': 0.9996677699131767,\n",
       " 'feature_names': ('X^7',)}"
      ]
     },
     "execution_count": 87,
     "metadata": {},
     "output_type": "execute_result"
    }
   ],
   "source": [
    "efs.subsets_[0]"
   ]
  },
  {
   "cell_type": "code",
   "execution_count": 88,
   "metadata": {},
   "outputs": [
    {
     "data": {
      "text/html": [
       "<div>\n",
       "<style scoped>\n",
       "    .dataframe tbody tr th:only-of-type {\n",
       "        vertical-align: middle;\n",
       "    }\n",
       "\n",
       "    .dataframe tbody tr th {\n",
       "        vertical-align: top;\n",
       "    }\n",
       "\n",
       "    .dataframe thead th {\n",
       "        text-align: right;\n",
       "    }\n",
       "</style>\n",
       "<table border=\"1\" class=\"dataframe\">\n",
       "  <thead>\n",
       "    <tr style=\"text-align: right;\">\n",
       "      <th></th>\n",
       "      <th>Features</th>\n",
       "      <th>Index</th>\n",
       "      <th>Average Score</th>\n",
       "    </tr>\n",
       "  </thead>\n",
       "  <tbody>\n",
       "    <tr>\n",
       "      <th>0</th>\n",
       "      <td>X^7</td>\n",
       "      <td>0</td>\n",
       "      <td>0.999668</td>\n",
       "    </tr>\n",
       "  </tbody>\n",
       "</table>\n",
       "</div>"
      ],
      "text/plain": [
       "  Features  Index  Average Score\n",
       "0      X^7      0       0.999668"
      ]
     },
     "execution_count": 88,
     "metadata": {},
     "output_type": "execute_result"
    }
   ],
   "source": [
    "features = efs.best_feature_names_\n",
    "idx = efs.best_idx_\n",
    "\n",
    "feat_list = pd.concat([pd.DataFrame([features]).T, pd.DataFrame([idx]).T], axis = 1)\n",
    "feat_list.columns = ['Features', 'Index']\n",
    "avg_score = pd.DataFrame()\n",
    "for i in idx:\n",
    "    avg_score = avg_score.append(pd.DataFrame([efs.subsets_[i]['avg_score']]))\n",
    "avg_score.columns = ['Average Score']\n",
    "avg_score.reset_index(drop=True,inplace=True)\n",
    "feat_list = pd.concat([feat_list, avg_score], axis=1, ignore_index=True)\n",
    "feat_list.columns = ['Features', 'Index', 'Average Score']\n",
    "feat_list"
   ]
  },
  {
   "cell_type": "code",
   "execution_count": 89,
   "metadata": {},
   "outputs": [
    {
     "data": {
      "text/html": [
       "<div>\n",
       "<style scoped>\n",
       "    .dataframe tbody tr th:only-of-type {\n",
       "        vertical-align: middle;\n",
       "    }\n",
       "\n",
       "    .dataframe tbody tr th {\n",
       "        vertical-align: top;\n",
       "    }\n",
       "\n",
       "    .dataframe thead th {\n",
       "        text-align: right;\n",
       "    }\n",
       "</style>\n",
       "<table border=\"1\" class=\"dataframe\">\n",
       "  <thead>\n",
       "    <tr style=\"text-align: right;\">\n",
       "      <th></th>\n",
       "      <th>Features</th>\n",
       "      <th>Coefficients</th>\n",
       "      <th>Intercept</th>\n",
       "    </tr>\n",
       "  </thead>\n",
       "  <tbody>\n",
       "    <tr>\n",
       "      <th>0</th>\n",
       "      <td>X^7</td>\n",
       "      <td>0.089695</td>\n",
       "      <td>4.784395</td>\n",
       "    </tr>\n",
       "  </tbody>\n",
       "</table>\n",
       "</div>"
      ],
      "text/plain": [
       "  Features  Coefficients  Intercept\n",
       "0      X^7      0.089695   4.784395"
      ]
     },
     "execution_count": 89,
     "metadata": {},
     "output_type": "execute_result"
    }
   ],
   "source": [
    "# performing linear regression on best features\n",
    "dfX_reg = dfX[feat_list['Features']]\n",
    "\n",
    "lm_best = LinearRegression().fit(dfX_reg, dfY)\n",
    "final_coefs = pd.DataFrame(lm_best.coef_).T\n",
    "final_coefs = pd.concat([feat_list['Features'], final_coefs], axis = 1)\n",
    "final_intercept = pd.DataFrame([lm_best.intercept_])\n",
    "final_coefs = pd.concat([final_coefs, final_intercept], axis = 1)\n",
    "final_coefs.columns = ['Features', 'Coefficients', 'Intercept']\n",
    "final_coefs"
   ]
  },
  {
   "cell_type": "code",
   "execution_count": 90,
   "metadata": {},
   "outputs": [
    {
     "name": "stdout",
     "output_type": "stream",
     "text": [
      "Mean Squared Error:  18.038\n"
     ]
    }
   ],
   "source": [
    "lmpred = lm_best.predict(dfX_reg)\n",
    "print(\"Mean Squared Error: \", round(mean_squared_error(dfY, lmpred), 3))"
   ]
  },
  {
   "cell_type": "markdown",
   "metadata": {},
   "source": [
    "**Therefore, the best equation through best subset selection is $Y$ = 4.784395 + 0.089695 $X^7$ and the mean squared error is 18.038.**"
   ]
  },
  {
   "cell_type": "markdown",
   "metadata": {},
   "source": [
    "**Lasso regression**"
   ]
  },
  {
   "cell_type": "code",
   "execution_count": 91,
   "metadata": {},
   "outputs": [],
   "source": [
    "# standardisation\n",
    "from sklearn.preprocessing import StandardScaler\n",
    "\n",
    "scaler = StandardScaler().fit(dfX7)\n",
    "dfX7_scaled = scaler.transform(dfX7)"
   ]
  },
  {
   "cell_type": "code",
   "execution_count": 92,
   "metadata": {},
   "outputs": [],
   "source": [
    "n = 100\n",
    "lambdas = (np.logspace(10, -2, num=100))"
   ]
  },
  {
   "cell_type": "code",
   "execution_count": 93,
   "metadata": {},
   "outputs": [],
   "source": [
    "coefs = []\n",
    "MSE = []\n",
    "for k in lambdas:\n",
    "    lassomod = Lasso(alpha=k, fit_intercept=True).fit(dfX7_scaled,dfY7)\n",
    "    coefs.append(lassomod.coef_)\n",
    "    MSE.append(mean_squared_error(dfY7, lassomod.predict(dfX7_scaled)))"
   ]
  },
  {
   "cell_type": "code",
   "execution_count": 94,
   "metadata": {},
   "outputs": [],
   "source": [
    "coefPD = pd.DataFrame(coefs)"
   ]
  },
  {
   "cell_type": "code",
   "execution_count": 95,
   "metadata": {},
   "outputs": [
    {
     "data": {
      "text/html": [
       "<div>\n",
       "<style scoped>\n",
       "    .dataframe tbody tr th:only-of-type {\n",
       "        vertical-align: middle;\n",
       "    }\n",
       "\n",
       "    .dataframe tbody tr th {\n",
       "        vertical-align: top;\n",
       "    }\n",
       "\n",
       "    .dataframe thead th {\n",
       "        text-align: right;\n",
       "    }\n",
       "</style>\n",
       "<table border=\"1\" class=\"dataframe\">\n",
       "  <thead>\n",
       "    <tr style=\"text-align: right;\">\n",
       "      <th></th>\n",
       "      <th>0</th>\n",
       "    </tr>\n",
       "  </thead>\n",
       "  <tbody>\n",
       "    <tr>\n",
       "      <th>0</th>\n",
       "      <td>0.0</td>\n",
       "    </tr>\n",
       "    <tr>\n",
       "      <th>1</th>\n",
       "      <td>0.0</td>\n",
       "    </tr>\n",
       "    <tr>\n",
       "      <th>2</th>\n",
       "      <td>0.0</td>\n",
       "    </tr>\n",
       "    <tr>\n",
       "      <th>3</th>\n",
       "      <td>0.0</td>\n",
       "    </tr>\n",
       "    <tr>\n",
       "      <th>4</th>\n",
       "      <td>0.0</td>\n",
       "    </tr>\n",
       "  </tbody>\n",
       "</table>\n",
       "</div>"
      ],
      "text/plain": [
       "     0\n",
       "0  0.0\n",
       "1  0.0\n",
       "2  0.0\n",
       "3  0.0\n",
       "4  0.0"
      ]
     },
     "execution_count": 95,
     "metadata": {},
     "output_type": "execute_result"
    }
   ],
   "source": [
    "coefPD.head()"
   ]
  },
  {
   "cell_type": "code",
   "execution_count": 96,
   "metadata": {},
   "outputs": [
    {
     "data": {
      "text/plain": [
       "(100, 1)"
      ]
     },
     "execution_count": 96,
     "metadata": {},
     "output_type": "execute_result"
    }
   ],
   "source": [
    "coefPD.shape"
   ]
  },
  {
   "cell_type": "code",
   "execution_count": 97,
   "metadata": {},
   "outputs": [
    {
     "data": {
      "text/plain": [
       "array([-8.95252135])"
      ]
     },
     "execution_count": 97,
     "metadata": {},
     "output_type": "execute_result"
    }
   ],
   "source": [
    "lassomod.intercept_"
   ]
  },
  {
   "cell_type": "code",
   "execution_count": 98,
   "metadata": {},
   "outputs": [
    {
     "data": {
      "text/plain": [
       "(100, 2)"
      ]
     },
     "execution_count": 98,
     "metadata": {},
     "output_type": "execute_result"
    }
   ],
   "source": [
    "coefPD = pd.concat([pd.DataFrame([lassomod.intercept_]*100), coefPD], axis=1)\n",
    "coefPD.columns = ['Intercept', 'X^7']\n",
    "coefPD.shape"
   ]
  },
  {
   "cell_type": "code",
   "execution_count": 99,
   "metadata": {},
   "outputs": [
    {
     "data": {
      "text/html": [
       "<div>\n",
       "<style scoped>\n",
       "    .dataframe tbody tr th:only-of-type {\n",
       "        vertical-align: middle;\n",
       "    }\n",
       "\n",
       "    .dataframe tbody tr th {\n",
       "        vertical-align: top;\n",
       "    }\n",
       "\n",
       "    .dataframe thead th {\n",
       "        text-align: right;\n",
       "    }\n",
       "</style>\n",
       "<table border=\"1\" class=\"dataframe\">\n",
       "  <thead>\n",
       "    <tr style=\"text-align: right;\">\n",
       "      <th></th>\n",
       "      <th>Intercept</th>\n",
       "      <th>X^7</th>\n",
       "    </tr>\n",
       "  </thead>\n",
       "  <tbody>\n",
       "    <tr>\n",
       "      <th>0</th>\n",
       "      <td>-8.952521</td>\n",
       "      <td>0.0</td>\n",
       "    </tr>\n",
       "    <tr>\n",
       "      <th>1</th>\n",
       "      <td>-8.952521</td>\n",
       "      <td>0.0</td>\n",
       "    </tr>\n",
       "    <tr>\n",
       "      <th>2</th>\n",
       "      <td>-8.952521</td>\n",
       "      <td>0.0</td>\n",
       "    </tr>\n",
       "    <tr>\n",
       "      <th>3</th>\n",
       "      <td>-8.952521</td>\n",
       "      <td>0.0</td>\n",
       "    </tr>\n",
       "    <tr>\n",
       "      <th>4</th>\n",
       "      <td>-8.952521</td>\n",
       "      <td>0.0</td>\n",
       "    </tr>\n",
       "  </tbody>\n",
       "</table>\n",
       "</div>"
      ],
      "text/plain": [
       "   Intercept  X^7\n",
       "0  -8.952521  0.0\n",
       "1  -8.952521  0.0\n",
       "2  -8.952521  0.0\n",
       "3  -8.952521  0.0\n",
       "4  -8.952521  0.0"
      ]
     },
     "execution_count": 99,
     "metadata": {},
     "output_type": "execute_result"
    }
   ],
   "source": [
    "coefPD.head()"
   ]
  },
  {
   "cell_type": "code",
   "execution_count": 100,
   "metadata": {},
   "outputs": [
    {
     "data": {
      "image/png": "[encoded data removed]",
      "text/plain": [
       "<Figure size 1800x720 with 3 Axes>"
      ]
     },
     "metadata": {
      "needs_background": "light"
     },
     "output_type": "display_data"
    }
   ],
   "source": [
    "# plt.xkcd()\n",
    "fig, (ax1, ax2, ax3) = plt.subplots(1, 3, figsize=(25,10))\n",
    "\n",
    "# indexing the only coefficient\n",
    "idx = np.argpartition(np.abs(coefs[-1]), -1)[-1:]\n",
    "\n",
    "# standardised coefficients vs lambdas\n",
    "ax1.plot(lambdas, coefs)\n",
    "ax1.set_xscale('log')\n",
    "ax1.set_xlabel('lambda')\n",
    "ax1.set_ylabel('standardized soefficients')\n",
    "ax1.set_title('standardised coefficients vs lambdas')\n",
    "ax1.legend(np.array(ax1.get_lines())[idx], dfX.columns[idx])\n",
    "\n",
    "# standardised coefficients vs l2 norms\n",
    "l2norm = np.linalg.norm(coefs[-1])\n",
    "l2coefs = np.linalg.norm(coefs/l2norm, axis=1)\n",
    "ax2.plot(l2coefs, coefs)\n",
    "ax2.set_xlabel('l2 norm of ridge coefficients / l2 norm of least squares coefficients')\n",
    "ax2.set_ylabel('standardized coefficients')\n",
    "ax2.set_title('standardised coefficients vs l2 norms')\n",
    "ax2.legend(np.array(ax2.get_lines())[idx], dfX.columns[idx]);\n",
    "\n",
    "# 'Mean Square Error(MSE) vs lambdas\n",
    "ax3.plot(lambdas, MSE)\n",
    "ax3.set_xscale('log')\n",
    "ax3.set_xlabel('lambda')\n",
    "ax3.set_ylabel('Mean Square Error(MSE)')\n",
    "ax3.set_title('Mean Square Error(MSE) vs lambdas');"
   ]
  },
  {
   "cell_type": "code",
   "execution_count": 101,
   "metadata": {},
   "outputs": [],
   "source": [
    "from sklearn.model_selection import train_test_split\n",
    "X_train, X_test, y_train, y_test = train_test_split(dfX7, dfY7, test_size=0.3, random_state=42)"
   ]
  },
  {
   "cell_type": "code",
   "execution_count": 102,
   "metadata": {},
   "outputs": [],
   "source": [
    "# standardisation\n",
    "from sklearn.preprocessing import StandardScaler\n",
    "\n",
    "scaler = StandardScaler().fit(X_train)\n",
    "X_train_scaled = scaler.transform(X_train)\n",
    "X_test_scaled = scaler.transform(X_test)"
   ]
  },
  {
   "cell_type": "code",
   "execution_count": 103,
   "metadata": {},
   "outputs": [
    {
     "name": "stdout",
     "output_type": "stream",
     "text": [
      "MSE with only the intercept:  Y    26931.921085\n",
      "dtype: float64\n",
      "MSE at lambda = 0:  1.1346290601263855\n",
      "MSE at lambda = 1:  1.146009895322998\n",
      "MSE at lambda = 4:  1.340895697538563\n",
      "MSE at lambda = 10^10:  26931.921085017148\n"
     ]
    }
   ],
   "source": [
    "# MSE with only the intercept\n",
    "lmMSEintercept = np.mean(pow((y_train.mean()-y_test), 2))\n",
    "print(\"MSE with only the intercept: \", lmMSEintercept)\n",
    "\n",
    "# MSE for lambda = 0; this is similar to least squares linear regression\n",
    "lmlasso0 = Lasso(alpha=0, fit_intercept=True).fit(X_train_scaled, y_train)\n",
    "lmpredict0 = lmlasso0.predict(X_test_scaled)\n",
    "lmMSE0 = mean_squared_error(y_test, lmpredict0)\n",
    "print(\"MSE at lambda = 0: \", lmMSE0)\n",
    "\n",
    "# MSE for lambda = 1\n",
    "lmridge1 = Lasso(alpha=1, fit_intercept=True).fit(X_train_scaled, y_train)\n",
    "lmpredict1 = lmridge1.predict(X_test_scaled)\n",
    "lmMSE1 = mean_squared_error(y_test, lmpredict1)\n",
    "print(\"MSE at lambda = 1: \", lmMSE1)\n",
    "\n",
    "# MSE for lambda = 4\n",
    "lmlasso4 = Lasso(alpha=4, fit_intercept=True).fit(X_train_scaled, y_train)\n",
    "lmpredict4 = lmlasso4.predict(X_test_scaled)\n",
    "lmMSE4 = mean_squared_error(y_test, lmpredict4)\n",
    "print(\"MSE at lambda = 4: \", lmMSE4)\n",
    "\n",
    "# MSE for lambda = pow(10, 10)\n",
    "lmlasso1010 = Lasso(alpha=pow(10, 10), fit_intercept=True).fit(X_train_scaled, y_train)\n",
    "lmpredict1010 = lmlasso1010.predict(X_test_scaled)\n",
    "lmMSE1010 = mean_squared_error(y_test, lmpredict1010)\n",
    "print(\"MSE at lambda = 10^10: \", lmMSE1010)"
   ]
  },
  {
   "cell_type": "code",
   "execution_count": 104,
   "metadata": {},
   "outputs": [
    {
     "name": "stdout",
     "output_type": "stream",
     "text": [
      "Best lambda:  0.12328467394420634\n"
     ]
    }
   ],
   "source": [
    "# finding the best lambda using CV\n",
    "from sklearn.linear_model import LassoCV\n",
    "\n",
    "lmlassoCV = LassoCV(alphas=lambdas, cv=10).fit(X_train_scaled, y_train)\n",
    "lmlassoCValpha = lmlassoCV.alpha_\n",
    "print(\"Best lambda: \", lmlassoCValpha)"
   ]
  },
  {
   "cell_type": "code",
   "execution_count": 105,
   "metadata": {},
   "outputs": [
    {
     "name": "stdout",
     "output_type": "stream",
     "text": [
      "MSE for best lambda:  1.135\n"
     ]
    }
   ],
   "source": [
    "# performing lasso regression using best lambda\n",
    "lmlasso = Lasso(alpha=lmlassoCValpha, fit_intercept=True).fit(X_train_scaled, y_train)\n",
    "lmlasso_MSE = mean_squared_error(y_test, lmlasso.predict(X_test_scaled))\n",
    "print('MSE for best lambda: ', round(lmlasso_MSE, 3))"
   ]
  },
  {
   "cell_type": "code",
   "execution_count": 106,
   "metadata": {},
   "outputs": [
    {
     "data": {
      "text/html": [
       "<div>\n",
       "<style scoped>\n",
       "    .dataframe tbody tr th:only-of-type {\n",
       "        vertical-align: middle;\n",
       "    }\n",
       "\n",
       "    .dataframe tbody tr th {\n",
       "        vertical-align: top;\n",
       "    }\n",
       "\n",
       "    .dataframe thead th {\n",
       "        text-align: right;\n",
       "    }\n",
       "</style>\n",
       "<table border=\"1\" class=\"dataframe\">\n",
       "  <thead>\n",
       "    <tr style=\"text-align: right;\">\n",
       "      <th></th>\n",
       "      <th>Intercept</th>\n",
       "      <th>Coefficients</th>\n",
       "    </tr>\n",
       "  </thead>\n",
       "  <tbody>\n",
       "    <tr>\n",
       "      <th>1</th>\n",
       "      <td>-21.577303</td>\n",
       "      <td>1417.862041</td>\n",
       "    </tr>\n",
       "  </tbody>\n",
       "</table>\n",
       "</div>"
      ],
      "text/plain": [
       "   Intercept  Coefficients\n",
       "1 -21.577303   1417.862041"
      ]
     },
     "execution_count": 106,
     "metadata": {},
     "output_type": "execute_result"
    }
   ],
   "source": [
    "intercept_list = pd.DataFrame([lmlasso.intercept_])\n",
    "coef_list = pd.concat([intercept_list, pd.DataFrame([lmlasso.coef_]).T], axis = 1)\n",
    "coef_list.reset_index(inplace=True, drop=True)\n",
    "coef_list.columns = ['Intercept', 'Coefficients']\n",
    "coef_list.index = coef_list.index+1\n",
    "coef_list"
   ]
  },
  {
   "cell_type": "markdown",
   "metadata": {},
   "source": [
    "**Therefore, the best equation through lasso regression is $Y$ = -21.577303 + 1417.882041 $X^7$ and the mean squared error is 1.135.**"
   ]
  },
  {
   "cell_type": "markdown",
   "metadata": {},
   "source": [
    "**This suggests that when p<<n, then lasso provides a better fit (even if the intercept is quite off from its true value)\n",
    "than best subset selection as suggested by the lower MSE through lasso regression. But, as p  increases to the point of\n",
    "p$\\approx$n, then best subset selection is more preferred, albeit it comes at a cost of greater computational requirement.**"
   ]
  }
 ],
 "metadata": {
  "kernelspec": {
   "display_name": "Python 3",
   "language": "python",
   "name": "python3"
  },
  "language_info": {
   "codemirror_mode": {
    "name": "ipython",
    "version": 3
   },
   "file_extension": ".py",
   "mimetype": "text/x-python",
   "name": "python",
   "nbconvert_exporter": "python",
   "pygments_lexer": "ipython3",
   "version": "3.9.16"
  }
 },
 "nbformat": 4,
 "nbformat_minor": 2
}
