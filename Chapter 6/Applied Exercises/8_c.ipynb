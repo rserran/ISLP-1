{
 "cells": [
  {
   "cell_type": "markdown",
   "metadata": {},
   "source": [
    "### Preprocessing"
   ]
  },
  {
   "cell_type": "code",
   "execution_count": 1,
   "metadata": {},
   "outputs": [],
   "source": [
    "# import relevant statistical packages\n",
    "import numpy as np\n",
    "import pandas as pd\n",
    "\n",
    "# import data visualisation packages\n",
    "import matplotlib.pyplot as plt\n",
    "import seaborn as sns\n",
    "%matplotlib inline\n",
    "\n",
    "# statsmodels\n",
    "# import statsmodels as sm\n",
    "from statsmodels.api import OLS\n",
    "from statsmodels.tools.tools import add_constant\n",
    "\n",
    "import warnings\n",
    "warnings.filterwarnings('ignore')\n"
   ]
  },
  {
   "cell_type": "code",
   "execution_count": 2,
   "metadata": {},
   "outputs": [
    {
     "data": {
      "text/plain": [
       "'1.4.2'"
      ]
     },
     "execution_count": 2,
     "metadata": {},
     "output_type": "execute_result"
    }
   ],
   "source": [
    "# pandas version\n",
    "pd.__version__"
   ]
  },
  {
   "cell_type": "markdown",
   "metadata": {},
   "source": [
    "### 8 (a) Generating normally distribution predictor X and noise vector $\\epsilon$"
   ]
  },
  {
   "cell_type": "code",
   "execution_count": 3,
   "metadata": {},
   "outputs": [],
   "source": [
    "# set random seed for reproducibility\n",
    "np.random.seed(1)\n",
    "\n",
    "X = np.random.normal(size=100)\n",
    "epsilon = np.random.normal(size=100)"
   ]
  },
  {
   "cell_type": "code",
   "execution_count": 4,
   "metadata": {},
   "outputs": [
    {
     "data": {
      "text/plain": [
       "(100, 100)"
      ]
     },
     "execution_count": 4,
     "metadata": {},
     "output_type": "execute_result"
    }
   ],
   "source": [
    "len(X), len(epsilon)"
   ]
  },
  {
   "cell_type": "markdown",
   "metadata": {},
   "source": [
    "### 8 (b) Generating response vector $Y$ = $\\beta_0$ + $\\beta_1$ $X$ + $\\beta_2$ $X^2$ + $\\beta_3$ $X^3$ + $\\epsilon$"
   ]
  },
  {
   "cell_type": "code",
   "execution_count": 5,
   "metadata": {},
   "outputs": [],
   "source": [
    "BETA0 = 2.0\n",
    "BETA1 = -2.0\n",
    "BETA2 = 3.0\n",
    "BETA3 = 2.5\n",
    "Y = BETA0 + (BETA1*X) + (BETA2*pow(X, 2)) + (BETA3*pow(X, 3)) + epsilon"
   ]
  },
  {
   "cell_type": "code",
   "execution_count": 6,
   "metadata": {},
   "outputs": [
    {
     "data": {
      "text/html": [
       "<div>\n",
       "<style scoped>\n",
       "    .dataframe tbody tr th:only-of-type {\n",
       "        vertical-align: middle;\n",
       "    }\n",
       "\n",
       "    .dataframe tbody tr th {\n",
       "        vertical-align: top;\n",
       "    }\n",
       "\n",
       "    .dataframe thead th {\n",
       "        text-align: right;\n",
       "    }\n",
       "</style>\n",
       "<table border=\"1\" class=\"dataframe\">\n",
       "  <thead>\n",
       "    <tr style=\"text-align: right;\">\n",
       "      <th></th>\n",
       "      <th>X</th>\n",
       "      <th>Y</th>\n",
       "    </tr>\n",
       "  </thead>\n",
       "  <tbody>\n",
       "    <tr>\n",
       "      <th>0</th>\n",
       "      <td>1.624345</td>\n",
       "      <td>16.934254</td>\n",
       "    </tr>\n",
       "    <tr>\n",
       "      <th>1</th>\n",
       "      <td>-0.611756</td>\n",
       "      <td>4.998390</td>\n",
       "    </tr>\n",
       "    <tr>\n",
       "      <th>2</th>\n",
       "      <td>-0.528172</td>\n",
       "      <td>3.928377</td>\n",
       "    </tr>\n",
       "    <tr>\n",
       "      <th>3</th>\n",
       "      <td>-1.072969</td>\n",
       "      <td>5.105132</td>\n",
       "    </tr>\n",
       "    <tr>\n",
       "      <th>4</th>\n",
       "      <td>0.865408</td>\n",
       "      <td>3.041389</td>\n",
       "    </tr>\n",
       "  </tbody>\n",
       "</table>\n",
       "</div>"
      ],
      "text/plain": [
       "          X          Y\n",
       "0  1.624345  16.934254\n",
       "1 -0.611756   4.998390\n",
       "2 -0.528172   3.928377\n",
       "3 -1.072969   5.105132\n",
       "4  0.865408   3.041389"
      ]
     },
     "execution_count": 6,
     "metadata": {},
     "output_type": "execute_result"
    }
   ],
   "source": [
    "df = pd.DataFrame([X, Y]).T \\\n",
    "    .set_axis(['X', 'Y'], axis = 1)\n",
    "# df.columns = ['X', 'Y']\n",
    "df.head()"
   ]
  },
  {
   "cell_type": "markdown",
   "metadata": {},
   "source": [
    "### 8 (c) use forward stepwise selection to select a model containing the predictors $X$ , $X^2$ , ... $X^{10}$ . What is the model obtained according to $C_p$ ? Report the coefficients of the model obtained."
   ]
  },
  {
   "cell_type": "markdown",
   "metadata": {},
   "source": [
    "Using `mlxtend` package to perform feature selection and plotting steps\n",
    "\n",
    "Source: https://rasbt.github.io/mlxtend/"
   ]
  },
  {
   "cell_type": "code",
   "execution_count": 7,
   "metadata": {},
   "outputs": [],
   "source": [
    "# import custom packages\n",
    "from sklearn.linear_model import LinearRegression\n",
    "from sklearn.metrics import mean_squared_error\n",
    "from sklearn.metrics import r2_score as r2\n",
    "from mlxtend.feature_selection import ExhaustiveFeatureSelector as EFS\n",
    "from mlxtend.feature_selection import SequentialFeatureSelector as SFS\n",
    "from mlxtend.plotting import plot_linear_regression as PLS\n",
    "from mlxtend.plotting import plot_sequential_feature_selection as plot_sfs"
   ]
  },
  {
   "cell_type": "code",
   "execution_count": 8,
   "metadata": {},
   "outputs": [
    {
     "data": {
      "text/html": [
       "<div>\n",
       "<style scoped>\n",
       "    .dataframe tbody tr th:only-of-type {\n",
       "        vertical-align: middle;\n",
       "    }\n",
       "\n",
       "    .dataframe tbody tr th {\n",
       "        vertical-align: top;\n",
       "    }\n",
       "\n",
       "    .dataframe thead th {\n",
       "        text-align: right;\n",
       "    }\n",
       "</style>\n",
       "<table border=\"1\" class=\"dataframe\">\n",
       "  <thead>\n",
       "    <tr style=\"text-align: right;\">\n",
       "      <th></th>\n",
       "      <th>X</th>\n",
       "      <th>X_2</th>\n",
       "      <th>X_3</th>\n",
       "      <th>X_4</th>\n",
       "      <th>X_5</th>\n",
       "      <th>X_6</th>\n",
       "      <th>X_7</th>\n",
       "      <th>X_8</th>\n",
       "      <th>X_9</th>\n",
       "      <th>X_10</th>\n",
       "    </tr>\n",
       "  </thead>\n",
       "  <tbody>\n",
       "    <tr>\n",
       "      <th>0</th>\n",
       "      <td>1.624345</td>\n",
       "      <td>2.638498</td>\n",
       "      <td>4.285832</td>\n",
       "      <td>6.961671</td>\n",
       "      <td>11.308158</td>\n",
       "      <td>18.368354</td>\n",
       "      <td>29.836551</td>\n",
       "      <td>48.464863</td>\n",
       "      <td>78.723675</td>\n",
       "      <td>127.874436</td>\n",
       "    </tr>\n",
       "    <tr>\n",
       "      <th>1</th>\n",
       "      <td>-0.611756</td>\n",
       "      <td>0.374246</td>\n",
       "      <td>-0.228947</td>\n",
       "      <td>0.140060</td>\n",
       "      <td>-0.085683</td>\n",
       "      <td>0.052417</td>\n",
       "      <td>-0.032066</td>\n",
       "      <td>0.019617</td>\n",
       "      <td>-0.012001</td>\n",
       "      <td>0.007342</td>\n",
       "    </tr>\n",
       "    <tr>\n",
       "      <th>2</th>\n",
       "      <td>-0.528172</td>\n",
       "      <td>0.278965</td>\n",
       "      <td>-0.147342</td>\n",
       "      <td>0.077822</td>\n",
       "      <td>-0.041103</td>\n",
       "      <td>0.021710</td>\n",
       "      <td>-0.011466</td>\n",
       "      <td>0.006056</td>\n",
       "      <td>-0.003199</td>\n",
       "      <td>0.001689</td>\n",
       "    </tr>\n",
       "    <tr>\n",
       "      <th>3</th>\n",
       "      <td>-1.072969</td>\n",
       "      <td>1.151262</td>\n",
       "      <td>-1.235268</td>\n",
       "      <td>1.325403</td>\n",
       "      <td>-1.422116</td>\n",
       "      <td>1.525886</td>\n",
       "      <td>-1.637228</td>\n",
       "      <td>1.756694</td>\n",
       "      <td>-1.884878</td>\n",
       "      <td>2.022415</td>\n",
       "    </tr>\n",
       "    <tr>\n",
       "      <th>4</th>\n",
       "      <td>0.865408</td>\n",
       "      <td>0.748930</td>\n",
       "      <td>0.648130</td>\n",
       "      <td>0.560897</td>\n",
       "      <td>0.485404</td>\n",
       "      <td>0.420073</td>\n",
       "      <td>0.363534</td>\n",
       "      <td>0.314605</td>\n",
       "      <td>0.272262</td>\n",
       "      <td>0.235617</td>\n",
       "    </tr>\n",
       "  </tbody>\n",
       "</table>\n",
       "</div>"
      ],
      "text/plain": [
       "          X       X_2       X_3       X_4        X_5        X_6        X_7  \\\n",
       "0  1.624345  2.638498  4.285832  6.961671  11.308158  18.368354  29.836551   \n",
       "1 -0.611756  0.374246 -0.228947  0.140060  -0.085683   0.052417  -0.032066   \n",
       "2 -0.528172  0.278965 -0.147342  0.077822  -0.041103   0.021710  -0.011466   \n",
       "3 -1.072969  1.151262 -1.235268  1.325403  -1.422116   1.525886  -1.637228   \n",
       "4  0.865408  0.748930  0.648130  0.560897   0.485404   0.420073   0.363534   \n",
       "\n",
       "         X_8        X_9        X_10  \n",
       "0  48.464863  78.723675  127.874436  \n",
       "1   0.019617  -0.012001    0.007342  \n",
       "2   0.006056  -0.003199    0.001689  \n",
       "3   1.756694  -1.884878    2.022415  \n",
       "4   0.314605   0.272262    0.235617  "
      ]
     },
     "execution_count": 8,
     "metadata": {},
     "output_type": "execute_result"
    }
   ],
   "source": [
    "# create predictors\n",
    "dfX = pd.DataFrame([X, pow(X, 2), pow(X, 3), pow(X, 4), pow(X, 5), pow(X, 6), pow(X, 7), pow(X, 8), pow(X, 9), pow(X, 10)]).T\n",
    "dfX.columns = ['X', 'X_2', 'X_3', 'X_4', 'X_5', 'X_6', 'X_7', 'X_8', 'X_9', 'X_10']\n",
    "dfX.head()"
   ]
  },
  {
   "cell_type": "code",
   "execution_count": 9,
   "metadata": {},
   "outputs": [
    {
     "data": {
      "text/html": [
       "<div>\n",
       "<style scoped>\n",
       "    .dataframe tbody tr th:only-of-type {\n",
       "        vertical-align: middle;\n",
       "    }\n",
       "\n",
       "    .dataframe tbody tr th {\n",
       "        vertical-align: top;\n",
       "    }\n",
       "\n",
       "    .dataframe thead th {\n",
       "        text-align: right;\n",
       "    }\n",
       "</style>\n",
       "<table border=\"1\" class=\"dataframe\">\n",
       "  <thead>\n",
       "    <tr style=\"text-align: right;\">\n",
       "      <th></th>\n",
       "      <th>Y</th>\n",
       "    </tr>\n",
       "  </thead>\n",
       "  <tbody>\n",
       "    <tr>\n",
       "      <th>0</th>\n",
       "      <td>16.934254</td>\n",
       "    </tr>\n",
       "    <tr>\n",
       "      <th>1</th>\n",
       "      <td>4.998390</td>\n",
       "    </tr>\n",
       "    <tr>\n",
       "      <th>2</th>\n",
       "      <td>3.928377</td>\n",
       "    </tr>\n",
       "    <tr>\n",
       "      <th>3</th>\n",
       "      <td>5.105132</td>\n",
       "    </tr>\n",
       "    <tr>\n",
       "      <th>4</th>\n",
       "      <td>3.041389</td>\n",
       "    </tr>\n",
       "  </tbody>\n",
       "</table>\n",
       "</div>"
      ],
      "text/plain": [
       "           Y\n",
       "0  16.934254\n",
       "1   4.998390\n",
       "2   3.928377\n",
       "3   5.105132\n",
       "4   3.041389"
      ]
     },
     "execution_count": 9,
     "metadata": {},
     "output_type": "execute_result"
    }
   ],
   "source": [
    "# target 'Y'\n",
    "dfY = pd.DataFrame(df['Y'])\n",
    "dfY.head()"
   ]
  },
  {
   "cell_type": "code",
   "execution_count": 10,
   "metadata": {},
   "outputs": [],
   "source": [
    "# import sklearn.metrics as sk_metrics\n",
    "# sk_metrics.get_scorer_names()"
   ]
  },
  {
   "cell_type": "markdown",
   "metadata": {},
   "source": [
    "#### Best subset selection (Exhaustive Sequential Selector)"
   ]
  },
  {
   "cell_type": "code",
   "execution_count": 11,
   "metadata": {},
   "outputs": [],
   "source": [
    "# best subset (EFS)\n",
    "efs = EFS(LinearRegression(), \n",
    "          min_features = 1, \n",
    "          max_features = 4, \n",
    "          scoring = 'neg_mean_squared_error', \n",
    "          cv = 0)"
   ]
  },
  {
   "cell_type": "code",
   "execution_count": 12,
   "metadata": {},
   "outputs": [
    {
     "name": "stderr",
     "output_type": "stream",
     "text": [
      "Features: 385/385"
     ]
    },
    {
     "data": {
      "text/plain": [
       "('X', 'X_2', 'X_3', 'X_6')"
      ]
     },
     "execution_count": 12,
     "metadata": {},
     "output_type": "execute_result"
    }
   ],
   "source": [
    "# fit EFS\n",
    "efs.fit(dfX, dfY)\n",
    "\n",
    "# get the final set of features\n",
    "efs.best_feature_names_"
   ]
  },
  {
   "cell_type": "code",
   "execution_count": 13,
   "metadata": {},
   "outputs": [
    {
     "data": {
      "text/html": [
       "<div>\n",
       "<style scoped>\n",
       "    .dataframe tbody tr th:only-of-type {\n",
       "        vertical-align: middle;\n",
       "    }\n",
       "\n",
       "    .dataframe tbody tr th {\n",
       "        vertical-align: top;\n",
       "    }\n",
       "\n",
       "    .dataframe thead th {\n",
       "        text-align: right;\n",
       "    }\n",
       "</style>\n",
       "<table border=\"1\" class=\"dataframe\">\n",
       "  <thead>\n",
       "    <tr style=\"text-align: right;\">\n",
       "      <th></th>\n",
       "      <th>Features</th>\n",
       "      <th>Index</th>\n",
       "      <th>Average Score</th>\n",
       "    </tr>\n",
       "  </thead>\n",
       "  <tbody>\n",
       "    <tr>\n",
       "      <th>0</th>\n",
       "      <td>X</td>\n",
       "      <td>0</td>\n",
       "      <td>-23.924017</td>\n",
       "    </tr>\n",
       "    <tr>\n",
       "      <th>1</th>\n",
       "      <td>X_2</td>\n",
       "      <td>1</td>\n",
       "      <td>-27.433574</td>\n",
       "    </tr>\n",
       "    <tr>\n",
       "      <th>2</th>\n",
       "      <td>X_3</td>\n",
       "      <td>2</td>\n",
       "      <td>-12.387446</td>\n",
       "    </tr>\n",
       "    <tr>\n",
       "      <th>3</th>\n",
       "      <td>X_6</td>\n",
       "      <td>5</td>\n",
       "      <td>-33.588373</td>\n",
       "    </tr>\n",
       "  </tbody>\n",
       "</table>\n",
       "</div>"
      ],
      "text/plain": [
       "  Features  Index  Average Score\n",
       "0        X      0     -23.924017\n",
       "1      X_2      1     -27.433574\n",
       "2      X_3      2     -12.387446\n",
       "3      X_6      5     -33.588373"
      ]
     },
     "execution_count": 13,
     "metadata": {},
     "output_type": "execute_result"
    }
   ],
   "source": [
    "# get features list\n",
    "features = efs.best_feature_names_\n",
    "idx = efs.best_idx_\n",
    "\n",
    "feat_list = pd.concat([pd.DataFrame([features]).T, pd.DataFrame([idx]).T], axis = 1)\n",
    "feat_list.columns = ['Features', 'Index']\n",
    "avg_score = pd.DataFrame()\n",
    "for i in idx:\n",
    "    avg_score = avg_score.append(pd.DataFrame([efs.subsets_[i]['avg_score']]))\n",
    "avg_score.columns = ['Average Score']\n",
    "avg_score.reset_index(drop=True,inplace=True)\n",
    "feat_list = pd.concat([feat_list, avg_score], axis=1, ignore_index=True)\n",
    "feat_list.columns = ['Features', 'Index', 'Average Score']\n",
    "feat_list"
   ]
  },
  {
   "cell_type": "code",
   "execution_count": 14,
   "metadata": {},
   "outputs": [
    {
     "data": {
      "text/html": [
       "<div>\n",
       "<style scoped>\n",
       "    .dataframe tbody tr th:only-of-type {\n",
       "        vertical-align: middle;\n",
       "    }\n",
       "\n",
       "    .dataframe tbody tr th {\n",
       "        vertical-align: top;\n",
       "    }\n",
       "\n",
       "    .dataframe thead th {\n",
       "        text-align: right;\n",
       "    }\n",
       "</style>\n",
       "<table border=\"1\" class=\"dataframe\">\n",
       "  <thead>\n",
       "    <tr style=\"text-align: right;\">\n",
       "      <th></th>\n",
       "      <th>Features</th>\n",
       "      <th>Coefficients</th>\n",
       "      <th>Intercept</th>\n",
       "    </tr>\n",
       "  </thead>\n",
       "  <tbody>\n",
       "    <tr>\n",
       "      <th>0</th>\n",
       "      <td>X</td>\n",
       "      <td>-2.089924</td>\n",
       "      <td>2.276949</td>\n",
       "    </tr>\n",
       "    <tr>\n",
       "      <th>1</th>\n",
       "      <td>X_2</td>\n",
       "      <td>2.657467</td>\n",
       "      <td>2.276949</td>\n",
       "    </tr>\n",
       "    <tr>\n",
       "      <th>2</th>\n",
       "      <td>X_3</td>\n",
       "      <td>2.605378</td>\n",
       "      <td>2.276949</td>\n",
       "    </tr>\n",
       "    <tr>\n",
       "      <th>3</th>\n",
       "      <td>X_6</td>\n",
       "      <td>0.020949</td>\n",
       "      <td>2.276949</td>\n",
       "    </tr>\n",
       "  </tbody>\n",
       "</table>\n",
       "</div>"
      ],
      "text/plain": [
       "  Features  Coefficients  Intercept\n",
       "0        X     -2.089924   2.276949\n",
       "1      X_2      2.657467   2.276949\n",
       "2      X_3      2.605378   2.276949\n",
       "3      X_6      0.020949   2.276949"
      ]
     },
     "execution_count": 14,
     "metadata": {},
     "output_type": "execute_result"
    }
   ],
   "source": [
    "# performing linear regression on best features\n",
    "dfX_reg = dfX[feat_list['Features']]\n",
    "\n",
    "lm_best = LinearRegression().fit(dfX_reg, dfY)\n",
    "final_coefs = pd.DataFrame(lm_best.coef_).T\n",
    "final_coefs = pd.concat([feat_list['Features'], final_coefs], axis = 1)\n",
    "final_intercept = pd.DataFrame([lm_best.intercept_] * len(feat_list))\n",
    "final_coefs = pd.concat([final_coefs, final_intercept], axis = 1)\n",
    "final_coefs.columns = ['Features', 'Coefficients', 'Intercept']\n",
    "final_coefs"
   ]
  },
  {
   "cell_type": "code",
   "execution_count": 15,
   "metadata": {},
   "outputs": [
    {
     "name": "stdout",
     "output_type": "stream",
     "text": [
      "Mean Squared Error:  0.798\n"
     ]
    }
   ],
   "source": [
    "# MSE\n",
    "lmpred = lm_best.predict(dfX_reg)\n",
    "print(\"Mean Squared Error: \", round(mean_squared_error(dfY, lmpred), 3))"
   ]
  },
  {
   "cell_type": "markdown",
   "metadata": {},
   "source": [
    "**Therefore, the best equation through best subset selection is $Y$ = 2.128035 - 2.089924 $X$ + 2.657467 $X^2$ + 2.605378 $X^3$ + 0.020949 $X^6$ and the mean squared error is 0.798.**"
   ]
  },
  {
   "cell_type": "markdown",
   "metadata": {},
   "source": [
    "#### Forward Sequential Selection (SFS)"
   ]
  },
  {
   "cell_type": "code",
   "execution_count": 16,
   "metadata": {},
   "outputs": [],
   "source": [
    "# define function to perform forward stepwise selection using OLS\n",
    "def forward_selection(data, target, significance_level=0.05):\n",
    "    initial_features = data.columns.tolist()\n",
    "    best_features = []\n",
    "    while (len(initial_features)>0):\n",
    "        remaining_features = list(set(initial_features)-set(best_features))\n",
    "        new_pval = pd.Series(index=remaining_features)\n",
    "        for new_column in remaining_features:\n",
    "            model = OLS(target, add_constant(data[best_features+[new_column]])).fit()\n",
    "            new_pval[new_column] = model.pvalues[new_column]\n",
    "        min_p_value = new_pval.min()\n",
    "        if(min_p_value<significance_level):\n",
    "            best_features.append(new_pval.idxmin())\n",
    "        else:\n",
    "            break\n",
    "    return best_features"
   ]
  },
  {
   "cell_type": "code",
   "execution_count": 17,
   "metadata": {},
   "outputs": [
    {
     "data": {
      "text/plain": [
       "['X_3', 'X_2', 'X', 'X_6']"
      ]
     },
     "execution_count": 17,
     "metadata": {},
     "output_type": "execute_result"
    }
   ],
   "source": [
    "# perform forward stepwise selection\n",
    "forward_selection(dfX, dfY)"
   ]
  },
  {
   "cell_type": "code",
   "execution_count": 18,
   "metadata": {},
   "outputs": [],
   "source": [
    "# Sequential Forward Selection(sfs)\n",
    "sfs = SFS(LinearRegression(), \n",
    "          k_features = 4,\n",
    "          forward = True,\n",
    "          floating = False,\n",
    "          scoring = 'r2',\n",
    "          cv = 0)"
   ]
  },
  {
   "cell_type": "code",
   "execution_count": 19,
   "metadata": {},
   "outputs": [
    {
     "data": {
      "text/plain": [
       "('X', 'X_2', 'X_3', 'X_6')"
      ]
     },
     "execution_count": 19,
     "metadata": {},
     "output_type": "execute_result"
    }
   ],
   "source": [
    "# fit SFS\n",
    "sfs.fit(dfX, dfY)\n",
    "\n",
    "# get the final set of features\n",
    "sfs.k_feature_names_  "
   ]
  },
  {
   "cell_type": "code",
   "execution_count": 20,
   "metadata": {},
   "outputs": [
    {
     "data": {
      "image/png": "[encoded data removed]",
      "text/plain": [
       "<Figure size 432x288 with 1 Axes>"
      ]
     },
     "metadata": {
      "needs_background": "light"
     },
     "output_type": "display_data"
    }
   ],
   "source": [
    "# plot SFS\n",
    "fig1 = plot_sfs(sfs.get_metric_dict(), kind = 'std_dev')\n",
    "plt.title('Sequential Forward Selection (w. StdErr)')\n",
    "plt.grid()\n",
    "plt.show()"
   ]
  },
  {
   "cell_type": "code",
   "execution_count": 21,
   "metadata": {},
   "outputs": [
    {
     "name": "stdout",
     "output_type": "stream",
     "text": [
      "X\n",
      "X_2\n",
      "X_3\n",
      "X_6\n"
     ]
    },
    {
     "data": {
      "text/html": [
       "<div>\n",
       "<style scoped>\n",
       "    .dataframe tbody tr th:only-of-type {\n",
       "        vertical-align: middle;\n",
       "    }\n",
       "\n",
       "    .dataframe tbody tr th {\n",
       "        vertical-align: top;\n",
       "    }\n",
       "\n",
       "    .dataframe thead th {\n",
       "        text-align: right;\n",
       "    }\n",
       "</style>\n",
       "<table border=\"1\" class=\"dataframe\">\n",
       "  <thead>\n",
       "    <tr style=\"text-align: right;\">\n",
       "      <th></th>\n",
       "      <th>Features</th>\n",
       "    </tr>\n",
       "  </thead>\n",
       "  <tbody>\n",
       "    <tr>\n",
       "      <th>0</th>\n",
       "      <td>X</td>\n",
       "    </tr>\n",
       "    <tr>\n",
       "      <th>1</th>\n",
       "      <td>X_2</td>\n",
       "    </tr>\n",
       "    <tr>\n",
       "      <th>2</th>\n",
       "      <td>X_3</td>\n",
       "    </tr>\n",
       "    <tr>\n",
       "      <th>3</th>\n",
       "      <td>X_6</td>\n",
       "    </tr>\n",
       "  </tbody>\n",
       "</table>\n",
       "</div>"
      ],
      "text/plain": [
       "  Features\n",
       "0        X\n",
       "1      X_2\n",
       "2      X_3\n",
       "3      X_6"
      ]
     },
     "execution_count": 21,
     "metadata": {},
     "output_type": "execute_result"
    }
   ],
   "source": [
    "# get features list\n",
    "feat = sfs.k_feature_idx_\n",
    "\n",
    "feat_list = pd.DataFrame()\n",
    "for i in feat:\n",
    "    print(dfX.columns[i])\n",
    "    feat_list = feat_list.append(pd.DataFrame([dfX.columns[i]]))\n",
    "feat_list.reset_index(inplace=True, drop=True)\n",
    "feat_list.columns = ['Features']\n",
    "feat_list"
   ]
  },
  {
   "cell_type": "code",
   "execution_count": 22,
   "metadata": {},
   "outputs": [
    {
     "data": {
      "text/html": [
       "<div>\n",
       "<style scoped>\n",
       "    .dataframe tbody tr th:only-of-type {\n",
       "        vertical-align: middle;\n",
       "    }\n",
       "\n",
       "    .dataframe tbody tr th {\n",
       "        vertical-align: top;\n",
       "    }\n",
       "\n",
       "    .dataframe thead th {\n",
       "        text-align: right;\n",
       "    }\n",
       "</style>\n",
       "<table border=\"1\" class=\"dataframe\">\n",
       "  <thead>\n",
       "    <tr style=\"text-align: right;\">\n",
       "      <th></th>\n",
       "      <th>Features</th>\n",
       "      <th>Coefficients</th>\n",
       "      <th>Intercept</th>\n",
       "    </tr>\n",
       "  </thead>\n",
       "  <tbody>\n",
       "    <tr>\n",
       "      <th>0</th>\n",
       "      <td>X</td>\n",
       "      <td>-2.089924</td>\n",
       "      <td>2.276949</td>\n",
       "    </tr>\n",
       "    <tr>\n",
       "      <th>1</th>\n",
       "      <td>X_2</td>\n",
       "      <td>2.657467</td>\n",
       "      <td>2.276949</td>\n",
       "    </tr>\n",
       "    <tr>\n",
       "      <th>2</th>\n",
       "      <td>X_3</td>\n",
       "      <td>2.605378</td>\n",
       "      <td>2.276949</td>\n",
       "    </tr>\n",
       "    <tr>\n",
       "      <th>3</th>\n",
       "      <td>X_6</td>\n",
       "      <td>0.020949</td>\n",
       "      <td>2.276949</td>\n",
       "    </tr>\n",
       "  </tbody>\n",
       "</table>\n",
       "</div>"
      ],
      "text/plain": [
       "  Features  Coefficients  Intercept\n",
       "0        X     -2.089924   2.276949\n",
       "1      X_2      2.657467   2.276949\n",
       "2      X_3      2.605378   2.276949\n",
       "3      X_6      0.020949   2.276949"
      ]
     },
     "execution_count": 22,
     "metadata": {},
     "output_type": "execute_result"
    }
   ],
   "source": [
    "# performing linear regression on best features\n",
    "dfX_reg = dfX[feat_list['Features']]\n",
    "\n",
    "lm_best = LinearRegression().fit(dfX_reg, dfY)\n",
    "final_coefs = pd.DataFrame(lm_best.coef_).T\n",
    "final_coefs = pd.concat([feat_list['Features'], final_coefs], axis = 1)\n",
    "final_intercept = pd.DataFrame([lm_best.intercept_] * len(feat_list))\n",
    "final_coefs = pd.concat([final_coefs, final_intercept], axis = 1)\n",
    "final_coefs.columns = ['Features', 'Coefficients', 'Intercept']\n",
    "final_coefs"
   ]
  },
  {
   "cell_type": "code",
   "execution_count": 23,
   "metadata": {},
   "outputs": [
    {
     "name": "stdout",
     "output_type": "stream",
     "text": [
      "Mean Squared Error:  0.798\n"
     ]
    }
   ],
   "source": [
    "# MSE\n",
    "lmpred = lm_best.predict(dfX_reg)\n",
    "print(\"Mean Squared Error: \", round(mean_squared_error(dfY, lmpred), 3))"
   ]
  },
  {
   "cell_type": "markdown",
   "metadata": {},
   "source": [
    "1.  Forward sequential selection return the same features as the best subset (efs).\n",
    "2.  Forward stepwise selection model equation is $Y$ = 2.276949 - 2.089924 $X$ + 2.657467 $X^2$ + 2.605378 $X^3$ + 0.020949 $X^6$ and the mean squared error is 0.798."
   ]
  },
  {
   "cell_type": "markdown",
   "metadata": {},
   "source": [
    "### 8 (d) Repeat (c) using backwards stepwise selection. How does your answer compare to the results in (c)?"
   ]
  },
  {
   "cell_type": "code",
   "execution_count": 24,
   "metadata": {},
   "outputs": [],
   "source": [
    "# define function for backward stepwise selection\n",
    "def backward_elimination(data, target,significance_level = 0.05):\n",
    "    features = data.columns.tolist()\n",
    "    while(len(features)>0):\n",
    "        features_with_constant = add_constant(data[features])\n",
    "        p_values = OLS(target, features_with_constant).fit().pvalues[1:]\n",
    "        max_p_value = p_values.max()\n",
    "        if(max_p_value >= significance_level):\n",
    "            excluded_feature = p_values.idxmax()\n",
    "            features.remove(excluded_feature)\n",
    "        else:\n",
    "            break \n",
    "    return features"
   ]
  },
  {
   "cell_type": "code",
   "execution_count": 25,
   "metadata": {},
   "outputs": [
    {
     "data": {
      "text/plain": [
       "['X', 'X_2', 'X_5', 'X_6', 'X_7', 'X_9']"
      ]
     },
     "execution_count": 25,
     "metadata": {},
     "output_type": "execute_result"
    }
   ],
   "source": [
    "# perform backward stepwise selection\n",
    "backward_elimination(dfX, dfY)"
   ]
  },
  {
   "cell_type": "code",
   "execution_count": 26,
   "metadata": {},
   "outputs": [],
   "source": [
    "# Sequential backward selection(sbs)\n",
    "sbs = SFS(LinearRegression(),\n",
    "         k_features = (3, 6),\n",
    "         forward = False,\n",
    "         floating = False,\n",
    "         cv=0)"
   ]
  },
  {
   "cell_type": "code",
   "execution_count": 27,
   "metadata": {},
   "outputs": [
    {
     "data": {
      "text/plain": [
       "('X', 'X_2', 'X_5', 'X_6', 'X_7', 'X_9')"
      ]
     },
     "execution_count": 27,
     "metadata": {},
     "output_type": "execute_result"
    }
   ],
   "source": [
    "# fit SBS\n",
    "sbs.fit(dfX, dfY)\n",
    "\n",
    "# get the final set of features\n",
    "sbs.k_feature_names_  "
   ]
  },
  {
   "cell_type": "code",
   "execution_count": 28,
   "metadata": {},
   "outputs": [
    {
     "data": {
      "image/png": "[encoded data removed]",
      "text/plain": [
       "<Figure size 432x288 with 1 Axes>"
      ]
     },
     "metadata": {
      "needs_background": "light"
     },
     "output_type": "display_data"
    }
   ],
   "source": [
    "# plot SBS\n",
    "fig1 = plot_sfs(sbs.get_metric_dict(), kind = 'std_dev')\n",
    "plt.title('Sequential Backward Selection (w. StdErr)')\n",
    "plt.grid()\n",
    "plt.show()"
   ]
  },
  {
   "cell_type": "code",
   "execution_count": 29,
   "metadata": {},
   "outputs": [
    {
     "name": "stdout",
     "output_type": "stream",
     "text": [
      "X\n",
      "X_2\n",
      "X_5\n",
      "X_6\n",
      "X_7\n",
      "X_9\n"
     ]
    },
    {
     "data": {
      "text/html": [
       "<div>\n",
       "<style scoped>\n",
       "    .dataframe tbody tr th:only-of-type {\n",
       "        vertical-align: middle;\n",
       "    }\n",
       "\n",
       "    .dataframe tbody tr th {\n",
       "        vertical-align: top;\n",
       "    }\n",
       "\n",
       "    .dataframe thead th {\n",
       "        text-align: right;\n",
       "    }\n",
       "</style>\n",
       "<table border=\"1\" class=\"dataframe\">\n",
       "  <thead>\n",
       "    <tr style=\"text-align: right;\">\n",
       "      <th></th>\n",
       "      <th>Features</th>\n",
       "    </tr>\n",
       "  </thead>\n",
       "  <tbody>\n",
       "    <tr>\n",
       "      <th>0</th>\n",
       "      <td>X</td>\n",
       "    </tr>\n",
       "    <tr>\n",
       "      <th>1</th>\n",
       "      <td>X_2</td>\n",
       "    </tr>\n",
       "    <tr>\n",
       "      <th>2</th>\n",
       "      <td>X_5</td>\n",
       "    </tr>\n",
       "    <tr>\n",
       "      <th>3</th>\n",
       "      <td>X_6</td>\n",
       "    </tr>\n",
       "    <tr>\n",
       "      <th>4</th>\n",
       "      <td>X_7</td>\n",
       "    </tr>\n",
       "    <tr>\n",
       "      <th>5</th>\n",
       "      <td>X_9</td>\n",
       "    </tr>\n",
       "  </tbody>\n",
       "</table>\n",
       "</div>"
      ],
      "text/plain": [
       "  Features\n",
       "0        X\n",
       "1      X_2\n",
       "2      X_5\n",
       "3      X_6\n",
       "4      X_7\n",
       "5      X_9"
      ]
     },
     "execution_count": 29,
     "metadata": {},
     "output_type": "execute_result"
    }
   ],
   "source": [
    "# get features list\n",
    "feat = sbs.k_feature_idx_\n",
    "\n",
    "feat_list = pd.DataFrame()\n",
    "for i in feat:\n",
    "    print(dfX.columns[i])\n",
    "    feat_list = feat_list.append(pd.DataFrame([dfX.columns[i]]))\n",
    "feat_list.reset_index(inplace=True, drop=True)\n",
    "feat_list.columns = ['Features']\n",
    "feat_list"
   ]
  },
  {
   "cell_type": "code",
   "execution_count": 30,
   "metadata": {},
   "outputs": [
    {
     "data": {
      "text/html": [
       "<div>\n",
       "<style scoped>\n",
       "    .dataframe tbody tr th:only-of-type {\n",
       "        vertical-align: middle;\n",
       "    }\n",
       "\n",
       "    .dataframe tbody tr th {\n",
       "        vertical-align: top;\n",
       "    }\n",
       "\n",
       "    .dataframe thead th {\n",
       "        text-align: right;\n",
       "    }\n",
       "</style>\n",
       "<table border=\"1\" class=\"dataframe\">\n",
       "  <thead>\n",
       "    <tr style=\"text-align: right;\">\n",
       "      <th></th>\n",
       "      <th>Features</th>\n",
       "      <th>Coefficients</th>\n",
       "      <th>Intercept</th>\n",
       "    </tr>\n",
       "  </thead>\n",
       "  <tbody>\n",
       "    <tr>\n",
       "      <th>0</th>\n",
       "      <td>X</td>\n",
       "      <td>-1.283175</td>\n",
       "      <td>2.334272</td>\n",
       "    </tr>\n",
       "    <tr>\n",
       "      <th>1</th>\n",
       "      <td>X_2</td>\n",
       "      <td>2.492363</td>\n",
       "      <td>2.334272</td>\n",
       "    </tr>\n",
       "    <tr>\n",
       "      <th>2</th>\n",
       "      <td>X_5</td>\n",
       "      <td>2.144319</td>\n",
       "      <td>2.334272</td>\n",
       "    </tr>\n",
       "    <tr>\n",
       "      <th>3</th>\n",
       "      <td>X_6</td>\n",
       "      <td>0.031013</td>\n",
       "      <td>2.334272</td>\n",
       "    </tr>\n",
       "    <tr>\n",
       "      <th>4</th>\n",
       "      <td>X_7</td>\n",
       "      <td>-0.614978</td>\n",
       "      <td>2.334272</td>\n",
       "    </tr>\n",
       "    <tr>\n",
       "      <th>5</th>\n",
       "      <td>X_9</td>\n",
       "      <td>0.056794</td>\n",
       "      <td>2.334272</td>\n",
       "    </tr>\n",
       "  </tbody>\n",
       "</table>\n",
       "</div>"
      ],
      "text/plain": [
       "  Features  Coefficients  Intercept\n",
       "0        X     -1.283175   2.334272\n",
       "1      X_2      2.492363   2.334272\n",
       "2      X_5      2.144319   2.334272\n",
       "3      X_6      0.031013   2.334272\n",
       "4      X_7     -0.614978   2.334272\n",
       "5      X_9      0.056794   2.334272"
      ]
     },
     "execution_count": 30,
     "metadata": {},
     "output_type": "execute_result"
    }
   ],
   "source": [
    "# performing linear regression on best features\n",
    "dfX_reg = dfX[feat_list['Features']]\n",
    "\n",
    "lm_best = LinearRegression().fit(dfX_reg, dfY)\n",
    "final_coefs = pd.DataFrame(lm_best.coef_).T\n",
    "final_coefs = pd.concat([feat_list['Features'], final_coefs], axis = 1)\n",
    "final_intercept = pd.DataFrame([lm_best.intercept_] * len(feat_list))\n",
    "final_coefs = pd.concat([final_coefs, final_intercept], axis = 1)\n",
    "final_coefs.columns = ['Features', 'Coefficients', 'Intercept']\n",
    "final_coefs"
   ]
  },
  {
   "cell_type": "code",
   "execution_count": 31,
   "metadata": {},
   "outputs": [
    {
     "name": "stdout",
     "output_type": "stream",
     "text": [
      "Mean Squared Error:  0.782\n"
     ]
    }
   ],
   "source": [
    "# MSE\n",
    "lmpred = lm_best.predict(dfX_reg)\n",
    "print(\"Mean Squared Error: \", round(mean_squared_error(dfY, lmpred), 3))"
   ]
  },
  {
   "cell_type": "markdown",
   "metadata": {},
   "source": [
    "**Therefore, the best equation through best subset selection is $Y$ = 2.334272 - 1.283175 $X$ + 2.492363 $X^2$ + 2.144319 $X^5$ - 0.031013 $X^6$ - 0.614978 $X^7$ + 0.056794 $X^{9}$ and the mean squared error is 0.782.**"
   ]
  },
  {
   "cell_type": "markdown",
   "metadata": {},
   "source": [
    "### 8 (e) Lasso regression"
   ]
  },
  {
   "cell_type": "code",
   "execution_count": 32,
   "metadata": {},
   "outputs": [],
   "source": [
    "# import custom packages\n",
    "from sklearn.linear_model import Lasso\n",
    "from sklearn.model_selection import train_test_split\n",
    "from sklearn.preprocessing import StandardScaler"
   ]
  },
  {
   "cell_type": "code",
   "execution_count": 33,
   "metadata": {},
   "outputs": [],
   "source": [
    "# split dataset into train/test\n",
    "X_train, X_test, y_train, y_test = train_test_split(dfX, dfY, test_size = 0.3, random_state = 42)"
   ]
  },
  {
   "cell_type": "code",
   "execution_count": 36,
   "metadata": {},
   "outputs": [],
   "source": [
    "# define lambda grid\n",
    "lambdas = (np.logspace(10, -100, num = 200))"
   ]
  },
  {
   "cell_type": "code",
   "execution_count": 37,
   "metadata": {},
   "outputs": [],
   "source": [
    "# standardisation\n",
    "scaler = StandardScaler().fit(X_train)\n",
    "X_train_scaled = scaler.transform(X_train)\n",
    "X_test_scaled = scaler.transform(X_test)"
   ]
  },
  {
   "cell_type": "code",
   "execution_count": 38,
   "metadata": {},
   "outputs": [
    {
     "name": "stdout",
     "output_type": "stream",
     "text": [
      "Best lambda:  0.0247\n"
     ]
    }
   ],
   "source": [
    "# finding the best lambda using CV\n",
    "from sklearn.linear_model import LassoCV\n",
    "\n",
    "lmlassoCV = LassoCV(alphas = lambdas, cv = 5, random_state = 2023).fit(X_train_scaled, y_train)\n",
    "lmlassoCValpha = lmlassoCV.alpha_\n",
    "print(\"Best lambda: \", round(lmlassoCValpha, 4))"
   ]
  },
  {
   "cell_type": "code",
   "execution_count": 39,
   "metadata": {},
   "outputs": [
    {
     "name": "stdout",
     "output_type": "stream",
     "text": [
      "MSE for best lambda:  1.291\n"
     ]
    }
   ],
   "source": [
    "# performing lasso regression using best lambda\n",
    "lmlasso = Lasso(alpha = lmlassoCValpha, \n",
    "                fit_intercept=True).fit(X_train_scaled, y_train)\n",
    "\n",
    "lmlasso_MSE = mean_squared_error(y_test, lmlasso.predict(X_test_scaled))\n",
    "print('MSE for best lambda: ', round(lmlasso_MSE, 3))"
   ]
  },
  {
   "cell_type": "code",
   "execution_count": 40,
   "metadata": {},
   "outputs": [
    {
     "data": {
      "text/html": [
       "<div>\n",
       "<style scoped>\n",
       "    .dataframe tbody tr th:only-of-type {\n",
       "        vertical-align: middle;\n",
       "    }\n",
       "\n",
       "    .dataframe tbody tr th {\n",
       "        vertical-align: top;\n",
       "    }\n",
       "\n",
       "    .dataframe thead th {\n",
       "        text-align: right;\n",
       "    }\n",
       "</style>\n",
       "<table border=\"1\" class=\"dataframe\">\n",
       "  <thead>\n",
       "    <tr style=\"text-align: right;\">\n",
       "      <th></th>\n",
       "      <th>Intercept</th>\n",
       "      <th>Coefficients</th>\n",
       "    </tr>\n",
       "  </thead>\n",
       "  <tbody>\n",
       "    <tr>\n",
       "      <th>1</th>\n",
       "      <td>4.916213</td>\n",
       "      <td>-1.487156</td>\n",
       "    </tr>\n",
       "    <tr>\n",
       "      <th>2</th>\n",
       "      <td>4.916213</td>\n",
       "      <td>3.846053</td>\n",
       "    </tr>\n",
       "    <tr>\n",
       "      <th>3</th>\n",
       "      <td>4.916213</td>\n",
       "      <td>5.933036</td>\n",
       "    </tr>\n",
       "    <tr>\n",
       "      <th>5</th>\n",
       "      <td>4.916213</td>\n",
       "      <td>1.244558</td>\n",
       "    </tr>\n",
       "    <tr>\n",
       "      <th>10</th>\n",
       "      <td>4.916213</td>\n",
       "      <td>0.093708</td>\n",
       "    </tr>\n",
       "  </tbody>\n",
       "</table>\n",
       "</div>"
      ],
      "text/plain": [
       "    Intercept  Coefficients\n",
       "1    4.916213     -1.487156\n",
       "2    4.916213      3.846053\n",
       "3    4.916213      5.933036\n",
       "5    4.916213      1.244558\n",
       "10   4.916213      0.093708"
      ]
     },
     "execution_count": 40,
     "metadata": {},
     "output_type": "execute_result"
    }
   ],
   "source": [
    "intercept_list = pd.DataFrame([lmlasso.intercept_] * len(dfX.columns))\n",
    "coef_list = pd.concat([intercept_list, pd.DataFrame([lmlasso.coef_]).T], axis = 1)\n",
    "coef_list.reset_index(inplace=True, drop=True)\n",
    "coef_list.columns = ['Intercept', 'Coefficients']\n",
    "coef_list.index = coef_list.index+1\n",
    "\n",
    "# select features with Coefficiens != 0\n",
    "coef_list[coef_list['Coefficients'] != 0]"
   ]
  },
  {
   "cell_type": "markdown",
   "metadata": {},
   "source": [
    "**Therefore, the best equation through lasso regression is $Y$ = 4.916213 - 1.487156 $X$ + 3.846053 $X^2$ + 5.933036 $X^3$ + 1.244558 $X^5$ + 0.093708 $X^{10}$ and the mean squared error is 1.291.**"
   ]
  },
  {
   "cell_type": "markdown",
   "metadata": {},
   "source": [
    "### 8 (f) Best subset selection and lasso regression for for $Y$ = $\\beta_0$ + $\\beta_7$ $X^7$ + $\\epsilon$"
   ]
  },
  {
   "cell_type": "code",
   "execution_count": 82,
   "metadata": {},
   "outputs": [],
   "source": [
    "BETA7 = 23.457\n",
    "Y7 = BETA0 + (BETA7*pow(X, 7)) + epsilon"
   ]
  },
  {
   "cell_type": "markdown",
   "metadata": {},
   "source": [
    "**Best subset selection**"
   ]
  },
  {
   "cell_type": "code",
   "execution_count": 83,
   "metadata": {},
   "outputs": [],
   "source": [
    "dfX7 = pd.DataFrame([pow(X, 7)]).T\n",
    "dfX7.columns = ['X^7']\n",
    "dfY7 = pd.DataFrame([Y7]).T\n",
    "dfY7.columns = ['Y']"
   ]
  },
  {
   "cell_type": "code",
   "execution_count": 84,
   "metadata": {},
   "outputs": [
    {
     "name": "stderr",
     "output_type": "stream",
     "text": [
      "Features: 1/1"
     ]
    }
   ],
   "source": [
    "lm = LinearRegression()\n",
    "efs = EFS(lm, min_features=1, max_features=1, scoring='r2', cv = 5).fit(dfX7, dfY7)"
   ]
  },
  {
   "cell_type": "code",
   "execution_count": 85,
   "metadata": {},
   "outputs": [],
   "source": [
    "SCORE = pd.DataFrame()\n",
    "for k in efs.get_metric_dict():\n",
    "    score = efs.get_metric_dict()[k]['std_err']\n",
    "    SCORE = SCORE.append([score])\n",
    "\n",
    "SCORE.columns = ['std err']\n",
    "SCORE.reset_index(drop=True, inplace=True)"
   ]
  },
  {
   "cell_type": "code",
   "execution_count": 86,
   "metadata": {},
   "outputs": [
    {
     "data": {
      "text/html": [
       "<div>\n",
       "<style scoped>\n",
       "    .dataframe tbody tr th:only-of-type {\n",
       "        vertical-align: middle;\n",
       "    }\n",
       "\n",
       "    .dataframe tbody tr th {\n",
       "        vertical-align: top;\n",
       "    }\n",
       "\n",
       "    .dataframe thead th {\n",
       "        text-align: right;\n",
       "    }\n",
       "</style>\n",
       "<table border=\"1\" class=\"dataframe\">\n",
       "  <thead>\n",
       "    <tr style=\"text-align: right;\">\n",
       "      <th></th>\n",
       "      <th>std err</th>\n",
       "    </tr>\n",
       "  </thead>\n",
       "  <tbody>\n",
       "    <tr>\n",
       "      <th>0</th>\n",
       "      <td>0.000324</td>\n",
       "    </tr>\n",
       "  </tbody>\n",
       "</table>\n",
       "</div>"
      ],
      "text/plain": [
       "    std err\n",
       "0  0.000324"
      ]
     },
     "execution_count": 86,
     "metadata": {},
     "output_type": "execute_result"
    }
   ],
   "source": [
    "minSCORE = SCORE.loc[SCORE['std err'] == min(SCORE['std err'])]\n",
    "minSCORE"
   ]
  },
  {
   "cell_type": "code",
   "execution_count": 87,
   "metadata": {},
   "outputs": [
    {
     "data": {
      "text/plain": [
       "{'feature_idx': (0,),\n",
       " 'cv_scores': array([0.99999972, 0.99996709, 0.99999913, 0.99999952, 0.9983734 ]),\n",
       " 'avg_score': 0.9996677699131767,\n",
       " 'feature_names': ('X^7',)}"
      ]
     },
     "execution_count": 87,
     "metadata": {},
     "output_type": "execute_result"
    }
   ],
   "source": [
    "efs.subsets_[0]"
   ]
  },
  {
   "cell_type": "code",
   "execution_count": 88,
   "metadata": {},
   "outputs": [
    {
     "data": {
      "text/html": [
       "<div>\n",
       "<style scoped>\n",
       "    .dataframe tbody tr th:only-of-type {\n",
       "        vertical-align: middle;\n",
       "    }\n",
       "\n",
       "    .dataframe tbody tr th {\n",
       "        vertical-align: top;\n",
       "    }\n",
       "\n",
       "    .dataframe thead th {\n",
       "        text-align: right;\n",
       "    }\n",
       "</style>\n",
       "<table border=\"1\" class=\"dataframe\">\n",
       "  <thead>\n",
       "    <tr style=\"text-align: right;\">\n",
       "      <th></th>\n",
       "      <th>Features</th>\n",
       "      <th>Index</th>\n",
       "      <th>Average Score</th>\n",
       "    </tr>\n",
       "  </thead>\n",
       "  <tbody>\n",
       "    <tr>\n",
       "      <th>0</th>\n",
       "      <td>X^7</td>\n",
       "      <td>0</td>\n",
       "      <td>0.999668</td>\n",
       "    </tr>\n",
       "  </tbody>\n",
       "</table>\n",
       "</div>"
      ],
      "text/plain": [
       "  Features  Index  Average Score\n",
       "0      X^7      0       0.999668"
      ]
     },
     "execution_count": 88,
     "metadata": {},
     "output_type": "execute_result"
    }
   ],
   "source": [
    "features = efs.best_feature_names_\n",
    "idx = efs.best_idx_\n",
    "\n",
    "feat_list = pd.concat([pd.DataFrame([features]).T, pd.DataFrame([idx]).T], axis = 1)\n",
    "feat_list.columns = ['Features', 'Index']\n",
    "avg_score = pd.DataFrame()\n",
    "for i in idx:\n",
    "    avg_score = avg_score.append(pd.DataFrame([efs.subsets_[i]['avg_score']]))\n",
    "avg_score.columns = ['Average Score']\n",
    "avg_score.reset_index(drop=True,inplace=True)\n",
    "feat_list = pd.concat([feat_list, avg_score], axis=1, ignore_index=True)\n",
    "feat_list.columns = ['Features', 'Index', 'Average Score']\n",
    "feat_list"
   ]
  },
  {
   "cell_type": "code",
   "execution_count": 89,
   "metadata": {},
   "outputs": [
    {
     "data": {
      "text/html": [
       "<div>\n",
       "<style scoped>\n",
       "    .dataframe tbody tr th:only-of-type {\n",
       "        vertical-align: middle;\n",
       "    }\n",
       "\n",
       "    .dataframe tbody tr th {\n",
       "        vertical-align: top;\n",
       "    }\n",
       "\n",
       "    .dataframe thead th {\n",
       "        text-align: right;\n",
       "    }\n",
       "</style>\n",
       "<table border=\"1\" class=\"dataframe\">\n",
       "  <thead>\n",
       "    <tr style=\"text-align: right;\">\n",
       "      <th></th>\n",
       "      <th>Features</th>\n",
       "      <th>Coefficients</th>\n",
       "      <th>Intercept</th>\n",
       "    </tr>\n",
       "  </thead>\n",
       "  <tbody>\n",
       "    <tr>\n",
       "      <th>0</th>\n",
       "      <td>X^7</td>\n",
       "      <td>0.089695</td>\n",
       "      <td>4.784395</td>\n",
       "    </tr>\n",
       "  </tbody>\n",
       "</table>\n",
       "</div>"
      ],
      "text/plain": [
       "  Features  Coefficients  Intercept\n",
       "0      X^7      0.089695   4.784395"
      ]
     },
     "execution_count": 89,
     "metadata": {},
     "output_type": "execute_result"
    }
   ],
   "source": [
    "# performing linear regression on best features\n",
    "dfX_reg = dfX[feat_list['Features']]\n",
    "\n",
    "lm_best = LinearRegression().fit(dfX_reg, dfY)\n",
    "final_coefs = pd.DataFrame(lm_best.coef_).T\n",
    "final_coefs = pd.concat([feat_list['Features'], final_coefs], axis = 1)\n",
    "final_intercept = pd.DataFrame([lm_best.intercept_])\n",
    "final_coefs = pd.concat([final_coefs, final_intercept], axis = 1)\n",
    "final_coefs.columns = ['Features', 'Coefficients', 'Intercept']\n",
    "final_coefs"
   ]
  },
  {
   "cell_type": "code",
   "execution_count": 90,
   "metadata": {},
   "outputs": [
    {
     "name": "stdout",
     "output_type": "stream",
     "text": [
      "Mean Squared Error:  18.038\n"
     ]
    }
   ],
   "source": [
    "lmpred = lm_best.predict(dfX_reg)\n",
    "print(\"Mean Squared Error: \", round(mean_squared_error(dfY, lmpred), 3))"
   ]
  },
  {
   "cell_type": "markdown",
   "metadata": {},
   "source": [
    "**Therefore, the best equation through best subset selection is $Y$ = 4.784395 + 0.089695 $X^7$ and the mean squared error is 18.038.**"
   ]
  },
  {
   "cell_type": "markdown",
   "metadata": {},
   "source": [
    "**Lasso regression**"
   ]
  },
  {
   "cell_type": "code",
   "execution_count": 91,
   "metadata": {},
   "outputs": [],
   "source": [
    "# standardisation\n",
    "from sklearn.preprocessing import StandardScaler\n",
    "\n",
    "scaler = StandardScaler().fit(dfX7)\n",
    "dfX7_scaled = scaler.transform(dfX7)"
   ]
  },
  {
   "cell_type": "code",
   "execution_count": 92,
   "metadata": {},
   "outputs": [],
   "source": [
    "n = 100\n",
    "lambdas = (np.logspace(10, -2, num=100))"
   ]
  },
  {
   "cell_type": "code",
   "execution_count": 93,
   "metadata": {},
   "outputs": [],
   "source": [
    "coefs = []\n",
    "MSE = []\n",
    "for k in lambdas:\n",
    "    lassomod = Lasso(alpha=k, fit_intercept=True).fit(dfX7_scaled,dfY7)\n",
    "    coefs.append(lassomod.coef_)\n",
    "    MSE.append(mean_squared_error(dfY7, lassomod.predict(dfX7_scaled)))"
   ]
  },
  {
   "cell_type": "code",
   "execution_count": 94,
   "metadata": {},
   "outputs": [],
   "source": [
    "coefPD = pd.DataFrame(coefs)"
   ]
  },
  {
   "cell_type": "code",
   "execution_count": 95,
   "metadata": {},
   "outputs": [
    {
     "data": {
      "text/html": [
       "<div>\n",
       "<style scoped>\n",
       "    .dataframe tbody tr th:only-of-type {\n",
       "        vertical-align: middle;\n",
       "    }\n",
       "\n",
       "    .dataframe tbody tr th {\n",
       "        vertical-align: top;\n",
       "    }\n",
       "\n",
       "    .dataframe thead th {\n",
       "        text-align: right;\n",
       "    }\n",
       "</style>\n",
       "<table border=\"1\" class=\"dataframe\">\n",
       "  <thead>\n",
       "    <tr style=\"text-align: right;\">\n",
       "      <th></th>\n",
       "      <th>0</th>\n",
       "    </tr>\n",
       "  </thead>\n",
       "  <tbody>\n",
       "    <tr>\n",
       "      <th>0</th>\n",
       "      <td>0.0</td>\n",
       "    </tr>\n",
       "    <tr>\n",
       "      <th>1</th>\n",
       "      <td>0.0</td>\n",
       "    </tr>\n",
       "    <tr>\n",
       "      <th>2</th>\n",
       "      <td>0.0</td>\n",
       "    </tr>\n",
       "    <tr>\n",
       "      <th>3</th>\n",
       "      <td>0.0</td>\n",
       "    </tr>\n",
       "    <tr>\n",
       "      <th>4</th>\n",
       "      <td>0.0</td>\n",
       "    </tr>\n",
       "  </tbody>\n",
       "</table>\n",
       "</div>"
      ],
      "text/plain": [
       "     0\n",
       "0  0.0\n",
       "1  0.0\n",
       "2  0.0\n",
       "3  0.0\n",
       "4  0.0"
      ]
     },
     "execution_count": 95,
     "metadata": {},
     "output_type": "execute_result"
    }
   ],
   "source": [
    "coefPD.head()"
   ]
  },
  {
   "cell_type": "code",
   "execution_count": 96,
   "metadata": {},
   "outputs": [
    {
     "data": {
      "text/plain": [
       "(100, 1)"
      ]
     },
     "execution_count": 96,
     "metadata": {},
     "output_type": "execute_result"
    }
   ],
   "source": [
    "coefPD.shape"
   ]
  },
  {
   "cell_type": "code",
   "execution_count": 97,
   "metadata": {},
   "outputs": [
    {
     "data": {
      "text/plain": [
       "array([-8.95252135])"
      ]
     },
     "execution_count": 97,
     "metadata": {},
     "output_type": "execute_result"
    }
   ],
   "source": [
    "lassomod.intercept_"
   ]
  },
  {
   "cell_type": "code",
   "execution_count": 98,
   "metadata": {},
   "outputs": [
    {
     "data": {
      "text/plain": [
       "(100, 2)"
      ]
     },
     "execution_count": 98,
     "metadata": {},
     "output_type": "execute_result"
    }
   ],
   "source": [
    "coefPD = pd.concat([pd.DataFrame([lassomod.intercept_]*100), coefPD], axis=1)\n",
    "coefPD.columns = ['Intercept', 'X^7']\n",
    "coefPD.shape"
   ]
  },
  {
   "cell_type": "code",
   "execution_count": 99,
   "metadata": {},
   "outputs": [
    {
     "data": {
      "text/html": [
       "<div>\n",
       "<style scoped>\n",
       "    .dataframe tbody tr th:only-of-type {\n",
       "        vertical-align: middle;\n",
       "    }\n",
       "\n",
       "    .dataframe tbody tr th {\n",
       "        vertical-align: top;\n",
       "    }\n",
       "\n",
       "    .dataframe thead th {\n",
       "        text-align: right;\n",
       "    }\n",
       "</style>\n",
       "<table border=\"1\" class=\"dataframe\">\n",
       "  <thead>\n",
       "    <tr style=\"text-align: right;\">\n",
       "      <th></th>\n",
       "      <th>Intercept</th>\n",
       "      <th>X^7</th>\n",
       "    </tr>\n",
       "  </thead>\n",
       "  <tbody>\n",
       "    <tr>\n",
       "      <th>0</th>\n",
       "      <td>-8.952521</td>\n",
       "      <td>0.0</td>\n",
       "    </tr>\n",
       "    <tr>\n",
       "      <th>1</th>\n",
       "      <td>-8.952521</td>\n",
       "      <td>0.0</td>\n",
       "    </tr>\n",
       "    <tr>\n",
       "      <th>2</th>\n",
       "      <td>-8.952521</td>\n",
       "      <td>0.0</td>\n",
       "    </tr>\n",
       "    <tr>\n",
       "      <th>3</th>\n",
       "      <td>-8.952521</td>\n",
       "      <td>0.0</td>\n",
       "    </tr>\n",
       "    <tr>\n",
       "      <th>4</th>\n",
       "      <td>-8.952521</td>\n",
       "      <td>0.0</td>\n",
       "    </tr>\n",
       "  </tbody>\n",
       "</table>\n",
       "</div>"
      ],
      "text/plain": [
       "   Intercept  X^7\n",
       "0  -8.952521  0.0\n",
       "1  -8.952521  0.0\n",
       "2  -8.952521  0.0\n",
       "3  -8.952521  0.0\n",
       "4  -8.952521  0.0"
      ]
     },
     "execution_count": 99,
     "metadata": {},
     "output_type": "execute_result"
    }
   ],
   "source": [
    "coefPD.head()"
   ]
  },
  {
   "cell_type": "code",
   "execution_count": 100,
   "metadata": {},
   "outputs": [
    {
     "data": {
      "image/png": "[encoded data removed]",
      "text/plain": [
       "<Figure size 1800x720 with 3 Axes>"
      ]
     },
     "metadata": {
      "needs_background": "light"
     },
     "output_type": "display_data"
    }
   ],
   "source": [
    "# plt.xkcd()\n",
    "fig, (ax1, ax2, ax3) = plt.subplots(1, 3, figsize=(25,10))\n",
    "\n",
    "# indexing the only coefficient\n",
    "idx = np.argpartition(np.abs(coefs[-1]), -1)[-1:]\n",
    "\n",
    "# standardised coefficients vs lambdas\n",
    "ax1.plot(lambdas, coefs)\n",
    "ax1.set_xscale('log')\n",
    "ax1.set_xlabel('lambda')\n",
    "ax1.set_ylabel('standardized soefficients')\n",
    "ax1.set_title('standardised coefficients vs lambdas')\n",
    "ax1.legend(np.array(ax1.get_lines())[idx], dfX.columns[idx])\n",
    "\n",
    "# standardised coefficients vs l2 norms\n",
    "l2norm = np.linalg.norm(coefs[-1])\n",
    "l2coefs = np.linalg.norm(coefs/l2norm, axis=1)\n",
    "ax2.plot(l2coefs, coefs)\n",
    "ax2.set_xlabel('l2 norm of ridge coefficients / l2 norm of least squares coefficients')\n",
    "ax2.set_ylabel('standardized coefficients')\n",
    "ax2.set_title('standardised coefficients vs l2 norms')\n",
    "ax2.legend(np.array(ax2.get_lines())[idx], dfX.columns[idx]);\n",
    "\n",
    "# 'Mean Square Error(MSE) vs lambdas\n",
    "ax3.plot(lambdas, MSE)\n",
    "ax3.set_xscale('log')\n",
    "ax3.set_xlabel('lambda')\n",
    "ax3.set_ylabel('Mean Square Error(MSE)')\n",
    "ax3.set_title('Mean Square Error(MSE) vs lambdas');"
   ]
  },
  {
   "cell_type": "code",
   "execution_count": 101,
   "metadata": {},
   "outputs": [],
   "source": [
    "from sklearn.model_selection import train_test_split\n",
    "X_train, X_test, y_train, y_test = train_test_split(dfX7, dfY7, test_size=0.3, random_state=42)"
   ]
  },
  {
   "cell_type": "code",
   "execution_count": 102,
   "metadata": {},
   "outputs": [],
   "source": [
    "# standardisation\n",
    "from sklearn.preprocessing import StandardScaler\n",
    "\n",
    "scaler = StandardScaler().fit(X_train)\n",
    "X_train_scaled = scaler.transform(X_train)\n",
    "X_test_scaled = scaler.transform(X_test)"
   ]
  },
  {
   "cell_type": "code",
   "execution_count": 103,
   "metadata": {},
   "outputs": [
    {
     "name": "stdout",
     "output_type": "stream",
     "text": [
      "MSE with only the intercept:  Y    26931.921085\n",
      "dtype: float64\n",
      "MSE at lambda = 0:  1.1346290601263855\n",
      "MSE at lambda = 1:  1.146009895322998\n",
      "MSE at lambda = 4:  1.340895697538563\n",
      "MSE at lambda = 10^10:  26931.921085017148\n"
     ]
    }
   ],
   "source": [
    "# MSE with only the intercept\n",
    "lmMSEintercept = np.mean(pow((y_train.mean()-y_test), 2))\n",
    "print(\"MSE with only the intercept: \", lmMSEintercept)\n",
    "\n",
    "# MSE for lambda = 0; this is similar to least squares linear regression\n",
    "lmlasso0 = Lasso(alpha=0, fit_intercept=True).fit(X_train_scaled, y_train)\n",
    "lmpredict0 = lmlasso0.predict(X_test_scaled)\n",
    "lmMSE0 = mean_squared_error(y_test, lmpredict0)\n",
    "print(\"MSE at lambda = 0: \", lmMSE0)\n",
    "\n",
    "# MSE for lambda = 1\n",
    "lmridge1 = Lasso(alpha=1, fit_intercept=True).fit(X_train_scaled, y_train)\n",
    "lmpredict1 = lmridge1.predict(X_test_scaled)\n",
    "lmMSE1 = mean_squared_error(y_test, lmpredict1)\n",
    "print(\"MSE at lambda = 1: \", lmMSE1)\n",
    "\n",
    "# MSE for lambda = 4\n",
    "lmlasso4 = Lasso(alpha=4, fit_intercept=True).fit(X_train_scaled, y_train)\n",
    "lmpredict4 = lmlasso4.predict(X_test_scaled)\n",
    "lmMSE4 = mean_squared_error(y_test, lmpredict4)\n",
    "print(\"MSE at lambda = 4: \", lmMSE4)\n",
    "\n",
    "# MSE for lambda = pow(10, 10)\n",
    "lmlasso1010 = Lasso(alpha=pow(10, 10), fit_intercept=True).fit(X_train_scaled, y_train)\n",
    "lmpredict1010 = lmlasso1010.predict(X_test_scaled)\n",
    "lmMSE1010 = mean_squared_error(y_test, lmpredict1010)\n",
    "print(\"MSE at lambda = 10^10: \", lmMSE1010)"
   ]
  },
  {
   "cell_type": "code",
   "execution_count": 104,
   "metadata": {},
   "outputs": [
    {
     "name": "stdout",
     "output_type": "stream",
     "text": [
      "Best lambda:  0.12328467394420634\n"
     ]
    }
   ],
   "source": [
    "# finding the best lambda using CV\n",
    "from sklearn.linear_model import LassoCV\n",
    "\n",
    "lmlassoCV = LassoCV(alphas=lambdas, cv=10).fit(X_train_scaled, y_train)\n",
    "lmlassoCValpha = lmlassoCV.alpha_\n",
    "print(\"Best lambda: \", lmlassoCValpha)"
   ]
  },
  {
   "cell_type": "code",
   "execution_count": 105,
   "metadata": {},
   "outputs": [
    {
     "name": "stdout",
     "output_type": "stream",
     "text": [
      "MSE for best lambda:  1.135\n"
     ]
    }
   ],
   "source": [
    "# performing lasso regression using best lambda\n",
    "lmlasso = Lasso(alpha=lmlassoCValpha, fit_intercept=True).fit(X_train_scaled, y_train)\n",
    "lmlasso_MSE = mean_squared_error(y_test, lmlasso.predict(X_test_scaled))\n",
    "print('MSE for best lambda: ', round(lmlasso_MSE, 3))"
   ]
  },
  {
   "cell_type": "code",
   "execution_count": 106,
   "metadata": {},
   "outputs": [
    {
     "data": {
      "text/html": [
       "<div>\n",
       "<style scoped>\n",
       "    .dataframe tbody tr th:only-of-type {\n",
       "        vertical-align: middle;\n",
       "    }\n",
       "\n",
       "    .dataframe tbody tr th {\n",
       "        vertical-align: top;\n",
       "    }\n",
       "\n",
       "    .dataframe thead th {\n",
       "        text-align: right;\n",
       "    }\n",
       "</style>\n",
       "<table border=\"1\" class=\"dataframe\">\n",
       "  <thead>\n",
       "    <tr style=\"text-align: right;\">\n",
       "      <th></th>\n",
       "      <th>Intercept</th>\n",
       "      <th>Coefficients</th>\n",
       "    </tr>\n",
       "  </thead>\n",
       "  <tbody>\n",
       "    <tr>\n",
       "      <th>1</th>\n",
       "      <td>-21.577303</td>\n",
       "      <td>1417.862041</td>\n",
       "    </tr>\n",
       "  </tbody>\n",
       "</table>\n",
       "</div>"
      ],
      "text/plain": [
       "   Intercept  Coefficients\n",
       "1 -21.577303   1417.862041"
      ]
     },
     "execution_count": 106,
     "metadata": {},
     "output_type": "execute_result"
    }
   ],
   "source": [
    "intercept_list = pd.DataFrame([lmlasso.intercept_])\n",
    "coef_list = pd.concat([intercept_list, pd.DataFrame([lmlasso.coef_]).T], axis = 1)\n",
    "coef_list.reset_index(inplace=True, drop=True)\n",
    "coef_list.columns = ['Intercept', 'Coefficients']\n",
    "coef_list.index = coef_list.index+1\n",
    "coef_list"
   ]
  },
  {
   "cell_type": "markdown",
   "metadata": {},
   "source": [
    "**Therefore, the best equation through lasso regression is $Y$ = -21.577303 + 1417.882041 $X^7$ and the mean squared error is 1.135.**"
   ]
  },
  {
   "cell_type": "markdown",
   "metadata": {},
   "source": [
    "**This suggests that when p<<n, then lasso provides a better fit (even if the intercept is quite off from its true value)\n",
    "than best subset selection as suggested by the lower MSE through lasso regression. But, as p  increases to the point of\n",
    "p$\\approx$n, then best subset selection is more preferred, albeit it comes at a cost of greater computational requirement.**"
   ]
  }
 ],
 "metadata": {
  "kernelspec": {
   "display_name": "Python 3",
   "language": "python",
   "name": "python3"
  },
  "language_info": {
   "codemirror_mode": {
    "name": "ipython",
    "version": 3
   },
   "file_extension": ".py",
   "mimetype": "text/x-python",
   "name": "python",
   "nbconvert_exporter": "python",
   "pygments_lexer": "ipython3",
   "version": "3.8.16"
  }
 },
 "nbformat": 4,
 "nbformat_minor": 2
}
