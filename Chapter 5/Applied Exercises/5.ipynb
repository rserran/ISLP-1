{
 "cells": [
  {
   "cell_type": "markdown",
   "metadata": {},
   "source": [
    "## ISLP Chapter 5 - Resampling\n",
    "\n",
    "### Applied exercise 5"
   ]
  },
  {
   "cell_type": "code",
   "execution_count": 1,
   "metadata": {},
   "outputs": [],
   "source": [
    "# import relevant statistical packages\n",
    "import numpy as np\n",
    "import pandas as pd"
   ]
  },
  {
   "cell_type": "code",
   "execution_count": 2,
   "metadata": {},
   "outputs": [],
   "source": [
    "# import relevant data visualisation packages\n",
    "import matplotlib.pyplot as plt\n",
    "import seaborn as sns\n",
    "%matplotlib inline"
   ]
  },
  {
   "cell_type": "code",
   "execution_count": 3,
   "metadata": {},
   "outputs": [],
   "source": [
    "# load Default dataset\n",
    "# url = \"/Users/arpanganguli/Documents/Professional/Finance/ISLR/Datasets/Default.csv\"\n",
    "url = \"../../Data/Default.csv\"\n",
    "Default = pd.read_csv(url, index_col = 'Unnamed: 0')"
   ]
  },
  {
   "cell_type": "code",
   "execution_count": 4,
   "metadata": {},
   "outputs": [
    {
     "data": {
      "text/html": [
       "<div>\n",
       "<style scoped>\n",
       "    .dataframe tbody tr th:only-of-type {\n",
       "        vertical-align: middle;\n",
       "    }\n",
       "\n",
       "    .dataframe tbody tr th {\n",
       "        vertical-align: top;\n",
       "    }\n",
       "\n",
       "    .dataframe thead th {\n",
       "        text-align: right;\n",
       "    }\n",
       "</style>\n",
       "<table border=\"1\" class=\"dataframe\">\n",
       "  <thead>\n",
       "    <tr style=\"text-align: right;\">\n",
       "      <th></th>\n",
       "      <th>default</th>\n",
       "      <th>student</th>\n",
       "      <th>balance</th>\n",
       "      <th>income</th>\n",
       "    </tr>\n",
       "  </thead>\n",
       "  <tbody>\n",
       "    <tr>\n",
       "      <th>1</th>\n",
       "      <td>No</td>\n",
       "      <td>No</td>\n",
       "      <td>729.526495</td>\n",
       "      <td>44361.625074</td>\n",
       "    </tr>\n",
       "    <tr>\n",
       "      <th>2</th>\n",
       "      <td>No</td>\n",
       "      <td>Yes</td>\n",
       "      <td>817.180407</td>\n",
       "      <td>12106.134700</td>\n",
       "    </tr>\n",
       "    <tr>\n",
       "      <th>3</th>\n",
       "      <td>No</td>\n",
       "      <td>No</td>\n",
       "      <td>1073.549164</td>\n",
       "      <td>31767.138947</td>\n",
       "    </tr>\n",
       "    <tr>\n",
       "      <th>4</th>\n",
       "      <td>No</td>\n",
       "      <td>No</td>\n",
       "      <td>529.250605</td>\n",
       "      <td>35704.493935</td>\n",
       "    </tr>\n",
       "    <tr>\n",
       "      <th>5</th>\n",
       "      <td>No</td>\n",
       "      <td>No</td>\n",
       "      <td>785.655883</td>\n",
       "      <td>38463.495879</td>\n",
       "    </tr>\n",
       "  </tbody>\n",
       "</table>\n",
       "</div>"
      ],
      "text/plain": [
       "  default student      balance        income\n",
       "1      No      No   729.526495  44361.625074\n",
       "2      No     Yes   817.180407  12106.134700\n",
       "3      No      No  1073.549164  31767.138947\n",
       "4      No      No   529.250605  35704.493935\n",
       "5      No      No   785.655883  38463.495879"
      ]
     },
     "execution_count": 4,
     "metadata": {},
     "output_type": "execute_result"
    }
   ],
   "source": [
    "Default.head()"
   ]
  },
  {
   "cell_type": "code",
   "execution_count": 5,
   "metadata": {},
   "outputs": [
    {
     "name": "stdout",
     "output_type": "stream",
     "text": [
      "<class 'pandas.core.frame.DataFrame'>\n",
      "Int64Index: 10000 entries, 1 to 10000\n",
      "Data columns (total 4 columns):\n",
      " #   Column   Non-Null Count  Dtype  \n",
      "---  ------   --------------  -----  \n",
      " 0   default  10000 non-null  object \n",
      " 1   student  10000 non-null  object \n",
      " 2   balance  10000 non-null  float64\n",
      " 3   income   10000 non-null  float64\n",
      "dtypes: float64(2), object(2)\n",
      "memory usage: 390.6+ KB\n"
     ]
    }
   ],
   "source": [
    "Default.info()"
   ]
  },
  {
   "cell_type": "code",
   "execution_count": 6,
   "metadata": {},
   "outputs": [],
   "source": [
    "dfX = Default[['student', 'balance','income']]\n",
    "dfX = pd.get_dummies(data = dfX, drop_first=True)\n",
    "dfy = Default['default']"
   ]
  },
  {
   "cell_type": "code",
   "execution_count": 7,
   "metadata": {},
   "outputs": [
    {
     "data": {
      "text/html": [
       "<div>\n",
       "<style scoped>\n",
       "    .dataframe tbody tr th:only-of-type {\n",
       "        vertical-align: middle;\n",
       "    }\n",
       "\n",
       "    .dataframe tbody tr th {\n",
       "        vertical-align: top;\n",
       "    }\n",
       "\n",
       "    .dataframe thead th {\n",
       "        text-align: right;\n",
       "    }\n",
       "</style>\n",
       "<table border=\"1\" class=\"dataframe\">\n",
       "  <thead>\n",
       "    <tr style=\"text-align: right;\">\n",
       "      <th></th>\n",
       "      <th>balance</th>\n",
       "      <th>income</th>\n",
       "      <th>student_Yes</th>\n",
       "    </tr>\n",
       "  </thead>\n",
       "  <tbody>\n",
       "    <tr>\n",
       "      <th>1</th>\n",
       "      <td>729.526495</td>\n",
       "      <td>44361.625074</td>\n",
       "      <td>0</td>\n",
       "    </tr>\n",
       "    <tr>\n",
       "      <th>2</th>\n",
       "      <td>817.180407</td>\n",
       "      <td>12106.134700</td>\n",
       "      <td>1</td>\n",
       "    </tr>\n",
       "    <tr>\n",
       "      <th>3</th>\n",
       "      <td>1073.549164</td>\n",
       "      <td>31767.138947</td>\n",
       "      <td>0</td>\n",
       "    </tr>\n",
       "    <tr>\n",
       "      <th>4</th>\n",
       "      <td>529.250605</td>\n",
       "      <td>35704.493935</td>\n",
       "      <td>0</td>\n",
       "    </tr>\n",
       "    <tr>\n",
       "      <th>5</th>\n",
       "      <td>785.655883</td>\n",
       "      <td>38463.495879</td>\n",
       "      <td>0</td>\n",
       "    </tr>\n",
       "  </tbody>\n",
       "</table>\n",
       "</div>"
      ],
      "text/plain": [
       "       balance        income  student_Yes\n",
       "1   729.526495  44361.625074            0\n",
       "2   817.180407  12106.134700            1\n",
       "3  1073.549164  31767.138947            0\n",
       "4   529.250605  35704.493935            0\n",
       "5   785.655883  38463.495879            0"
      ]
     },
     "execution_count": 7,
     "metadata": {},
     "output_type": "execute_result"
    }
   ],
   "source": [
    "dfX.head()"
   ]
  },
  {
   "cell_type": "code",
   "execution_count": 8,
   "metadata": {},
   "outputs": [
    {
     "data": {
      "text/plain": [
       "1    No\n",
       "2    No\n",
       "3    No\n",
       "4    No\n",
       "5    No\n",
       "Name: default, dtype: object"
      ]
     },
     "execution_count": 8,
     "metadata": {},
     "output_type": "execute_result"
    }
   ],
   "source": [
    "dfy.head()"
   ]
  },
  {
   "cell_type": "markdown",
   "metadata": {},
   "source": [
    "### 5.a. Fitting a logistic regression model"
   ]
  },
  {
   "cell_type": "code",
   "execution_count": 336,
   "metadata": {},
   "outputs": [],
   "source": [
    "from sklearn.linear_model import LogisticRegression"
   ]
  },
  {
   "cell_type": "code",
   "execution_count": 337,
   "metadata": {},
   "outputs": [],
   "source": [
    "X = dfX[['income', 'balance']]\n",
    "y = dfy"
   ]
  },
  {
   "cell_type": "code",
   "execution_count": 338,
   "metadata": {},
   "outputs": [],
   "source": [
    "glmfit = LogisticRegression(solver = 'liblinear').fit(X, y)"
   ]
  },
  {
   "cell_type": "code",
   "execution_count": 339,
   "metadata": {},
   "outputs": [
    {
     "data": {
      "text/plain": [
       "array([[-0.00012588,  0.00040756]])"
      ]
     },
     "execution_count": 339,
     "metadata": {},
     "output_type": "execute_result"
    }
   ],
   "source": [
    "glmfit.coef_"
   ]
  },
  {
   "cell_type": "markdown",
   "metadata": {},
   "source": [
    "### 5.b. Validation set approach"
   ]
  },
  {
   "cell_type": "code",
   "execution_count": 9,
   "metadata": {},
   "outputs": [],
   "source": [
    "from sklearn.model_selection import train_test_split"
   ]
  },
  {
   "cell_type": "code",
   "execution_count": 11,
   "metadata": {},
   "outputs": [],
   "source": [
    "X = dfX[['income', 'balance']]\n",
    "y = dfy\n",
    "X_train, X_test, y_train, y_test = train_test_split(X, y, test_size=0.3, random_state=42)"
   ]
  },
  {
   "cell_type": "code",
   "execution_count": 12,
   "metadata": {},
   "outputs": [
    {
     "name": "stdout",
     "output_type": "stream",
     "text": [
      "X_train,  (7000, 2) y_train,  (7000,) X_test:  (3000, 2) y_test:  (3000,)\n"
     ]
    }
   ],
   "source": [
    "print(\"X_train, \", X_train.shape, \"y_train, \", y_train.shape, \"X_test: \", X_test.shape, \"y_test: \", y_test.shape)"
   ]
  },
  {
   "cell_type": "code",
   "execution_count": 14,
   "metadata": {},
   "outputs": [],
   "source": [
    "from sklearn.linear_model import LogisticRegression\n",
    "\n",
    "glmfit = LogisticRegression(solver='liblinear').fit(X_train, y_train)"
   ]
  },
  {
   "cell_type": "code",
   "execution_count": 15,
   "metadata": {},
   "outputs": [],
   "source": [
    "glmpred = glmfit.predict(X_test)"
   ]
  },
  {
   "cell_type": "code",
   "execution_count": 16,
   "metadata": {},
   "outputs": [],
   "source": [
    "from sklearn.metrics import confusion_matrix"
   ]
  },
  {
   "cell_type": "code",
   "execution_count": 17,
   "metadata": {},
   "outputs": [
    {
     "data": {
      "text/plain": [
       "array([[2905,    1],\n",
       "       [  94,    0]])"
      ]
     },
     "execution_count": 17,
     "metadata": {},
     "output_type": "execute_result"
    }
   ],
   "source": [
    "conf_mat = confusion_matrix(y_test, glmpred)\n",
    "conf_mat"
   ]
  },
  {
   "cell_type": "code",
   "execution_count": 18,
   "metadata": {},
   "outputs": [
    {
     "data": {
      "text/plain": [
       "0.0136"
      ]
     },
     "execution_count": 18,
     "metadata": {},
     "output_type": "execute_result"
    }
   ],
   "source": [
    "round((conf_mat[0][1] + conf_mat[1][0]) / y_train.shape[0], 4)"
   ]
  },
  {
   "cell_type": "markdown",
   "metadata": {},
   "source": [
    "### 5.c. Same process repeated thrice with different splits**"
   ]
  },
  {
   "cell_type": "code",
   "execution_count": 19,
   "metadata": {},
   "outputs": [
    {
     "name": "stdout",
     "output_type": "stream",
     "text": [
      "X_train,  (7500, 2) y_train,  (7500,) X_test:  (2500, 2) y_test:  (2500,)\n"
     ]
    },
    {
     "data": {
      "text/plain": [
       "0.0108"
      ]
     },
     "execution_count": 19,
     "metadata": {},
     "output_type": "execute_result"
    }
   ],
   "source": [
    "X_train, X_test, y_train, y_test = train_test_split(X, y, test_size=0.25, random_state=42)\n",
    "print(\"X_train, \", X_train.shape, \"y_train, \", y_train.shape, \"X_test: \", X_test.shape, \"y_test: \", y_test.shape)\n",
    "glmfit = LogisticRegression(solver='liblinear').fit(X_train, y_train)\n",
    "glmpred = glmfit.predict(X_test)\n",
    "conf_mat = confusion_matrix(y_test, glmpred)\n",
    "round((conf_mat[0][1] + conf_mat[1][0]) / y_train.shape[0], 4)"
   ]
  },
  {
   "cell_type": "code",
   "execution_count": 20,
   "metadata": {},
   "outputs": [
    {
     "name": "stdout",
     "output_type": "stream",
     "text": [
      "X_train,  (5000, 2) y_train,  (5000,) X_test:  (5000, 2) y_test:  (5000,)\n"
     ]
    },
    {
     "data": {
      "text/plain": [
       "0.0322"
      ]
     },
     "execution_count": 20,
     "metadata": {},
     "output_type": "execute_result"
    }
   ],
   "source": [
    "X_train, X_test, y_train, y_test = train_test_split(X, y, test_size=0.5, random_state=42)\n",
    "print(\"X_train, \", X_train.shape, \"y_train, \", y_train.shape, \"X_test: \", X_test.shape, \"y_test: \", y_test.shape)\n",
    "glmfit = LogisticRegression(solver='liblinear').fit(X_train, y_train)\n",
    "glmpred = glmfit.predict(X_test)\n",
    "conf_mat = confusion_matrix(y_test, glmpred)\n",
    "round((conf_mat[0][1] + conf_mat[1][0]) / y_train.shape[0], 4)"
   ]
  },
  {
   "cell_type": "code",
   "execution_count": 21,
   "metadata": {},
   "outputs": [
    {
     "name": "stdout",
     "output_type": "stream",
     "text": [
      "X_train,  (2500, 2) y_train,  (2500,) X_test:  (7500, 2) y_test:  (7500,)\n"
     ]
    },
    {
     "data": {
      "text/plain": [
       "0.0992"
      ]
     },
     "execution_count": 21,
     "metadata": {},
     "output_type": "execute_result"
    }
   ],
   "source": [
    "X_train, X_test, y_train, y_test = train_test_split(X, y, test_size=0.75, random_state=42)\n",
    "print(\"X_train, \", X_train.shape, \"y_train, \", y_train.shape, \"X_test: \", X_test.shape, \"y_test: \", y_test.shape)\n",
    "glmfit = LogisticRegression(solver='liblinear').fit(X_train, y_train)\n",
    "glmpred = glmfit.predict(X_test)\n",
    "conf_mat = confusion_matrix(y_test, glmpred)\n",
    "round((conf_mat[0][1] + conf_mat[1][0]) / y_train.shape[0], 4)"
   ]
  },
  {
   "cell_type": "markdown",
   "metadata": {},
   "source": [
    "#### Checking for multiple splits"
   ]
  },
  {
   "cell_type": "code",
   "execution_count": 22,
   "metadata": {},
   "outputs": [],
   "source": [
    "sample = np.linspace(start = 0.05, stop = 0.95, num = 20)"
   ]
  },
  {
   "cell_type": "code",
   "execution_count": 23,
   "metadata": {},
   "outputs": [
    {
     "data": {
      "text/plain": [
       "array([0.05      , 0.09736842, 0.14473684, 0.19210526, 0.23947368,\n",
       "       0.28684211, 0.33421053, 0.38157895, 0.42894737, 0.47631579,\n",
       "       0.52368421, 0.57105263, 0.61842105, 0.66578947, 0.71315789,\n",
       "       0.76052632, 0.80789474, 0.85526316, 0.90263158, 0.95      ])"
      ]
     },
     "execution_count": 23,
     "metadata": {},
     "output_type": "execute_result"
    }
   ],
   "source": [
    "sample"
   ]
  },
  {
   "cell_type": "code",
   "execution_count": 24,
   "metadata": {},
   "outputs": [
    {
     "name": "stdout",
     "output_type": "stream",
     "text": [
      "X_train,  (9500, 2) y_train,  (9500,) X_test:  (500, 2) y_test:  (500,)\n",
      "X_train,  (9026, 2) y_train,  (9026,) X_test:  (974, 2) y_test:  (974,)\n",
      "X_train,  (8552, 2) y_train,  (8552,) X_test:  (1448, 2) y_test:  (1448,)\n",
      "X_train,  (8078, 2) y_train,  (8078,) X_test:  (1922, 2) y_test:  (1922,)\n",
      "X_train,  (7605, 2) y_train,  (7605,) X_test:  (2395, 2) y_test:  (2395,)\n",
      "X_train,  (7131, 2) y_train,  (7131,) X_test:  (2869, 2) y_test:  (2869,)\n",
      "X_train,  (6657, 2) y_train,  (6657,) X_test:  (3343, 2) y_test:  (3343,)\n",
      "X_train,  (6184, 2) y_train,  (6184,) X_test:  (3816, 2) y_test:  (3816,)\n",
      "X_train,  (5710, 2) y_train,  (5710,) X_test:  (4290, 2) y_test:  (4290,)\n",
      "X_train,  (5236, 2) y_train,  (5236,) X_test:  (4764, 2) y_test:  (4764,)\n",
      "X_train,  (4763, 2) y_train,  (4763,) X_test:  (5237, 2) y_test:  (5237,)\n",
      "X_train,  (4289, 2) y_train,  (4289,) X_test:  (5711, 2) y_test:  (5711,)\n",
      "X_train,  (3815, 2) y_train,  (3815,) X_test:  (6185, 2) y_test:  (6185,)\n",
      "X_train,  (3342, 2) y_train,  (3342,) X_test:  (6658, 2) y_test:  (6658,)\n"
     ]
    },
    {
     "name": "stderr",
     "output_type": "stream",
     "text": [
      "/var/folders/_c/g4nn9vsd285_gcjw3nh8c8kr0000gn/T/ipykernel_51156/934830016.py:11: FutureWarning: The frame.append method is deprecated and will be removed from pandas in a future version. Use pandas.concat instead.\n",
      "  confpd = confpd.append([sum])\n",
      "/var/folders/_c/g4nn9vsd285_gcjw3nh8c8kr0000gn/T/ipykernel_51156/934830016.py:11: FutureWarning: The frame.append method is deprecated and will be removed from pandas in a future version. Use pandas.concat instead.\n",
      "  confpd = confpd.append([sum])\n",
      "/var/folders/_c/g4nn9vsd285_gcjw3nh8c8kr0000gn/T/ipykernel_51156/934830016.py:11: FutureWarning: The frame.append method is deprecated and will be removed from pandas in a future version. Use pandas.concat instead.\n",
      "  confpd = confpd.append([sum])\n",
      "/var/folders/_c/g4nn9vsd285_gcjw3nh8c8kr0000gn/T/ipykernel_51156/934830016.py:11: FutureWarning: The frame.append method is deprecated and will be removed from pandas in a future version. Use pandas.concat instead.\n",
      "  confpd = confpd.append([sum])\n",
      "/var/folders/_c/g4nn9vsd285_gcjw3nh8c8kr0000gn/T/ipykernel_51156/934830016.py:11: FutureWarning: The frame.append method is deprecated and will be removed from pandas in a future version. Use pandas.concat instead.\n",
      "  confpd = confpd.append([sum])\n",
      "/var/folders/_c/g4nn9vsd285_gcjw3nh8c8kr0000gn/T/ipykernel_51156/934830016.py:11: FutureWarning: The frame.append method is deprecated and will be removed from pandas in a future version. Use pandas.concat instead.\n",
      "  confpd = confpd.append([sum])\n",
      "/var/folders/_c/g4nn9vsd285_gcjw3nh8c8kr0000gn/T/ipykernel_51156/934830016.py:11: FutureWarning: The frame.append method is deprecated and will be removed from pandas in a future version. Use pandas.concat instead.\n",
      "  confpd = confpd.append([sum])\n",
      "/var/folders/_c/g4nn9vsd285_gcjw3nh8c8kr0000gn/T/ipykernel_51156/934830016.py:11: FutureWarning: The frame.append method is deprecated and will be removed from pandas in a future version. Use pandas.concat instead.\n",
      "  confpd = confpd.append([sum])\n",
      "/var/folders/_c/g4nn9vsd285_gcjw3nh8c8kr0000gn/T/ipykernel_51156/934830016.py:11: FutureWarning: The frame.append method is deprecated and will be removed from pandas in a future version. Use pandas.concat instead.\n",
      "  confpd = confpd.append([sum])\n",
      "/var/folders/_c/g4nn9vsd285_gcjw3nh8c8kr0000gn/T/ipykernel_51156/934830016.py:11: FutureWarning: The frame.append method is deprecated and will be removed from pandas in a future version. Use pandas.concat instead.\n",
      "  confpd = confpd.append([sum])\n",
      "/var/folders/_c/g4nn9vsd285_gcjw3nh8c8kr0000gn/T/ipykernel_51156/934830016.py:11: FutureWarning: The frame.append method is deprecated and will be removed from pandas in a future version. Use pandas.concat instead.\n",
      "  confpd = confpd.append([sum])\n",
      "/var/folders/_c/g4nn9vsd285_gcjw3nh8c8kr0000gn/T/ipykernel_51156/934830016.py:11: FutureWarning: The frame.append method is deprecated and will be removed from pandas in a future version. Use pandas.concat instead.\n",
      "  confpd = confpd.append([sum])\n",
      "/var/folders/_c/g4nn9vsd285_gcjw3nh8c8kr0000gn/T/ipykernel_51156/934830016.py:11: FutureWarning: The frame.append method is deprecated and will be removed from pandas in a future version. Use pandas.concat instead.\n",
      "  confpd = confpd.append([sum])\n"
     ]
    },
    {
     "name": "stdout",
     "output_type": "stream",
     "text": [
      "X_train,  (2868, 2) y_train,  (2868,) X_test:  (7132, 2) y_test:  (7132,)\n",
      "X_train,  (2394, 2) y_train,  (2394,) X_test:  (7606, 2) y_test:  (7606,)\n",
      "X_train,  (1921, 2) y_train,  (1921,) X_test:  (8079, 2) y_test:  (8079,)\n",
      "X_train,  (1447, 2) y_train,  (1447,) X_test:  (8553, 2) y_test:  (8553,)\n",
      "X_train,  (973, 2) y_train,  (973,) X_test:  (9027, 2) y_test:  (9027,)\n",
      "X_train,  (500, 2) y_train,  (500,) X_test:  (9500, 2) y_test:  (9500,)\n"
     ]
    },
    {
     "name": "stderr",
     "output_type": "stream",
     "text": [
      "/var/folders/_c/g4nn9vsd285_gcjw3nh8c8kr0000gn/T/ipykernel_51156/934830016.py:11: FutureWarning: The frame.append method is deprecated and will be removed from pandas in a future version. Use pandas.concat instead.\n",
      "  confpd = confpd.append([sum])\n",
      "/var/folders/_c/g4nn9vsd285_gcjw3nh8c8kr0000gn/T/ipykernel_51156/934830016.py:11: FutureWarning: The frame.append method is deprecated and will be removed from pandas in a future version. Use pandas.concat instead.\n",
      "  confpd = confpd.append([sum])\n",
      "/var/folders/_c/g4nn9vsd285_gcjw3nh8c8kr0000gn/T/ipykernel_51156/934830016.py:11: FutureWarning: The frame.append method is deprecated and will be removed from pandas in a future version. Use pandas.concat instead.\n",
      "  confpd = confpd.append([sum])\n",
      "/var/folders/_c/g4nn9vsd285_gcjw3nh8c8kr0000gn/T/ipykernel_51156/934830016.py:11: FutureWarning: The frame.append method is deprecated and will be removed from pandas in a future version. Use pandas.concat instead.\n",
      "  confpd = confpd.append([sum])\n",
      "/var/folders/_c/g4nn9vsd285_gcjw3nh8c8kr0000gn/T/ipykernel_51156/934830016.py:11: FutureWarning: The frame.append method is deprecated and will be removed from pandas in a future version. Use pandas.concat instead.\n",
      "  confpd = confpd.append([sum])\n",
      "/var/folders/_c/g4nn9vsd285_gcjw3nh8c8kr0000gn/T/ipykernel_51156/934830016.py:11: FutureWarning: The frame.append method is deprecated and will be removed from pandas in a future version. Use pandas.concat instead.\n",
      "  confpd = confpd.append([sum])\n",
      "/var/folders/_c/g4nn9vsd285_gcjw3nh8c8kr0000gn/T/ipykernel_51156/934830016.py:11: FutureWarning: The frame.append method is deprecated and will be removed from pandas in a future version. Use pandas.concat instead.\n",
      "  confpd = confpd.append([sum])\n"
     ]
    }
   ],
   "source": [
    "X = dfX[['income', 'balance']]\n",
    "y = dfy\n",
    "confpd = pd.DataFrame()\n",
    "for i in sample:\n",
    "    X_train, X_test, y_train, y_test = train_test_split(X, y, test_size=i, random_state=42)\n",
    "    print(\"X_train, \", X_train.shape, \"y_train, \", y_train.shape, \"X_test: \", X_test.shape, \"y_test: \", y_test.shape)\n",
    "    glmfit = LogisticRegression(solver='liblinear').fit(X_train, y_train)\n",
    "    glmpred = glmfit.predict(X_test)\n",
    "    conf_mat = confusion_matrix(y_test, glmpred)\n",
    "    sum = round((conf_mat[0][1] + conf_mat[1][0]) / y_train.shape[0], 4)\n",
    "    confpd = confpd.append([sum])"
   ]
  },
  {
   "cell_type": "code",
   "execution_count": 25,
   "metadata": {},
   "outputs": [],
   "source": [
    "confpd.reset_index(drop=True, inplace=True)"
   ]
  },
  {
   "cell_type": "code",
   "execution_count": 26,
   "metadata": {},
   "outputs": [],
   "source": [
    "confpd.columns = ['Error']"
   ]
  },
  {
   "cell_type": "code",
   "execution_count": 27,
   "metadata": {},
   "outputs": [
    {
     "data": {
      "text/html": [
       "<div>\n",
       "<style scoped>\n",
       "    .dataframe tbody tr th:only-of-type {\n",
       "        vertical-align: middle;\n",
       "    }\n",
       "\n",
       "    .dataframe tbody tr th {\n",
       "        vertical-align: top;\n",
       "    }\n",
       "\n",
       "    .dataframe thead th {\n",
       "        text-align: right;\n",
       "    }\n",
       "</style>\n",
       "<table border=\"1\" class=\"dataframe\">\n",
       "  <thead>\n",
       "    <tr style=\"text-align: right;\">\n",
       "      <th></th>\n",
       "      <th>Error</th>\n",
       "    </tr>\n",
       "  </thead>\n",
       "  <tbody>\n",
       "    <tr>\n",
       "      <th>0</th>\n",
       "      <td>0.0022</td>\n",
       "    </tr>\n",
       "    <tr>\n",
       "      <th>1</th>\n",
       "      <td>0.0044</td>\n",
       "    </tr>\n",
       "    <tr>\n",
       "      <th>2</th>\n",
       "      <td>0.0067</td>\n",
       "    </tr>\n",
       "    <tr>\n",
       "      <th>3</th>\n",
       "      <td>0.0084</td>\n",
       "    </tr>\n",
       "    <tr>\n",
       "      <th>4</th>\n",
       "      <td>0.0104</td>\n",
       "    </tr>\n",
       "  </tbody>\n",
       "</table>\n",
       "</div>"
      ],
      "text/plain": [
       "    Error\n",
       "0  0.0022\n",
       "1  0.0044\n",
       "2  0.0067\n",
       "3  0.0084\n",
       "4  0.0104"
      ]
     },
     "execution_count": 27,
     "metadata": {},
     "output_type": "execute_result"
    }
   ],
   "source": [
    "confpd.head()"
   ]
  },
  {
   "cell_type": "code",
   "execution_count": 28,
   "metadata": {},
   "outputs": [
    {
     "data": {
      "text/plain": [
       "Error    0.090905\n",
       "dtype: float64"
      ]
     },
     "execution_count": 28,
     "metadata": {},
     "output_type": "execute_result"
    }
   ],
   "source": [
    "confpd.mean()"
   ]
  },
  {
   "cell_type": "code",
   "execution_count": 29,
   "metadata": {},
   "outputs": [
    {
     "data": {
      "text/plain": [
       "Text(0.5, 0, 'split%')"
      ]
     },
     "execution_count": 29,
     "metadata": {},
     "output_type": "execute_result"
    },
    {
     "data": {
      "image/png": "[encoded data removed]",
      "text/plain": [
       "<Figure size 2500x1000 with 1 Axes>"
      ]
     },
     "metadata": {},
     "output_type": "display_data"
    }
   ],
   "source": [
    "# plt.xkcd()\n",
    "plt.figure(figsize = (25, 10))\n",
    "plt.plot(confpd, marker = 'o', markersize = 10)\n",
    "plt.title(\"split% vs error rates\")\n",
    "plt.ylabel(\"error rates\")\n",
    "plt.xlabel(\"split%\")"
   ]
  },
  {
   "cell_type": "markdown",
   "metadata": {},
   "source": [
    "**We notice that the error rate asymptotically settle around ~0.62, but the growth really begins to plateau around 0.2.**"
   ]
  },
  {
   "cell_type": "markdown",
   "metadata": {},
   "source": [
    "### 5.d. Fitting a logistic regression using income, balance and a dummy variable for student"
   ]
  },
  {
   "cell_type": "code",
   "execution_count": 30,
   "metadata": {},
   "outputs": [],
   "source": [
    "X = dfX # no need to change since dfX already incorporates the dummy variable transformation for 'student'\n",
    "y = dfy"
   ]
  },
  {
   "cell_type": "markdown",
   "metadata": {},
   "source": [
    "#### Using the validation set approach"
   ]
  },
  {
   "cell_type": "code",
   "execution_count": 31,
   "metadata": {},
   "outputs": [],
   "source": [
    "X_train, X_test, y_train, y_test = train_test_split(X, y, test_size=0.3, random_state=42)"
   ]
  },
  {
   "cell_type": "code",
   "execution_count": 32,
   "metadata": {},
   "outputs": [],
   "source": [
    "glmfit = LogisticRegression(solver='liblinear').fit(X_train, y_train)"
   ]
  },
  {
   "cell_type": "code",
   "execution_count": 33,
   "metadata": {},
   "outputs": [],
   "source": [
    "glmpred = glmfit.predict(X_test)"
   ]
  },
  {
   "cell_type": "code",
   "execution_count": 34,
   "metadata": {},
   "outputs": [
    {
     "data": {
      "text/plain": [
       "array([[2905,    1],\n",
       "       [  94,    0]])"
      ]
     },
     "execution_count": 34,
     "metadata": {},
     "output_type": "execute_result"
    }
   ],
   "source": [
    "confusion_matrix(y_test, glmpred)"
   ]
  },
  {
   "cell_type": "code",
   "execution_count": 35,
   "metadata": {},
   "outputs": [
    {
     "data": {
      "text/plain": [
       "0.046"
      ]
     },
     "execution_count": 35,
     "metadata": {},
     "output_type": "execute_result"
    }
   ],
   "source": [
    "round((conf_mat[0][1] + conf_mat[1][0]) / y_train.shape[0], 4)"
   ]
  },
  {
   "cell_type": "markdown",
   "metadata": {},
   "source": [
    "#### Checking for multiple splits"
   ]
  },
  {
   "cell_type": "code",
   "execution_count": 36,
   "metadata": {},
   "outputs": [
    {
     "data": {
      "text/plain": [
       "array([0.05      , 0.09736842, 0.14473684, 0.19210526, 0.23947368,\n",
       "       0.28684211, 0.33421053, 0.38157895, 0.42894737, 0.47631579,\n",
       "       0.52368421, 0.57105263, 0.61842105, 0.66578947, 0.71315789,\n",
       "       0.76052632, 0.80789474, 0.85526316, 0.90263158, 0.95      ])"
      ]
     },
     "execution_count": 36,
     "metadata": {},
     "output_type": "execute_result"
    }
   ],
   "source": [
    "sample = np.linspace(start = 0.05, stop = 0.95, num = 20)\n",
    "sample"
   ]
  },
  {
   "cell_type": "code",
   "execution_count": 37,
   "metadata": {},
   "outputs": [
    {
     "name": "stdout",
     "output_type": "stream",
     "text": [
      "X_train,  (9500, 3) y_train,  (9500,) X_test:  (500, 3) y_test:  (500,)\n",
      "X_train,  (9026, 3) y_train,  (9026,) X_test:  (974, 3) y_test:  (974,)\n",
      "X_train,  (8552, 3) y_train,  (8552,) X_test:  (1448, 3) y_test:  (1448,)\n",
      "X_train,  (8078, 3) y_train,  (8078,) X_test:  (1922, 3) y_test:  (1922,)\n",
      "X_train,  (7605, 3) y_train,  (7605,) X_test:  (2395, 3) y_test:  (2395,)\n",
      "X_train,  (7131, 3) y_train,  (7131,) X_test:  (2869, 3) y_test:  (2869,)\n",
      "X_train,  (6657, 3) y_train,  (6657,) X_test:  (3343, 3) y_test:  (3343,)\n",
      "X_train,  (6184, 3) y_train,  (6184,) X_test:  (3816, 3) y_test:  (3816,)\n",
      "X_train,  (5710, 3) y_train,  (5710,) X_test:  (4290, 3) y_test:  (4290,)\n",
      "X_train,  (5236, 3) y_train,  (5236,) X_test:  (4764, 3) y_test:  (4764,)\n",
      "X_train,  (4763, 3) y_train,  (4763,) X_test:  (5237, 3) y_test:  (5237,)\n",
      "X_train,  (4289, 3) y_train,  (4289,) X_test:  (5711, 3) y_test:  (5711,)\n",
      "X_train,  (3815, 3) y_train,  (3815,) X_test:  (6185, 3) y_test:  (6185,)\n",
      "X_train,  (3342, 3) y_train,  (3342,) X_test:  (6658, 3) y_test:  (6658,)\n"
     ]
    },
    {
     "name": "stderr",
     "output_type": "stream",
     "text": [
      "/var/folders/_c/g4nn9vsd285_gcjw3nh8c8kr0000gn/T/ipykernel_51156/1052828872.py:11: FutureWarning: The frame.append method is deprecated and will be removed from pandas in a future version. Use pandas.concat instead.\n",
      "  confpd = confpd.append([sum])\n",
      "/var/folders/_c/g4nn9vsd285_gcjw3nh8c8kr0000gn/T/ipykernel_51156/1052828872.py:11: FutureWarning: The frame.append method is deprecated and will be removed from pandas in a future version. Use pandas.concat instead.\n",
      "  confpd = confpd.append([sum])\n",
      "/var/folders/_c/g4nn9vsd285_gcjw3nh8c8kr0000gn/T/ipykernel_51156/1052828872.py:11: FutureWarning: The frame.append method is deprecated and will be removed from pandas in a future version. Use pandas.concat instead.\n",
      "  confpd = confpd.append([sum])\n",
      "/var/folders/_c/g4nn9vsd285_gcjw3nh8c8kr0000gn/T/ipykernel_51156/1052828872.py:11: FutureWarning: The frame.append method is deprecated and will be removed from pandas in a future version. Use pandas.concat instead.\n",
      "  confpd = confpd.append([sum])\n",
      "/var/folders/_c/g4nn9vsd285_gcjw3nh8c8kr0000gn/T/ipykernel_51156/1052828872.py:11: FutureWarning: The frame.append method is deprecated and will be removed from pandas in a future version. Use pandas.concat instead.\n",
      "  confpd = confpd.append([sum])\n",
      "/var/folders/_c/g4nn9vsd285_gcjw3nh8c8kr0000gn/T/ipykernel_51156/1052828872.py:11: FutureWarning: The frame.append method is deprecated and will be removed from pandas in a future version. Use pandas.concat instead.\n",
      "  confpd = confpd.append([sum])\n",
      "/var/folders/_c/g4nn9vsd285_gcjw3nh8c8kr0000gn/T/ipykernel_51156/1052828872.py:11: FutureWarning: The frame.append method is deprecated and will be removed from pandas in a future version. Use pandas.concat instead.\n",
      "  confpd = confpd.append([sum])\n",
      "/var/folders/_c/g4nn9vsd285_gcjw3nh8c8kr0000gn/T/ipykernel_51156/1052828872.py:11: FutureWarning: The frame.append method is deprecated and will be removed from pandas in a future version. Use pandas.concat instead.\n",
      "  confpd = confpd.append([sum])\n",
      "/var/folders/_c/g4nn9vsd285_gcjw3nh8c8kr0000gn/T/ipykernel_51156/1052828872.py:11: FutureWarning: The frame.append method is deprecated and will be removed from pandas in a future version. Use pandas.concat instead.\n",
      "  confpd = confpd.append([sum])\n",
      "/var/folders/_c/g4nn9vsd285_gcjw3nh8c8kr0000gn/T/ipykernel_51156/1052828872.py:11: FutureWarning: The frame.append method is deprecated and will be removed from pandas in a future version. Use pandas.concat instead.\n",
      "  confpd = confpd.append([sum])\n",
      "/var/folders/_c/g4nn9vsd285_gcjw3nh8c8kr0000gn/T/ipykernel_51156/1052828872.py:11: FutureWarning: The frame.append method is deprecated and will be removed from pandas in a future version. Use pandas.concat instead.\n",
      "  confpd = confpd.append([sum])\n",
      "/var/folders/_c/g4nn9vsd285_gcjw3nh8c8kr0000gn/T/ipykernel_51156/1052828872.py:11: FutureWarning: The frame.append method is deprecated and will be removed from pandas in a future version. Use pandas.concat instead.\n",
      "  confpd = confpd.append([sum])\n",
      "/var/folders/_c/g4nn9vsd285_gcjw3nh8c8kr0000gn/T/ipykernel_51156/1052828872.py:11: FutureWarning: The frame.append method is deprecated and will be removed from pandas in a future version. Use pandas.concat instead.\n",
      "  confpd = confpd.append([sum])\n"
     ]
    },
    {
     "name": "stdout",
     "output_type": "stream",
     "text": [
      "X_train,  (2868, 3) y_train,  (2868,) X_test:  (7132, 3) y_test:  (7132,)\n",
      "X_train,  (2394, 3) y_train,  (2394,) X_test:  (7606, 3) y_test:  (7606,)\n",
      "X_train,  (1921, 3) y_train,  (1921,) X_test:  (8079, 3) y_test:  (8079,)\n",
      "X_train,  (1447, 3) y_train,  (1447,) X_test:  (8553, 3) y_test:  (8553,)\n",
      "X_train,  (973, 3) y_train,  (973,) X_test:  (9027, 3) y_test:  (9027,)\n",
      "X_train,  (500, 3) y_train,  (500,) X_test:  (9500, 3) y_test:  (9500,)\n"
     ]
    },
    {
     "name": "stderr",
     "output_type": "stream",
     "text": [
      "/var/folders/_c/g4nn9vsd285_gcjw3nh8c8kr0000gn/T/ipykernel_51156/1052828872.py:11: FutureWarning: The frame.append method is deprecated and will be removed from pandas in a future version. Use pandas.concat instead.\n",
      "  confpd = confpd.append([sum])\n",
      "/var/folders/_c/g4nn9vsd285_gcjw3nh8c8kr0000gn/T/ipykernel_51156/1052828872.py:11: FutureWarning: The frame.append method is deprecated and will be removed from pandas in a future version. Use pandas.concat instead.\n",
      "  confpd = confpd.append([sum])\n",
      "/var/folders/_c/g4nn9vsd285_gcjw3nh8c8kr0000gn/T/ipykernel_51156/1052828872.py:11: FutureWarning: The frame.append method is deprecated and will be removed from pandas in a future version. Use pandas.concat instead.\n",
      "  confpd = confpd.append([sum])\n",
      "/var/folders/_c/g4nn9vsd285_gcjw3nh8c8kr0000gn/T/ipykernel_51156/1052828872.py:11: FutureWarning: The frame.append method is deprecated and will be removed from pandas in a future version. Use pandas.concat instead.\n",
      "  confpd = confpd.append([sum])\n",
      "/var/folders/_c/g4nn9vsd285_gcjw3nh8c8kr0000gn/T/ipykernel_51156/1052828872.py:11: FutureWarning: The frame.append method is deprecated and will be removed from pandas in a future version. Use pandas.concat instead.\n",
      "  confpd = confpd.append([sum])\n",
      "/var/folders/_c/g4nn9vsd285_gcjw3nh8c8kr0000gn/T/ipykernel_51156/1052828872.py:11: FutureWarning: The frame.append method is deprecated and will be removed from pandas in a future version. Use pandas.concat instead.\n",
      "  confpd = confpd.append([sum])\n",
      "/var/folders/_c/g4nn9vsd285_gcjw3nh8c8kr0000gn/T/ipykernel_51156/1052828872.py:11: FutureWarning: The frame.append method is deprecated and will be removed from pandas in a future version. Use pandas.concat instead.\n",
      "  confpd = confpd.append([sum])\n"
     ]
    }
   ],
   "source": [
    "X = dfX\n",
    "y = dfy\n",
    "confpd = pd.DataFrame()\n",
    "for i in sample:\n",
    "    X_train, X_test, y_train, y_test = train_test_split(X, y, test_size=i, random_state=42)\n",
    "    print(\"X_train, \", X_train.shape, \"y_train, \", y_train.shape, \"X_test: \", X_test.shape, \"y_test: \", y_test.shape)\n",
    "    glmfit = LogisticRegression(solver='liblinear').fit(X_train, y_train)\n",
    "    glmpred = glmfit.predict(X_test)\n",
    "    conf_mat = confusion_matrix(y_test, glmpred)\n",
    "    sum = round((conf_mat[0][1] + conf_mat[1][0]) / y_train.shape[0], 4)\n",
    "    confpd = confpd.append([sum])"
   ]
  },
  {
   "cell_type": "code",
   "execution_count": 38,
   "metadata": {},
   "outputs": [
    {
     "data": {
      "text/html": [
       "<div>\n",
       "<style scoped>\n",
       "    .dataframe tbody tr th:only-of-type {\n",
       "        vertical-align: middle;\n",
       "    }\n",
       "\n",
       "    .dataframe tbody tr th {\n",
       "        vertical-align: top;\n",
       "    }\n",
       "\n",
       "    .dataframe thead th {\n",
       "        text-align: right;\n",
       "    }\n",
       "</style>\n",
       "<table border=\"1\" class=\"dataframe\">\n",
       "  <thead>\n",
       "    <tr style=\"text-align: right;\">\n",
       "      <th></th>\n",
       "      <th>Error</th>\n",
       "    </tr>\n",
       "  </thead>\n",
       "  <tbody>\n",
       "    <tr>\n",
       "      <th>0</th>\n",
       "      <td>0.0022</td>\n",
       "    </tr>\n",
       "    <tr>\n",
       "      <th>1</th>\n",
       "      <td>0.0044</td>\n",
       "    </tr>\n",
       "    <tr>\n",
       "      <th>2</th>\n",
       "      <td>0.0067</td>\n",
       "    </tr>\n",
       "    <tr>\n",
       "      <th>3</th>\n",
       "      <td>0.0084</td>\n",
       "    </tr>\n",
       "    <tr>\n",
       "      <th>4</th>\n",
       "      <td>0.0104</td>\n",
       "    </tr>\n",
       "  </tbody>\n",
       "</table>\n",
       "</div>"
      ],
      "text/plain": [
       "    Error\n",
       "0  0.0022\n",
       "1  0.0044\n",
       "2  0.0067\n",
       "3  0.0084\n",
       "4  0.0104"
      ]
     },
     "execution_count": 38,
     "metadata": {},
     "output_type": "execute_result"
    }
   ],
   "source": [
    "confpd.reset_index(drop=True, inplace=True)\n",
    "confpd.columns = ['Error']\n",
    "confpd.head()"
   ]
  },
  {
   "cell_type": "code",
   "execution_count": 39,
   "metadata": {},
   "outputs": [
    {
     "data": {
      "text/plain": [
       "Error    0.090905\n",
       "dtype: float64"
      ]
     },
     "execution_count": 39,
     "metadata": {},
     "output_type": "execute_result"
    }
   ],
   "source": [
    "confpd.mean()"
   ]
  },
  {
   "cell_type": "code",
   "execution_count": 40,
   "metadata": {},
   "outputs": [
    {
     "data": {
      "text/plain": [
       "Text(0.5, 0, 'split%')"
      ]
     },
     "execution_count": 40,
     "metadata": {},
     "output_type": "execute_result"
    },
    {
     "data": {
      "image/png": "[encoded data removed]",
      "text/plain": [
       "<Figure size 2500x1000 with 1 Axes>"
      ]
     },
     "metadata": {},
     "output_type": "display_data"
    }
   ],
   "source": [
    "# plt.xkcd()\n",
    "plt.figure(figsize = (25, 10))\n",
    "plt.plot(confpd, marker = 'o', markersize = 10)\n",
    "plt.title(\"split% vs error rates\")\n",
    "plt.ylabel(\"error rates\")\n",
    "plt.xlabel(\"split%\")"
   ]
  },
  {
   "cell_type": "markdown",
   "metadata": {},
   "source": [
    "**We notice the same graph as that for logit without the dummy variable. So, we can conclude that the dummy variable\n",
    "does not lead to a reduction in the test error rate**"
   ]
  }
 ],
 "metadata": {
  "kernelspec": {
   "display_name": "Python 3",
   "language": "python",
   "name": "python3"
  },
  "language_info": {
   "codemirror_mode": {
    "name": "ipython",
    "version": 3
   },
   "file_extension": ".py",
   "mimetype": "text/x-python",
   "name": "python",
   "nbconvert_exporter": "python",
   "pygments_lexer": "ipython3",
   "version": "3.9.16"
  }
 },
 "nbformat": 4,
 "nbformat_minor": 2
}
